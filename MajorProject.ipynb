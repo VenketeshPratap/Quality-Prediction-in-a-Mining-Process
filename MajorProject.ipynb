{
 "cells": [
  {
   "cell_type": "markdown",
   "metadata": {},
   "source": [
    "# Team-27(Project)"
   ]
  },
  {
   "cell_type": "markdown",
   "metadata": {},
   "source": [
    "# Task_62740 (Importing Libraries)"
   ]
  },
  {
   "cell_type": "code",
   "execution_count": 1,
   "metadata": {},
   "outputs": [],
   "source": [
    "import pandas as pd\n",
    "import numpy as np\n",
    "from sklearn.model_selection import train_test_split\n",
    "from sklearn.preprocessing import LabelEncoder\n",
    "from sklearn.compose import ColumnTransformer\n",
    "from sklearn.preprocessing import OneHotEncoder\n",
    "import matplotlib.pyplot as plt\n",
    "import seaborn as sns\n",
    "from sklearn.linear_model import LinearRegression\n",
    "from sklearn.preprocessing import StandardScaler\n",
    "from sklearn.ensemble import RandomForestRegressor"
   ]
  },
  {
   "cell_type": "markdown",
   "metadata": {},
   "source": [
    "# Task_62741 (Importing Dataset)"
   ]
  },
  {
   "cell_type": "code",
   "execution_count": 2,
   "metadata": {},
   "outputs": [
    {
     "data": {
      "text/html": [
       "<div>\n",
       "<style scoped>\n",
       "    .dataframe tbody tr th:only-of-type {\n",
       "        vertical-align: middle;\n",
       "    }\n",
       "\n",
       "    .dataframe tbody tr th {\n",
       "        vertical-align: top;\n",
       "    }\n",
       "\n",
       "    .dataframe thead th {\n",
       "        text-align: right;\n",
       "    }\n",
       "</style>\n",
       "<table border=\"1\" class=\"dataframe\">\n",
       "  <thead>\n",
       "    <tr style=\"text-align: right;\">\n",
       "      <th></th>\n",
       "      <th>date</th>\n",
       "      <th>% Iron Feed</th>\n",
       "      <th>% Silica Feed</th>\n",
       "      <th>Starch Flow</th>\n",
       "      <th>Amina Flow</th>\n",
       "      <th>Ore Pulp Flow</th>\n",
       "      <th>Ore Pulp pH</th>\n",
       "      <th>Ore Pulp Density</th>\n",
       "      <th>Flotation Column 01 Air Flow</th>\n",
       "      <th>Flotation Column 02 Air Flow</th>\n",
       "      <th>...</th>\n",
       "      <th>Flotation Column 07 Air Flow</th>\n",
       "      <th>Flotation Column 01 Level</th>\n",
       "      <th>Flotation Column 02 Level</th>\n",
       "      <th>Flotation Column 03 Level</th>\n",
       "      <th>Flotation Column 04 Level</th>\n",
       "      <th>Flotation Column 05 Level</th>\n",
       "      <th>Flotation Column 06 Level</th>\n",
       "      <th>Flotation Column 07 Level</th>\n",
       "      <th>% Iron Concentrate</th>\n",
       "      <th>% Silica Concentrate</th>\n",
       "    </tr>\n",
       "  </thead>\n",
       "  <tbody>\n",
       "    <tr>\n",
       "      <th>0</th>\n",
       "      <td>2017-03-10 01:00:00</td>\n",
       "      <td>55,2</td>\n",
       "      <td>16,98</td>\n",
       "      <td>3019,53</td>\n",
       "      <td>557,434</td>\n",
       "      <td>395,713</td>\n",
       "      <td>10,0664</td>\n",
       "      <td>1,74</td>\n",
       "      <td>249,214</td>\n",
       "      <td>253,235</td>\n",
       "      <td>...</td>\n",
       "      <td>250,884</td>\n",
       "      <td>457,396</td>\n",
       "      <td>432,962</td>\n",
       "      <td>424,954</td>\n",
       "      <td>443,558</td>\n",
       "      <td>502,255</td>\n",
       "      <td>446,37</td>\n",
       "      <td>523,344</td>\n",
       "      <td>66,91</td>\n",
       "      <td>1,31</td>\n",
       "    </tr>\n",
       "    <tr>\n",
       "      <th>1</th>\n",
       "      <td>2017-03-10 01:00:00</td>\n",
       "      <td>55,2</td>\n",
       "      <td>16,98</td>\n",
       "      <td>3024,41</td>\n",
       "      <td>563,965</td>\n",
       "      <td>397,383</td>\n",
       "      <td>10,0672</td>\n",
       "      <td>1,74</td>\n",
       "      <td>249,719</td>\n",
       "      <td>250,532</td>\n",
       "      <td>...</td>\n",
       "      <td>248,994</td>\n",
       "      <td>451,891</td>\n",
       "      <td>429,56</td>\n",
       "      <td>432,939</td>\n",
       "      <td>448,086</td>\n",
       "      <td>496,363</td>\n",
       "      <td>445,922</td>\n",
       "      <td>498,075</td>\n",
       "      <td>66,91</td>\n",
       "      <td>1,31</td>\n",
       "    </tr>\n",
       "    <tr>\n",
       "      <th>2</th>\n",
       "      <td>2017-03-10 01:00:00</td>\n",
       "      <td>55,2</td>\n",
       "      <td>16,98</td>\n",
       "      <td>3043,46</td>\n",
       "      <td>568,054</td>\n",
       "      <td>399,668</td>\n",
       "      <td>10,068</td>\n",
       "      <td>1,74</td>\n",
       "      <td>249,741</td>\n",
       "      <td>247,874</td>\n",
       "      <td>...</td>\n",
       "      <td>248,071</td>\n",
       "      <td>451,24</td>\n",
       "      <td>468,927</td>\n",
       "      <td>434,61</td>\n",
       "      <td>449,688</td>\n",
       "      <td>484,411</td>\n",
       "      <td>447,826</td>\n",
       "      <td>458,567</td>\n",
       "      <td>66,91</td>\n",
       "      <td>1,31</td>\n",
       "    </tr>\n",
       "    <tr>\n",
       "      <th>3</th>\n",
       "      <td>2017-03-10 01:00:00</td>\n",
       "      <td>55,2</td>\n",
       "      <td>16,98</td>\n",
       "      <td>3047,36</td>\n",
       "      <td>568,665</td>\n",
       "      <td>397,939</td>\n",
       "      <td>10,0689</td>\n",
       "      <td>1,74</td>\n",
       "      <td>249,917</td>\n",
       "      <td>254,487</td>\n",
       "      <td>...</td>\n",
       "      <td>251,147</td>\n",
       "      <td>452,441</td>\n",
       "      <td>458,165</td>\n",
       "      <td>442,865</td>\n",
       "      <td>446,21</td>\n",
       "      <td>471,411</td>\n",
       "      <td>437,69</td>\n",
       "      <td>427,669</td>\n",
       "      <td>66,91</td>\n",
       "      <td>1,31</td>\n",
       "    </tr>\n",
       "    <tr>\n",
       "      <th>4</th>\n",
       "      <td>2017-03-10 01:00:00</td>\n",
       "      <td>55,2</td>\n",
       "      <td>16,98</td>\n",
       "      <td>3033,69</td>\n",
       "      <td>558,167</td>\n",
       "      <td>400,254</td>\n",
       "      <td>10,0697</td>\n",
       "      <td>1,74</td>\n",
       "      <td>250,203</td>\n",
       "      <td>252,136</td>\n",
       "      <td>...</td>\n",
       "      <td>248,928</td>\n",
       "      <td>452,441</td>\n",
       "      <td>452,9</td>\n",
       "      <td>450,523</td>\n",
       "      <td>453,67</td>\n",
       "      <td>462,598</td>\n",
       "      <td>443,682</td>\n",
       "      <td>425,679</td>\n",
       "      <td>66,91</td>\n",
       "      <td>1,31</td>\n",
       "    </tr>\n",
       "    <tr>\n",
       "      <th>...</th>\n",
       "      <td>...</td>\n",
       "      <td>...</td>\n",
       "      <td>...</td>\n",
       "      <td>...</td>\n",
       "      <td>...</td>\n",
       "      <td>...</td>\n",
       "      <td>...</td>\n",
       "      <td>...</td>\n",
       "      <td>...</td>\n",
       "      <td>...</td>\n",
       "      <td>...</td>\n",
       "      <td>...</td>\n",
       "      <td>...</td>\n",
       "      <td>...</td>\n",
       "      <td>...</td>\n",
       "      <td>...</td>\n",
       "      <td>...</td>\n",
       "      <td>...</td>\n",
       "      <td>...</td>\n",
       "      <td>...</td>\n",
       "      <td>...</td>\n",
       "    </tr>\n",
       "    <tr>\n",
       "      <th>737448</th>\n",
       "      <td>2017-09-09 23:00:00</td>\n",
       "      <td>49,75</td>\n",
       "      <td>23,2</td>\n",
       "      <td>2710,94</td>\n",
       "      <td>441,052</td>\n",
       "      <td>386,57</td>\n",
       "      <td>9,62129</td>\n",
       "      <td>1,65365</td>\n",
       "      <td>302,344</td>\n",
       "      <td>298,786</td>\n",
       "      <td>...</td>\n",
       "      <td>313,695</td>\n",
       "      <td>392,16</td>\n",
       "      <td>430,702</td>\n",
       "      <td>872,008</td>\n",
       "      <td>418,725</td>\n",
       "      <td>497,548</td>\n",
       "      <td>446,357</td>\n",
       "      <td>416,892</td>\n",
       "      <td>64,27</td>\n",
       "      <td>1,71</td>\n",
       "    </tr>\n",
       "    <tr>\n",
       "      <th>737449</th>\n",
       "      <td>2017-09-09 23:00:00</td>\n",
       "      <td>49,75</td>\n",
       "      <td>23,2</td>\n",
       "      <td>2692,01</td>\n",
       "      <td>473,436</td>\n",
       "      <td>384,939</td>\n",
       "      <td>9,62063</td>\n",
       "      <td>1,65352</td>\n",
       "      <td>303,013</td>\n",
       "      <td>301,879</td>\n",
       "      <td>...</td>\n",
       "      <td>236,7</td>\n",
       "      <td>401,505</td>\n",
       "      <td>404,616</td>\n",
       "      <td>864,409</td>\n",
       "      <td>418,377</td>\n",
       "      <td>506,398</td>\n",
       "      <td>372,995</td>\n",
       "      <td>426,337</td>\n",
       "      <td>64,27</td>\n",
       "      <td>1,71</td>\n",
       "    </tr>\n",
       "    <tr>\n",
       "      <th>737450</th>\n",
       "      <td>2017-09-09 23:00:00</td>\n",
       "      <td>49,75</td>\n",
       "      <td>23,2</td>\n",
       "      <td>2692,2</td>\n",
       "      <td>500,488</td>\n",
       "      <td>383,496</td>\n",
       "      <td>9,61874</td>\n",
       "      <td>1,65338</td>\n",
       "      <td>303,662</td>\n",
       "      <td>307,397</td>\n",
       "      <td>...</td>\n",
       "      <td>225,879</td>\n",
       "      <td>408,899</td>\n",
       "      <td>399,316</td>\n",
       "      <td>867,598</td>\n",
       "      <td>419,531</td>\n",
       "      <td>503,414</td>\n",
       "      <td>336,035</td>\n",
       "      <td>433,13</td>\n",
       "      <td>64,27</td>\n",
       "      <td>1,71</td>\n",
       "    </tr>\n",
       "    <tr>\n",
       "      <th>737451</th>\n",
       "      <td>2017-09-09 23:00:00</td>\n",
       "      <td>49,75</td>\n",
       "      <td>23,2</td>\n",
       "      <td>1164,12</td>\n",
       "      <td>491,548</td>\n",
       "      <td>384,976</td>\n",
       "      <td>9,61686</td>\n",
       "      <td>1,65324</td>\n",
       "      <td>302,55</td>\n",
       "      <td>301,959</td>\n",
       "      <td>...</td>\n",
       "      <td>308,115</td>\n",
       "      <td>405,107</td>\n",
       "      <td>466,832</td>\n",
       "      <td>876,591</td>\n",
       "      <td>407,299</td>\n",
       "      <td>502,301</td>\n",
       "      <td>340,844</td>\n",
       "      <td>433,966</td>\n",
       "      <td>64,27</td>\n",
       "      <td>1,71</td>\n",
       "    </tr>\n",
       "    <tr>\n",
       "      <th>737452</th>\n",
       "      <td>2017-09-09 23:00:00</td>\n",
       "      <td>49,75</td>\n",
       "      <td>23,2</td>\n",
       "      <td>1164,12</td>\n",
       "      <td>468,019</td>\n",
       "      <td>384,801</td>\n",
       "      <td>9,61497</td>\n",
       "      <td>1,6531</td>\n",
       "      <td>300,355</td>\n",
       "      <td>292,865</td>\n",
       "      <td>...</td>\n",
       "      <td>308,115</td>\n",
       "      <td>413,754</td>\n",
       "      <td>514,143</td>\n",
       "      <td>881,323</td>\n",
       "      <td>378,969</td>\n",
       "      <td>500,1</td>\n",
       "      <td>374,354</td>\n",
       "      <td>441,182</td>\n",
       "      <td>64,27</td>\n",
       "      <td>1,71</td>\n",
       "    </tr>\n",
       "  </tbody>\n",
       "</table>\n",
       "<p>737453 rows × 24 columns</p>\n",
       "</div>"
      ],
      "text/plain": [
       "                       date % Iron Feed % Silica Feed Starch Flow Amina Flow  \\\n",
       "0       2017-03-10 01:00:00        55,2         16,98     3019,53    557,434   \n",
       "1       2017-03-10 01:00:00        55,2         16,98     3024,41    563,965   \n",
       "2       2017-03-10 01:00:00        55,2         16,98     3043,46    568,054   \n",
       "3       2017-03-10 01:00:00        55,2         16,98     3047,36    568,665   \n",
       "4       2017-03-10 01:00:00        55,2         16,98     3033,69    558,167   \n",
       "...                     ...         ...           ...         ...        ...   \n",
       "737448  2017-09-09 23:00:00       49,75          23,2     2710,94    441,052   \n",
       "737449  2017-09-09 23:00:00       49,75          23,2     2692,01    473,436   \n",
       "737450  2017-09-09 23:00:00       49,75          23,2      2692,2    500,488   \n",
       "737451  2017-09-09 23:00:00       49,75          23,2     1164,12    491,548   \n",
       "737452  2017-09-09 23:00:00       49,75          23,2     1164,12    468,019   \n",
       "\n",
       "       Ore Pulp Flow Ore Pulp pH Ore Pulp Density  \\\n",
       "0            395,713     10,0664             1,74   \n",
       "1            397,383     10,0672             1,74   \n",
       "2            399,668      10,068             1,74   \n",
       "3            397,939     10,0689             1,74   \n",
       "4            400,254     10,0697             1,74   \n",
       "...              ...         ...              ...   \n",
       "737448        386,57     9,62129          1,65365   \n",
       "737449       384,939     9,62063          1,65352   \n",
       "737450       383,496     9,61874          1,65338   \n",
       "737451       384,976     9,61686          1,65324   \n",
       "737452       384,801     9,61497           1,6531   \n",
       "\n",
       "       Flotation Column 01 Air Flow Flotation Column 02 Air Flow  ...  \\\n",
       "0                           249,214                      253,235  ...   \n",
       "1                           249,719                      250,532  ...   \n",
       "2                           249,741                      247,874  ...   \n",
       "3                           249,917                      254,487  ...   \n",
       "4                           250,203                      252,136  ...   \n",
       "...                             ...                          ...  ...   \n",
       "737448                      302,344                      298,786  ...   \n",
       "737449                      303,013                      301,879  ...   \n",
       "737450                      303,662                      307,397  ...   \n",
       "737451                       302,55                      301,959  ...   \n",
       "737452                      300,355                      292,865  ...   \n",
       "\n",
       "       Flotation Column 07 Air Flow Flotation Column 01 Level  \\\n",
       "0                           250,884                   457,396   \n",
       "1                           248,994                   451,891   \n",
       "2                           248,071                    451,24   \n",
       "3                           251,147                   452,441   \n",
       "4                           248,928                   452,441   \n",
       "...                             ...                       ...   \n",
       "737448                      313,695                    392,16   \n",
       "737449                        236,7                   401,505   \n",
       "737450                      225,879                   408,899   \n",
       "737451                      308,115                   405,107   \n",
       "737452                      308,115                   413,754   \n",
       "\n",
       "       Flotation Column 02 Level Flotation Column 03 Level  \\\n",
       "0                        432,962                   424,954   \n",
       "1                         429,56                   432,939   \n",
       "2                        468,927                    434,61   \n",
       "3                        458,165                   442,865   \n",
       "4                          452,9                   450,523   \n",
       "...                          ...                       ...   \n",
       "737448                   430,702                   872,008   \n",
       "737449                   404,616                   864,409   \n",
       "737450                   399,316                   867,598   \n",
       "737451                   466,832                   876,591   \n",
       "737452                   514,143                   881,323   \n",
       "\n",
       "       Flotation Column 04 Level Flotation Column 05 Level  \\\n",
       "0                        443,558                   502,255   \n",
       "1                        448,086                   496,363   \n",
       "2                        449,688                   484,411   \n",
       "3                         446,21                   471,411   \n",
       "4                         453,67                   462,598   \n",
       "...                          ...                       ...   \n",
       "737448                   418,725                   497,548   \n",
       "737449                   418,377                   506,398   \n",
       "737450                   419,531                   503,414   \n",
       "737451                   407,299                   502,301   \n",
       "737452                   378,969                     500,1   \n",
       "\n",
       "       Flotation Column 06 Level Flotation Column 07 Level % Iron Concentrate  \\\n",
       "0                         446,37                   523,344              66,91   \n",
       "1                        445,922                   498,075              66,91   \n",
       "2                        447,826                   458,567              66,91   \n",
       "3                         437,69                   427,669              66,91   \n",
       "4                        443,682                   425,679              66,91   \n",
       "...                          ...                       ...                ...   \n",
       "737448                   446,357                   416,892              64,27   \n",
       "737449                   372,995                   426,337              64,27   \n",
       "737450                   336,035                    433,13              64,27   \n",
       "737451                   340,844                   433,966              64,27   \n",
       "737452                   374,354                   441,182              64,27   \n",
       "\n",
       "       % Silica Concentrate  \n",
       "0                      1,31  \n",
       "1                      1,31  \n",
       "2                      1,31  \n",
       "3                      1,31  \n",
       "4                      1,31  \n",
       "...                     ...  \n",
       "737448                 1,71  \n",
       "737449                 1,71  \n",
       "737450                 1,71  \n",
       "737451                 1,71  \n",
       "737452                 1,71  \n",
       "\n",
       "[737453 rows x 24 columns]"
      ]
     },
     "execution_count": 2,
     "metadata": {},
     "output_type": "execute_result"
    }
   ],
   "source": [
    "path=pd.read_csv(r'C:\\Users\\USER\\Downloads\\MiningProcess_Flotation_Plant_Database.csv')\n",
    "path"
   ]
  },
  {
   "cell_type": "markdown",
   "metadata": {},
   "source": [
    "# Dataset Description"
   ]
  },
  {
   "cell_type": "code",
   "execution_count": 3,
   "metadata": {},
   "outputs": [
    {
     "data": {
      "text/html": [
       "<div>\n",
       "<style scoped>\n",
       "    .dataframe tbody tr th:only-of-type {\n",
       "        vertical-align: middle;\n",
       "    }\n",
       "\n",
       "    .dataframe tbody tr th {\n",
       "        vertical-align: top;\n",
       "    }\n",
       "\n",
       "    .dataframe thead th {\n",
       "        text-align: right;\n",
       "    }\n",
       "</style>\n",
       "<table border=\"1\" class=\"dataframe\">\n",
       "  <thead>\n",
       "    <tr style=\"text-align: right;\">\n",
       "      <th></th>\n",
       "      <th>date</th>\n",
       "      <th>% Iron Feed</th>\n",
       "      <th>% Silica Feed</th>\n",
       "      <th>Starch Flow</th>\n",
       "      <th>Amina Flow</th>\n",
       "      <th>Ore Pulp Flow</th>\n",
       "      <th>Ore Pulp pH</th>\n",
       "      <th>Ore Pulp Density</th>\n",
       "      <th>Flotation Column 01 Air Flow</th>\n",
       "      <th>Flotation Column 02 Air Flow</th>\n",
       "      <th>...</th>\n",
       "      <th>Flotation Column 07 Air Flow</th>\n",
       "      <th>Flotation Column 01 Level</th>\n",
       "      <th>Flotation Column 02 Level</th>\n",
       "      <th>Flotation Column 03 Level</th>\n",
       "      <th>Flotation Column 04 Level</th>\n",
       "      <th>Flotation Column 05 Level</th>\n",
       "      <th>Flotation Column 06 Level</th>\n",
       "      <th>Flotation Column 07 Level</th>\n",
       "      <th>% Iron Concentrate</th>\n",
       "      <th>% Silica Concentrate</th>\n",
       "    </tr>\n",
       "  </thead>\n",
       "  <tbody>\n",
       "    <tr>\n",
       "      <th>count</th>\n",
       "      <td>737453</td>\n",
       "      <td>737453</td>\n",
       "      <td>737453</td>\n",
       "      <td>737453</td>\n",
       "      <td>737453</td>\n",
       "      <td>737453</td>\n",
       "      <td>737453</td>\n",
       "      <td>737453</td>\n",
       "      <td>737453</td>\n",
       "      <td>737453</td>\n",
       "      <td>...</td>\n",
       "      <td>737453</td>\n",
       "      <td>737453</td>\n",
       "      <td>737453</td>\n",
       "      <td>737453</td>\n",
       "      <td>737453</td>\n",
       "      <td>737453</td>\n",
       "      <td>737453</td>\n",
       "      <td>737453</td>\n",
       "      <td>737453</td>\n",
       "      <td>737453</td>\n",
       "    </tr>\n",
       "    <tr>\n",
       "      <th>unique</th>\n",
       "      <td>4097</td>\n",
       "      <td>278</td>\n",
       "      <td>293</td>\n",
       "      <td>409317</td>\n",
       "      <td>319416</td>\n",
       "      <td>180189</td>\n",
       "      <td>131143</td>\n",
       "      <td>105805</td>\n",
       "      <td>43675</td>\n",
       "      <td>80442</td>\n",
       "      <td>...</td>\n",
       "      <td>86819</td>\n",
       "      <td>299573</td>\n",
       "      <td>331189</td>\n",
       "      <td>322315</td>\n",
       "      <td>309264</td>\n",
       "      <td>276051</td>\n",
       "      <td>301502</td>\n",
       "      <td>295667</td>\n",
       "      <td>38696</td>\n",
       "      <td>55569</td>\n",
       "    </tr>\n",
       "    <tr>\n",
       "      <th>top</th>\n",
       "      <td>2017-05-31 18:00:00</td>\n",
       "      <td>64,03</td>\n",
       "      <td>6,26</td>\n",
       "      <td>2562,5</td>\n",
       "      <td>534,668</td>\n",
       "      <td>402,246</td>\n",
       "      <td>10,0591</td>\n",
       "      <td>1,75</td>\n",
       "      <td>299,927</td>\n",
       "      <td>255,322</td>\n",
       "      <td>...</td>\n",
       "      <td>299,487</td>\n",
       "      <td>452,441</td>\n",
       "      <td>608,887</td>\n",
       "      <td>601,06</td>\n",
       "      <td>491,406</td>\n",
       "      <td>513,879</td>\n",
       "      <td>474,37</td>\n",
       "      <td>479,478</td>\n",
       "      <td>65,44</td>\n",
       "      <td>2,08</td>\n",
       "    </tr>\n",
       "    <tr>\n",
       "      <th>freq</th>\n",
       "      <td>180</td>\n",
       "      <td>142560</td>\n",
       "      <td>142560</td>\n",
       "      <td>690</td>\n",
       "      <td>959</td>\n",
       "      <td>1735</td>\n",
       "      <td>1509</td>\n",
       "      <td>3214</td>\n",
       "      <td>13683</td>\n",
       "      <td>1487</td>\n",
       "      <td>...</td>\n",
       "      <td>3405</td>\n",
       "      <td>1013</td>\n",
       "      <td>817</td>\n",
       "      <td>989</td>\n",
       "      <td>733</td>\n",
       "      <td>709</td>\n",
       "      <td>746</td>\n",
       "      <td>905</td>\n",
       "      <td>16920</td>\n",
       "      <td>17100</td>\n",
       "    </tr>\n",
       "  </tbody>\n",
       "</table>\n",
       "<p>4 rows × 24 columns</p>\n",
       "</div>"
      ],
      "text/plain": [
       "                       date % Iron Feed % Silica Feed Starch Flow Amina Flow  \\\n",
       "count                737453      737453        737453      737453     737453   \n",
       "unique                 4097         278           293      409317     319416   \n",
       "top     2017-05-31 18:00:00       64,03          6,26      2562,5    534,668   \n",
       "freq                    180      142560        142560         690        959   \n",
       "\n",
       "       Ore Pulp Flow Ore Pulp pH Ore Pulp Density  \\\n",
       "count         737453      737453           737453   \n",
       "unique        180189      131143           105805   \n",
       "top          402,246     10,0591             1,75   \n",
       "freq            1735        1509             3214   \n",
       "\n",
       "       Flotation Column 01 Air Flow Flotation Column 02 Air Flow  ...  \\\n",
       "count                        737453                       737453  ...   \n",
       "unique                        43675                        80442  ...   \n",
       "top                         299,927                      255,322  ...   \n",
       "freq                          13683                         1487  ...   \n",
       "\n",
       "       Flotation Column 07 Air Flow Flotation Column 01 Level  \\\n",
       "count                        737453                    737453   \n",
       "unique                        86819                    299573   \n",
       "top                         299,487                   452,441   \n",
       "freq                           3405                      1013   \n",
       "\n",
       "       Flotation Column 02 Level Flotation Column 03 Level  \\\n",
       "count                     737453                    737453   \n",
       "unique                    331189                    322315   \n",
       "top                      608,887                    601,06   \n",
       "freq                         817                       989   \n",
       "\n",
       "       Flotation Column 04 Level Flotation Column 05 Level  \\\n",
       "count                     737453                    737453   \n",
       "unique                    309264                    276051   \n",
       "top                      491,406                   513,879   \n",
       "freq                         733                       709   \n",
       "\n",
       "       Flotation Column 06 Level Flotation Column 07 Level % Iron Concentrate  \\\n",
       "count                     737453                    737453             737453   \n",
       "unique                    301502                    295667              38696   \n",
       "top                       474,37                   479,478              65,44   \n",
       "freq                         746                       905              16920   \n",
       "\n",
       "       % Silica Concentrate  \n",
       "count                737453  \n",
       "unique                55569  \n",
       "top                    2,08  \n",
       "freq                  17100  \n",
       "\n",
       "[4 rows x 24 columns]"
      ]
     },
     "execution_count": 3,
     "metadata": {},
     "output_type": "execute_result"
    }
   ],
   "source": [
    "path.describe()"
   ]
  },
  {
   "cell_type": "markdown",
   "metadata": {},
   "source": [
    "# Task_62742(Data Visuliazation)"
   ]
  },
  {
   "cell_type": "markdown",
   "metadata": {},
   "source": [
    "# Checking Distrubution of Data"
   ]
  },
  {
   "cell_type": "code",
   "execution_count": 4,
   "metadata": {},
   "outputs": [],
   "source": [
    "paths=path"
   ]
  },
  {
   "cell_type": "code",
   "execution_count": 5,
   "metadata": {},
   "outputs": [],
   "source": [
    "paths=paths.drop(['date'], axis = 1)"
   ]
  },
  {
   "cell_type": "code",
   "execution_count": 6,
   "metadata": {},
   "outputs": [],
   "source": [
    "colname=paths.columns"
   ]
  },
  {
   "cell_type": "code",
   "execution_count": 7,
   "metadata": {},
   "outputs": [
    {
     "data": {
      "text/html": [
       "<div>\n",
       "<style scoped>\n",
       "    .dataframe tbody tr th:only-of-type {\n",
       "        vertical-align: middle;\n",
       "    }\n",
       "\n",
       "    .dataframe tbody tr th {\n",
       "        vertical-align: top;\n",
       "    }\n",
       "\n",
       "    .dataframe thead th {\n",
       "        text-align: right;\n",
       "    }\n",
       "</style>\n",
       "<table border=\"1\" class=\"dataframe\">\n",
       "  <thead>\n",
       "    <tr style=\"text-align: right;\">\n",
       "      <th></th>\n",
       "      <th>% Iron Feed</th>\n",
       "      <th>% Silica Feed</th>\n",
       "      <th>Starch Flow</th>\n",
       "      <th>Amina Flow</th>\n",
       "      <th>Ore Pulp Flow</th>\n",
       "      <th>Ore Pulp pH</th>\n",
       "      <th>Ore Pulp Density</th>\n",
       "      <th>Flotation Column 01 Air Flow</th>\n",
       "      <th>Flotation Column 02 Air Flow</th>\n",
       "      <th>Flotation Column 03 Air Flow</th>\n",
       "      <th>...</th>\n",
       "      <th>Flotation Column 07 Air Flow</th>\n",
       "      <th>Flotation Column 01 Level</th>\n",
       "      <th>Flotation Column 02 Level</th>\n",
       "      <th>Flotation Column 03 Level</th>\n",
       "      <th>Flotation Column 04 Level</th>\n",
       "      <th>Flotation Column 05 Level</th>\n",
       "      <th>Flotation Column 06 Level</th>\n",
       "      <th>Flotation Column 07 Level</th>\n",
       "      <th>% Iron Concentrate</th>\n",
       "      <th>% Silica Concentrate</th>\n",
       "    </tr>\n",
       "  </thead>\n",
       "  <tbody>\n",
       "    <tr>\n",
       "      <th>0</th>\n",
       "      <td>55.2</td>\n",
       "      <td>16.98</td>\n",
       "      <td>3019.53</td>\n",
       "      <td>557.434</td>\n",
       "      <td>395.713</td>\n",
       "      <td>10.0664</td>\n",
       "      <td>1.74</td>\n",
       "      <td>249.214</td>\n",
       "      <td>253.235</td>\n",
       "      <td>250.576</td>\n",
       "      <td>...</td>\n",
       "      <td>250.884</td>\n",
       "      <td>457.396</td>\n",
       "      <td>432.962</td>\n",
       "      <td>424.954</td>\n",
       "      <td>443.558</td>\n",
       "      <td>502.255</td>\n",
       "      <td>446.37</td>\n",
       "      <td>523.344</td>\n",
       "      <td>66.91</td>\n",
       "      <td>1.31</td>\n",
       "    </tr>\n",
       "    <tr>\n",
       "      <th>1</th>\n",
       "      <td>55.2</td>\n",
       "      <td>16.98</td>\n",
       "      <td>3024.41</td>\n",
       "      <td>563.965</td>\n",
       "      <td>397.383</td>\n",
       "      <td>10.0672</td>\n",
       "      <td>1.74</td>\n",
       "      <td>249.719</td>\n",
       "      <td>250.532</td>\n",
       "      <td>250.862</td>\n",
       "      <td>...</td>\n",
       "      <td>248.994</td>\n",
       "      <td>451.891</td>\n",
       "      <td>429.56</td>\n",
       "      <td>432.939</td>\n",
       "      <td>448.086</td>\n",
       "      <td>496.363</td>\n",
       "      <td>445.922</td>\n",
       "      <td>498.075</td>\n",
       "      <td>66.91</td>\n",
       "      <td>1.31</td>\n",
       "    </tr>\n",
       "    <tr>\n",
       "      <th>2</th>\n",
       "      <td>55.2</td>\n",
       "      <td>16.98</td>\n",
       "      <td>3043.46</td>\n",
       "      <td>568.054</td>\n",
       "      <td>399.668</td>\n",
       "      <td>10.068</td>\n",
       "      <td>1.74</td>\n",
       "      <td>249.741</td>\n",
       "      <td>247.874</td>\n",
       "      <td>250.313</td>\n",
       "      <td>...</td>\n",
       "      <td>248.071</td>\n",
       "      <td>451.24</td>\n",
       "      <td>468.927</td>\n",
       "      <td>434.61</td>\n",
       "      <td>449.688</td>\n",
       "      <td>484.411</td>\n",
       "      <td>447.826</td>\n",
       "      <td>458.567</td>\n",
       "      <td>66.91</td>\n",
       "      <td>1.31</td>\n",
       "    </tr>\n",
       "    <tr>\n",
       "      <th>3</th>\n",
       "      <td>55.2</td>\n",
       "      <td>16.98</td>\n",
       "      <td>3047.36</td>\n",
       "      <td>568.665</td>\n",
       "      <td>397.939</td>\n",
       "      <td>10.0689</td>\n",
       "      <td>1.74</td>\n",
       "      <td>249.917</td>\n",
       "      <td>254.487</td>\n",
       "      <td>250.049</td>\n",
       "      <td>...</td>\n",
       "      <td>251.147</td>\n",
       "      <td>452.441</td>\n",
       "      <td>458.165</td>\n",
       "      <td>442.865</td>\n",
       "      <td>446.21</td>\n",
       "      <td>471.411</td>\n",
       "      <td>437.69</td>\n",
       "      <td>427.669</td>\n",
       "      <td>66.91</td>\n",
       "      <td>1.31</td>\n",
       "    </tr>\n",
       "    <tr>\n",
       "      <th>4</th>\n",
       "      <td>55.2</td>\n",
       "      <td>16.98</td>\n",
       "      <td>3033.69</td>\n",
       "      <td>558.167</td>\n",
       "      <td>400.254</td>\n",
       "      <td>10.0697</td>\n",
       "      <td>1.74</td>\n",
       "      <td>250.203</td>\n",
       "      <td>252.136</td>\n",
       "      <td>249.895</td>\n",
       "      <td>...</td>\n",
       "      <td>248.928</td>\n",
       "      <td>452.441</td>\n",
       "      <td>452.9</td>\n",
       "      <td>450.523</td>\n",
       "      <td>453.67</td>\n",
       "      <td>462.598</td>\n",
       "      <td>443.682</td>\n",
       "      <td>425.679</td>\n",
       "      <td>66.91</td>\n",
       "      <td>1.31</td>\n",
       "    </tr>\n",
       "  </tbody>\n",
       "</table>\n",
       "<p>5 rows × 23 columns</p>\n",
       "</div>"
      ],
      "text/plain": [
       "  % Iron Feed % Silica Feed Starch Flow Amina Flow Ore Pulp Flow Ore Pulp pH  \\\n",
       "0        55.2         16.98     3019.53    557.434       395.713     10.0664   \n",
       "1        55.2         16.98     3024.41    563.965       397.383     10.0672   \n",
       "2        55.2         16.98     3043.46    568.054       399.668      10.068   \n",
       "3        55.2         16.98     3047.36    568.665       397.939     10.0689   \n",
       "4        55.2         16.98     3033.69    558.167       400.254     10.0697   \n",
       "\n",
       "  Ore Pulp Density Flotation Column 01 Air Flow Flotation Column 02 Air Flow  \\\n",
       "0             1.74                      249.214                      253.235   \n",
       "1             1.74                      249.719                      250.532   \n",
       "2             1.74                      249.741                      247.874   \n",
       "3             1.74                      249.917                      254.487   \n",
       "4             1.74                      250.203                      252.136   \n",
       "\n",
       "  Flotation Column 03 Air Flow  ... Flotation Column 07 Air Flow  \\\n",
       "0                      250.576  ...                      250.884   \n",
       "1                      250.862  ...                      248.994   \n",
       "2                      250.313  ...                      248.071   \n",
       "3                      250.049  ...                      251.147   \n",
       "4                      249.895  ...                      248.928   \n",
       "\n",
       "  Flotation Column 01 Level Flotation Column 02 Level  \\\n",
       "0                   457.396                   432.962   \n",
       "1                   451.891                    429.56   \n",
       "2                    451.24                   468.927   \n",
       "3                   452.441                   458.165   \n",
       "4                   452.441                     452.9   \n",
       "\n",
       "  Flotation Column 03 Level Flotation Column 04 Level  \\\n",
       "0                   424.954                   443.558   \n",
       "1                   432.939                   448.086   \n",
       "2                    434.61                   449.688   \n",
       "3                   442.865                    446.21   \n",
       "4                   450.523                    453.67   \n",
       "\n",
       "  Flotation Column 05 Level Flotation Column 06 Level  \\\n",
       "0                   502.255                    446.37   \n",
       "1                   496.363                   445.922   \n",
       "2                   484.411                   447.826   \n",
       "3                   471.411                    437.69   \n",
       "4                   462.598                   443.682   \n",
       "\n",
       "  Flotation Column 07 Level % Iron Concentrate % Silica Concentrate  \n",
       "0                   523.344              66.91                 1.31  \n",
       "1                   498.075              66.91                 1.31  \n",
       "2                   458.567              66.91                 1.31  \n",
       "3                   427.669              66.91                 1.31  \n",
       "4                   425.679              66.91                 1.31  \n",
       "\n",
       "[5 rows x 23 columns]"
      ]
     },
     "execution_count": 7,
     "metadata": {},
     "output_type": "execute_result"
    }
   ],
   "source": [
    "for col in colname:\n",
    "    paths[col]=paths[col].str.replace(',','.')\n",
    "paths.head()"
   ]
  },
  {
   "cell_type": "code",
   "execution_count": 8,
   "metadata": {},
   "outputs": [
    {
     "data": {
      "text/html": [
       "<div>\n",
       "<style scoped>\n",
       "    .dataframe tbody tr th:only-of-type {\n",
       "        vertical-align: middle;\n",
       "    }\n",
       "\n",
       "    .dataframe tbody tr th {\n",
       "        vertical-align: top;\n",
       "    }\n",
       "\n",
       "    .dataframe thead th {\n",
       "        text-align: right;\n",
       "    }\n",
       "</style>\n",
       "<table border=\"1\" class=\"dataframe\">\n",
       "  <thead>\n",
       "    <tr style=\"text-align: right;\">\n",
       "      <th></th>\n",
       "      <th>% Iron Feed</th>\n",
       "      <th>% Silica Feed</th>\n",
       "      <th>Starch Flow</th>\n",
       "      <th>Amina Flow</th>\n",
       "      <th>Ore Pulp Flow</th>\n",
       "      <th>Ore Pulp pH</th>\n",
       "      <th>Ore Pulp Density</th>\n",
       "      <th>Flotation Column 01 Air Flow</th>\n",
       "      <th>Flotation Column 02 Air Flow</th>\n",
       "      <th>Flotation Column 03 Air Flow</th>\n",
       "      <th>...</th>\n",
       "      <th>Flotation Column 07 Air Flow</th>\n",
       "      <th>Flotation Column 01 Level</th>\n",
       "      <th>Flotation Column 02 Level</th>\n",
       "      <th>Flotation Column 03 Level</th>\n",
       "      <th>Flotation Column 04 Level</th>\n",
       "      <th>Flotation Column 05 Level</th>\n",
       "      <th>Flotation Column 06 Level</th>\n",
       "      <th>Flotation Column 07 Level</th>\n",
       "      <th>% Iron Concentrate</th>\n",
       "      <th>% Silica Concentrate</th>\n",
       "    </tr>\n",
       "  </thead>\n",
       "  <tbody>\n",
       "    <tr>\n",
       "      <th>0</th>\n",
       "      <td>55.2</td>\n",
       "      <td>16.98</td>\n",
       "      <td>3019.53</td>\n",
       "      <td>557.434</td>\n",
       "      <td>395.713</td>\n",
       "      <td>10.0664</td>\n",
       "      <td>1.74</td>\n",
       "      <td>249.214</td>\n",
       "      <td>253.235</td>\n",
       "      <td>250.576</td>\n",
       "      <td>...</td>\n",
       "      <td>250.884</td>\n",
       "      <td>457.396</td>\n",
       "      <td>432.962</td>\n",
       "      <td>424.954</td>\n",
       "      <td>443.558</td>\n",
       "      <td>502.255</td>\n",
       "      <td>446.370</td>\n",
       "      <td>523.344</td>\n",
       "      <td>66.91</td>\n",
       "      <td>1.31</td>\n",
       "    </tr>\n",
       "    <tr>\n",
       "      <th>1</th>\n",
       "      <td>55.2</td>\n",
       "      <td>16.98</td>\n",
       "      <td>3024.41</td>\n",
       "      <td>563.965</td>\n",
       "      <td>397.383</td>\n",
       "      <td>10.0672</td>\n",
       "      <td>1.74</td>\n",
       "      <td>249.719</td>\n",
       "      <td>250.532</td>\n",
       "      <td>250.862</td>\n",
       "      <td>...</td>\n",
       "      <td>248.994</td>\n",
       "      <td>451.891</td>\n",
       "      <td>429.560</td>\n",
       "      <td>432.939</td>\n",
       "      <td>448.086</td>\n",
       "      <td>496.363</td>\n",
       "      <td>445.922</td>\n",
       "      <td>498.075</td>\n",
       "      <td>66.91</td>\n",
       "      <td>1.31</td>\n",
       "    </tr>\n",
       "    <tr>\n",
       "      <th>2</th>\n",
       "      <td>55.2</td>\n",
       "      <td>16.98</td>\n",
       "      <td>3043.46</td>\n",
       "      <td>568.054</td>\n",
       "      <td>399.668</td>\n",
       "      <td>10.0680</td>\n",
       "      <td>1.74</td>\n",
       "      <td>249.741</td>\n",
       "      <td>247.874</td>\n",
       "      <td>250.313</td>\n",
       "      <td>...</td>\n",
       "      <td>248.071</td>\n",
       "      <td>451.240</td>\n",
       "      <td>468.927</td>\n",
       "      <td>434.610</td>\n",
       "      <td>449.688</td>\n",
       "      <td>484.411</td>\n",
       "      <td>447.826</td>\n",
       "      <td>458.567</td>\n",
       "      <td>66.91</td>\n",
       "      <td>1.31</td>\n",
       "    </tr>\n",
       "    <tr>\n",
       "      <th>3</th>\n",
       "      <td>55.2</td>\n",
       "      <td>16.98</td>\n",
       "      <td>3047.36</td>\n",
       "      <td>568.665</td>\n",
       "      <td>397.939</td>\n",
       "      <td>10.0689</td>\n",
       "      <td>1.74</td>\n",
       "      <td>249.917</td>\n",
       "      <td>254.487</td>\n",
       "      <td>250.049</td>\n",
       "      <td>...</td>\n",
       "      <td>251.147</td>\n",
       "      <td>452.441</td>\n",
       "      <td>458.165</td>\n",
       "      <td>442.865</td>\n",
       "      <td>446.210</td>\n",
       "      <td>471.411</td>\n",
       "      <td>437.690</td>\n",
       "      <td>427.669</td>\n",
       "      <td>66.91</td>\n",
       "      <td>1.31</td>\n",
       "    </tr>\n",
       "    <tr>\n",
       "      <th>4</th>\n",
       "      <td>55.2</td>\n",
       "      <td>16.98</td>\n",
       "      <td>3033.69</td>\n",
       "      <td>558.167</td>\n",
       "      <td>400.254</td>\n",
       "      <td>10.0697</td>\n",
       "      <td>1.74</td>\n",
       "      <td>250.203</td>\n",
       "      <td>252.136</td>\n",
       "      <td>249.895</td>\n",
       "      <td>...</td>\n",
       "      <td>248.928</td>\n",
       "      <td>452.441</td>\n",
       "      <td>452.900</td>\n",
       "      <td>450.523</td>\n",
       "      <td>453.670</td>\n",
       "      <td>462.598</td>\n",
       "      <td>443.682</td>\n",
       "      <td>425.679</td>\n",
       "      <td>66.91</td>\n",
       "      <td>1.31</td>\n",
       "    </tr>\n",
       "  </tbody>\n",
       "</table>\n",
       "<p>5 rows × 23 columns</p>\n",
       "</div>"
      ],
      "text/plain": [
       "   % Iron Feed  % Silica Feed  Starch Flow  Amina Flow  Ore Pulp Flow  \\\n",
       "0         55.2          16.98      3019.53     557.434        395.713   \n",
       "1         55.2          16.98      3024.41     563.965        397.383   \n",
       "2         55.2          16.98      3043.46     568.054        399.668   \n",
       "3         55.2          16.98      3047.36     568.665        397.939   \n",
       "4         55.2          16.98      3033.69     558.167        400.254   \n",
       "\n",
       "   Ore Pulp pH  Ore Pulp Density  Flotation Column 01 Air Flow  \\\n",
       "0      10.0664              1.74                       249.214   \n",
       "1      10.0672              1.74                       249.719   \n",
       "2      10.0680              1.74                       249.741   \n",
       "3      10.0689              1.74                       249.917   \n",
       "4      10.0697              1.74                       250.203   \n",
       "\n",
       "   Flotation Column 02 Air Flow  Flotation Column 03 Air Flow  ...  \\\n",
       "0                       253.235                       250.576  ...   \n",
       "1                       250.532                       250.862  ...   \n",
       "2                       247.874                       250.313  ...   \n",
       "3                       254.487                       250.049  ...   \n",
       "4                       252.136                       249.895  ...   \n",
       "\n",
       "   Flotation Column 07 Air Flow  Flotation Column 01 Level  \\\n",
       "0                       250.884                    457.396   \n",
       "1                       248.994                    451.891   \n",
       "2                       248.071                    451.240   \n",
       "3                       251.147                    452.441   \n",
       "4                       248.928                    452.441   \n",
       "\n",
       "   Flotation Column 02 Level  Flotation Column 03 Level  \\\n",
       "0                    432.962                    424.954   \n",
       "1                    429.560                    432.939   \n",
       "2                    468.927                    434.610   \n",
       "3                    458.165                    442.865   \n",
       "4                    452.900                    450.523   \n",
       "\n",
       "   Flotation Column 04 Level  Flotation Column 05 Level  \\\n",
       "0                    443.558                    502.255   \n",
       "1                    448.086                    496.363   \n",
       "2                    449.688                    484.411   \n",
       "3                    446.210                    471.411   \n",
       "4                    453.670                    462.598   \n",
       "\n",
       "   Flotation Column 06 Level  Flotation Column 07 Level  % Iron Concentrate  \\\n",
       "0                    446.370                    523.344               66.91   \n",
       "1                    445.922                    498.075               66.91   \n",
       "2                    447.826                    458.567               66.91   \n",
       "3                    437.690                    427.669               66.91   \n",
       "4                    443.682                    425.679               66.91   \n",
       "\n",
       "   % Silica Concentrate  \n",
       "0                  1.31  \n",
       "1                  1.31  \n",
       "2                  1.31  \n",
       "3                  1.31  \n",
       "4                  1.31  \n",
       "\n",
       "[5 rows x 23 columns]"
      ]
     },
     "execution_count": 8,
     "metadata": {},
     "output_type": "execute_result"
    }
   ],
   "source": [
    "colname=paths.columns\n",
    "for col in colname:\n",
    "    paths[col]=paths[col].astype(float)\n",
    "paths.head()"
   ]
  },
  {
   "cell_type": "code",
   "execution_count": 9,
   "metadata": {},
   "outputs": [
    {
     "name": "stdout",
     "output_type": "stream",
     "text": [
      "% Iron Feed\n"
     ]
    },
    {
     "data": {
      "image/png": "[encoded data removed]",
      "text/plain": [
       "<Figure size 432x288 with 1 Axes>"
      ]
     },
     "metadata": {
      "needs_background": "light"
     },
     "output_type": "display_data"
    },
    {
     "name": "stdout",
     "output_type": "stream",
     "text": [
      "% Silica Feed\n"
     ]
    },
    {
     "data": {
      "image/png": "[encoded data removed]",
      "text/plain": [
       "<Figure size 432x288 with 1 Axes>"
      ]
     },
     "metadata": {
      "needs_background": "light"
     },
     "output_type": "display_data"
    },
    {
     "name": "stdout",
     "output_type": "stream",
     "text": [
      "Starch Flow\n"
     ]
    },
    {
     "data": {
      "image/png": "[encoded data removed]",
      "text/plain": [
       "<Figure size 432x288 with 1 Axes>"
      ]
     },
     "metadata": {
      "needs_background": "light"
     },
     "output_type": "display_data"
    },
    {
     "name": "stdout",
     "output_type": "stream",
     "text": [
      "Amina Flow\n"
     ]
    },
    {
     "data": {
      "image/png": "[encoded data removed]",
      "text/plain": [
       "<Figure size 432x288 with 1 Axes>"
      ]
     },
     "metadata": {
      "needs_background": "light"
     },
     "output_type": "display_data"
    },
    {
     "name": "stdout",
     "output_type": "stream",
     "text": [
      "Ore Pulp Flow\n"
     ]
    },
    {
     "data": {
      "image/png": "[encoded data removed]",
      "text/plain": [
       "<Figure size 432x288 with 1 Axes>"
      ]
     },
     "metadata": {
      "needs_background": "light"
     },
     "output_type": "display_data"
    },
    {
     "name": "stdout",
     "output_type": "stream",
     "text": [
      "Ore Pulp pH\n"
     ]
    },
    {
     "data": {
      "image/png": "[encoded data removed]",
      "text/plain": [
       "<Figure size 432x288 with 1 Axes>"
      ]
     },
     "metadata": {
      "needs_background": "light"
     },
     "output_type": "display_data"
    },
    {
     "name": "stdout",
     "output_type": "stream",
     "text": [
      "Ore Pulp Density\n"
     ]
    },
    {
     "data": {
      "image/png": "[encoded data removed]",
      "text/plain": [
       "<Figure size 432x288 with 1 Axes>"
      ]
     },
     "metadata": {
      "needs_background": "light"
     },
     "output_type": "display_data"
    },
    {
     "name": "stdout",
     "output_type": "stream",
     "text": [
      "Flotation Column 01 Air Flow\n"
     ]
    },
    {
     "data": {
      "image/png": "[encoded data removed]",
      "text/plain": [
       "<Figure size 432x288 with 1 Axes>"
      ]
     },
     "metadata": {
      "needs_background": "light"
     },
     "output_type": "display_data"
    },
    {
     "name": "stdout",
     "output_type": "stream",
     "text": [
      "Flotation Column 02 Air Flow\n"
     ]
    },
    {
     "data": {
      "image/png": "[encoded data removed]",
      "text/plain": [
       "<Figure size 432x288 with 1 Axes>"
      ]
     },
     "metadata": {
      "needs_background": "light"
     },
     "output_type": "display_data"
    },
    {
     "name": "stdout",
     "output_type": "stream",
     "text": [
      "Flotation Column 03 Air Flow\n"
     ]
    },
    {
     "data": {
      "image/png": "[encoded data removed]",
      "text/plain": [
       "<Figure size 432x288 with 1 Axes>"
      ]
     },
     "metadata": {
      "needs_background": "light"
     },
     "output_type": "display_data"
    },
    {
     "name": "stdout",
     "output_type": "stream",
     "text": [
      "Flotation Column 04 Air Flow\n"
     ]
    },
    {
     "data": {
      "image/png": "[encoded data removed]",
      "text/plain": [
       "<Figure size 432x288 with 1 Axes>"
      ]
     },
     "metadata": {
      "needs_background": "light"
     },
     "output_type": "display_data"
    },
    {
     "name": "stdout",
     "output_type": "stream",
     "text": [
      "Flotation Column 05 Air Flow\n"
     ]
    },
    {
     "data": {
      "image/png": "[encoded data removed]",
      "text/plain": [
       "<Figure size 432x288 with 1 Axes>"
      ]
     },
     "metadata": {
      "needs_background": "light"
     },
     "output_type": "display_data"
    },
    {
     "name": "stdout",
     "output_type": "stream",
     "text": [
      "Flotation Column 06 Air Flow\n"
     ]
    },
    {
     "data": {
      "image/png": "[encoded data removed]",
      "text/plain": [
       "<Figure size 432x288 with 1 Axes>"
      ]
     },
     "metadata": {
      "needs_background": "light"
     },
     "output_type": "display_data"
    },
    {
     "name": "stdout",
     "output_type": "stream",
     "text": [
      "Flotation Column 07 Air Flow\n"
     ]
    },
    {
     "data": {
      "image/png": "[encoded data removed]",
      "text/plain": [
       "<Figure size 432x288 with 1 Axes>"
      ]
     },
     "metadata": {
      "needs_background": "light"
     },
     "output_type": "display_data"
    },
    {
     "name": "stdout",
     "output_type": "stream",
     "text": [
      "Flotation Column 01 Level\n"
     ]
    },
    {
     "data": {
      "image/png": "[encoded data removed]",
      "text/plain": [
       "<Figure size 432x288 with 1 Axes>"
      ]
     },
     "metadata": {
      "needs_background": "light"
     },
     "output_type": "display_data"
    },
    {
     "name": "stdout",
     "output_type": "stream",
     "text": [
      "Flotation Column 02 Level\n"
     ]
    },
    {
     "data": {
      "image/png": "[encoded data removed]",
      "text/plain": [
       "<Figure size 432x288 with 1 Axes>"
      ]
     },
     "metadata": {
      "needs_background": "light"
     },
     "output_type": "display_data"
    },
    {
     "name": "stdout",
     "output_type": "stream",
     "text": [
      "Flotation Column 03 Level\n"
     ]
    },
    {
     "data": {
      "image/png": "[encoded data removed]",
      "text/plain": [
       "<Figure size 432x288 with 1 Axes>"
      ]
     },
     "metadata": {
      "needs_background": "light"
     },
     "output_type": "display_data"
    },
    {
     "name": "stdout",
     "output_type": "stream",
     "text": [
      "Flotation Column 04 Level\n"
     ]
    },
    {
     "data": {
      "image/png": "[encoded data removed]",
      "text/plain": [
       "<Figure size 432x288 with 1 Axes>"
      ]
     },
     "metadata": {
      "needs_background": "light"
     },
     "output_type": "display_data"
    },
    {
     "name": "stdout",
     "output_type": "stream",
     "text": [
      "Flotation Column 05 Level\n"
     ]
    },
    {
     "data": {
      "image/png": "[encoded data removed]",
      "text/plain": [
       "<Figure size 432x288 with 1 Axes>"
      ]
     },
     "metadata": {
      "needs_background": "light"
     },
     "output_type": "display_data"
    },
    {
     "name": "stdout",
     "output_type": "stream",
     "text": [
      "Flotation Column 06 Level\n"
     ]
    },
    {
     "data": {
      "image/png": "[encoded data removed]",
      "text/plain": [
       "<Figure size 432x288 with 1 Axes>"
      ]
     },
     "metadata": {
      "needs_background": "light"
     },
     "output_type": "display_data"
    },
    {
     "name": "stdout",
     "output_type": "stream",
     "text": [
      "Flotation Column 07 Level\n"
     ]
    },
    {
     "data": {
      "image/png": "[encoded data removed]",
      "text/plain": [
       "<Figure size 432x288 with 1 Axes>"
      ]
     },
     "metadata": {
      "needs_background": "light"
     },
     "output_type": "display_data"
    },
    {
     "name": "stdout",
     "output_type": "stream",
     "text": [
      "% Iron Concentrate\n"
     ]
    },
    {
     "data": {
      "image/png": "[encoded data removed]",
      "text/plain": [
       "<Figure size 432x288 with 1 Axes>"
      ]
     },
     "metadata": {
      "needs_background": "light"
     },
     "output_type": "display_data"
    },
    {
     "name": "stdout",
     "output_type": "stream",
     "text": [
      "% Silica Concentrate\n"
     ]
    },
    {
     "data": {
      "image/png": "[encoded data removed]",
      "text/plain": [
       "<Figure size 432x288 with 1 Axes>"
      ]
     },
     "metadata": {
      "needs_background": "light"
     },
     "output_type": "display_data"
    }
   ],
   "source": [
    "abc = list(paths.columns.values) \n",
    "def plot(paths):\n",
    "    \n",
    "    for col in abc:\n",
    "        sns.distplot(paths[col])\n",
    "        print(col)\n",
    "        plt.show()\n",
    "    \n",
    "    \n",
    "plot(paths)"
   ]
  },
  {
   "cell_type": "code",
   "execution_count": 10,
   "metadata": {},
   "outputs": [
    {
     "name": "stdout",
     "output_type": "stream",
     "text": [
      "% Iron Feed\n"
     ]
    },
    {
     "data": {
      "image/png": "[encoded data removed]",
      "text/plain": [
       "<Figure size 432x288 with 1 Axes>"
      ]
     },
     "metadata": {
      "needs_background": "light"
     },
     "output_type": "display_data"
    },
    {
     "name": "stdout",
     "output_type": "stream",
     "text": [
      "% Silica Feed\n"
     ]
    },
    {
     "data": {
      "image/png": "[encoded data removed]",
      "text/plain": [
       "<Figure size 432x288 with 1 Axes>"
      ]
     },
     "metadata": {
      "needs_background": "light"
     },
     "output_type": "display_data"
    },
    {
     "name": "stdout",
     "output_type": "stream",
     "text": [
      "Starch Flow\n"
     ]
    },
    {
     "data": {
      "image/png": "[encoded data removed]",
      "text/plain": [
       "<Figure size 432x288 with 1 Axes>"
      ]
     },
     "metadata": {
      "needs_background": "light"
     },
     "output_type": "display_data"
    },
    {
     "name": "stdout",
     "output_type": "stream",
     "text": [
      "Amina Flow\n"
     ]
    },
    {
     "data": {
      "image/png": "[encoded data removed]",
      "text/plain": [
       "<Figure size 432x288 with 1 Axes>"
      ]
     },
     "metadata": {
      "needs_background": "light"
     },
     "output_type": "display_data"
    },
    {
     "name": "stdout",
     "output_type": "stream",
     "text": [
      "Ore Pulp Flow\n"
     ]
    },
    {
     "data": {
      "image/png": "[encoded data removed]",
      "text/plain": [
       "<Figure size 432x288 with 1 Axes>"
      ]
     },
     "metadata": {
      "needs_background": "light"
     },
     "output_type": "display_data"
    },
    {
     "name": "stdout",
     "output_type": "stream",
     "text": [
      "Ore Pulp pH\n"
     ]
    },
    {
     "data": {
      "image/png": "[encoded data removed]",
      "text/plain": [
       "<Figure size 432x288 with 1 Axes>"
      ]
     },
     "metadata": {
      "needs_background": "light"
     },
     "output_type": "display_data"
    },
    {
     "name": "stdout",
     "output_type": "stream",
     "text": [
      "Ore Pulp Density\n"
     ]
    },
    {
     "data": {
      "image/png": "[encoded data removed]",
      "text/plain": [
       "<Figure size 432x288 with 1 Axes>"
      ]
     },
     "metadata": {
      "needs_background": "light"
     },
     "output_type": "display_data"
    },
    {
     "name": "stdout",
     "output_type": "stream",
     "text": [
      "Flotation Column 01 Air Flow\n"
     ]
    },
    {
     "data": {
      "image/png": "[encoded data removed]",
      "text/plain": [
       "<Figure size 432x288 with 1 Axes>"
      ]
     },
     "metadata": {
      "needs_background": "light"
     },
     "output_type": "display_data"
    },
    {
     "name": "stdout",
     "output_type": "stream",
     "text": [
      "Flotation Column 02 Air Flow\n"
     ]
    },
    {
     "data": {
      "image/png": "[encoded data removed]",
      "text/plain": [
       "<Figure size 432x288 with 1 Axes>"
      ]
     },
     "metadata": {
      "needs_background": "light"
     },
     "output_type": "display_data"
    },
    {
     "name": "stdout",
     "output_type": "stream",
     "text": [
      "Flotation Column 03 Air Flow\n"
     ]
    },
    {
     "data": {
      "image/png": "[encoded data removed]",
      "text/plain": [
       "<Figure size 432x288 with 1 Axes>"
      ]
     },
     "metadata": {
      "needs_background": "light"
     },
     "output_type": "display_data"
    },
    {
     "name": "stdout",
     "output_type": "stream",
     "text": [
      "Flotation Column 04 Air Flow\n"
     ]
    },
    {
     "data": {
      "image/png": "[encoded data removed]",
      "text/plain": [
       "<Figure size 432x288 with 1 Axes>"
      ]
     },
     "metadata": {
      "needs_background": "light"
     },
     "output_type": "display_data"
    },
    {
     "name": "stdout",
     "output_type": "stream",
     "text": [
      "Flotation Column 05 Air Flow\n"
     ]
    },
    {
     "data": {
      "image/png": "[encoded data removed]",
      "text/plain": [
       "<Figure size 432x288 with 1 Axes>"
      ]
     },
     "metadata": {
      "needs_background": "light"
     },
     "output_type": "display_data"
    },
    {
     "name": "stdout",
     "output_type": "stream",
     "text": [
      "Flotation Column 06 Air Flow\n"
     ]
    },
    {
     "data": {
      "image/png": "[encoded data removed]",
      "text/plain": [
       "<Figure size 432x288 with 1 Axes>"
      ]
     },
     "metadata": {
      "needs_background": "light"
     },
     "output_type": "display_data"
    },
    {
     "name": "stdout",
     "output_type": "stream",
     "text": [
      "Flotation Column 07 Air Flow\n"
     ]
    },
    {
     "data": {
      "image/png": "[encoded data removed]",
      "text/plain": [
       "<Figure size 432x288 with 1 Axes>"
      ]
     },
     "metadata": {
      "needs_background": "light"
     },
     "output_type": "display_data"
    },
    {
     "name": "stdout",
     "output_type": "stream",
     "text": [
      "Flotation Column 01 Level\n"
     ]
    },
    {
     "data": {
      "image/png": "[encoded data removed]",
      "text/plain": [
       "<Figure size 432x288 with 1 Axes>"
      ]
     },
     "metadata": {
      "needs_background": "light"
     },
     "output_type": "display_data"
    },
    {
     "name": "stdout",
     "output_type": "stream",
     "text": [
      "Flotation Column 02 Level\n"
     ]
    },
    {
     "data": {
      "image/png": "[encoded data removed]",
      "text/plain": [
       "<Figure size 432x288 with 1 Axes>"
      ]
     },
     "metadata": {
      "needs_background": "light"
     },
     "output_type": "display_data"
    },
    {
     "name": "stdout",
     "output_type": "stream",
     "text": [
      "Flotation Column 03 Level\n"
     ]
    },
    {
     "data": {
      "image/png": "[encoded data removed]",
      "text/plain": [
       "<Figure size 432x288 with 1 Axes>"
      ]
     },
     "metadata": {
      "needs_background": "light"
     },
     "output_type": "display_data"
    },
    {
     "name": "stdout",
     "output_type": "stream",
     "text": [
      "Flotation Column 04 Level\n"
     ]
    },
    {
     "data": {
      "image/png": "[encoded data removed]",
      "text/plain": [
       "<Figure size 432x288 with 1 Axes>"
      ]
     },
     "metadata": {
      "needs_background": "light"
     },
     "output_type": "display_data"
    },
    {
     "name": "stdout",
     "output_type": "stream",
     "text": [
      "Flotation Column 05 Level\n"
     ]
    },
    {
     "data": {
      "image/png": "[encoded data removed]",
      "text/plain": [
       "<Figure size 432x288 with 1 Axes>"
      ]
     },
     "metadata": {
      "needs_background": "light"
     },
     "output_type": "display_data"
    },
    {
     "name": "stdout",
     "output_type": "stream",
     "text": [
      "Flotation Column 06 Level\n"
     ]
    },
    {
     "data": {
      "image/png": "[encoded data removed]",
      "text/plain": [
       "<Figure size 432x288 with 1 Axes>"
      ]
     },
     "metadata": {
      "needs_background": "light"
     },
     "output_type": "display_data"
    },
    {
     "name": "stdout",
     "output_type": "stream",
     "text": [
      "Flotation Column 07 Level\n"
     ]
    },
    {
     "data": {
      "image/png": "[encoded data removed]",
      "text/plain": [
       "<Figure size 432x288 with 1 Axes>"
      ]
     },
     "metadata": {
      "needs_background": "light"
     },
     "output_type": "display_data"
    },
    {
     "name": "stdout",
     "output_type": "stream",
     "text": [
      "% Iron Concentrate\n"
     ]
    },
    {
     "data": {
      "image/png": "[encoded data removed]",
      "text/plain": [
       "<Figure size 432x288 with 1 Axes>"
      ]
     },
     "metadata": {
      "needs_background": "light"
     },
     "output_type": "display_data"
    },
    {
     "name": "stdout",
     "output_type": "stream",
     "text": [
      "% Silica Concentrate\n"
     ]
    },
    {
     "data": {
      "image/png": "[encoded data removed]",
      "text/plain": [
       "<Figure size 432x288 with 1 Axes>"
      ]
     },
     "metadata": {
      "needs_background": "light"
     },
     "output_type": "display_data"
    }
   ],
   "source": [
    "for col in abc:\n",
    "    \n",
    "    sns.boxplot(paths[col])\n",
    "    print(col)\n",
    "    plt.show()"
   ]
  },
  {
   "cell_type": "code",
   "execution_count": 11,
   "metadata": {},
   "outputs": [],
   "source": [
    "df=path"
   ]
  },
  {
   "cell_type": "code",
   "execution_count": 12,
   "metadata": {},
   "outputs": [
    {
     "data": {
      "text/html": [
       "<div>\n",
       "<style scoped>\n",
       "    .dataframe tbody tr th:only-of-type {\n",
       "        vertical-align: middle;\n",
       "    }\n",
       "\n",
       "    .dataframe tbody tr th {\n",
       "        vertical-align: top;\n",
       "    }\n",
       "\n",
       "    .dataframe thead th {\n",
       "        text-align: right;\n",
       "    }\n",
       "</style>\n",
       "<table border=\"1\" class=\"dataframe\">\n",
       "  <thead>\n",
       "    <tr style=\"text-align: right;\">\n",
       "      <th></th>\n",
       "      <th>date</th>\n",
       "      <th>% Iron Feed</th>\n",
       "      <th>% Silica Feed</th>\n",
       "      <th>Starch Flow</th>\n",
       "      <th>Amina Flow</th>\n",
       "      <th>Ore Pulp Flow</th>\n",
       "      <th>Ore Pulp pH</th>\n",
       "      <th>Ore Pulp Density</th>\n",
       "      <th>Flotation Column 01 Air Flow</th>\n",
       "      <th>Flotation Column 02 Air Flow</th>\n",
       "      <th>...</th>\n",
       "      <th>Flotation Column 07 Air Flow</th>\n",
       "      <th>Flotation Column 01 Level</th>\n",
       "      <th>Flotation Column 02 Level</th>\n",
       "      <th>Flotation Column 03 Level</th>\n",
       "      <th>Flotation Column 04 Level</th>\n",
       "      <th>Flotation Column 05 Level</th>\n",
       "      <th>Flotation Column 06 Level</th>\n",
       "      <th>Flotation Column 07 Level</th>\n",
       "      <th>% Iron Concentrate</th>\n",
       "      <th>% Silica Concentrate</th>\n",
       "    </tr>\n",
       "  </thead>\n",
       "  <tbody>\n",
       "    <tr>\n",
       "      <th>0</th>\n",
       "      <td>2017-03-10 01:00:00</td>\n",
       "      <td>55,2</td>\n",
       "      <td>16,98</td>\n",
       "      <td>3019,53</td>\n",
       "      <td>557,434</td>\n",
       "      <td>395,713</td>\n",
       "      <td>10,0664</td>\n",
       "      <td>1,74</td>\n",
       "      <td>249,214</td>\n",
       "      <td>253,235</td>\n",
       "      <td>...</td>\n",
       "      <td>250,884</td>\n",
       "      <td>457,396</td>\n",
       "      <td>432,962</td>\n",
       "      <td>424,954</td>\n",
       "      <td>443,558</td>\n",
       "      <td>502,255</td>\n",
       "      <td>446,37</td>\n",
       "      <td>523,344</td>\n",
       "      <td>66,91</td>\n",
       "      <td>1,31</td>\n",
       "    </tr>\n",
       "    <tr>\n",
       "      <th>1</th>\n",
       "      <td>2017-03-10 01:00:00</td>\n",
       "      <td>55,2</td>\n",
       "      <td>16,98</td>\n",
       "      <td>3024,41</td>\n",
       "      <td>563,965</td>\n",
       "      <td>397,383</td>\n",
       "      <td>10,0672</td>\n",
       "      <td>1,74</td>\n",
       "      <td>249,719</td>\n",
       "      <td>250,532</td>\n",
       "      <td>...</td>\n",
       "      <td>248,994</td>\n",
       "      <td>451,891</td>\n",
       "      <td>429,56</td>\n",
       "      <td>432,939</td>\n",
       "      <td>448,086</td>\n",
       "      <td>496,363</td>\n",
       "      <td>445,922</td>\n",
       "      <td>498,075</td>\n",
       "      <td>66,91</td>\n",
       "      <td>1,31</td>\n",
       "    </tr>\n",
       "    <tr>\n",
       "      <th>2</th>\n",
       "      <td>2017-03-10 01:00:00</td>\n",
       "      <td>55,2</td>\n",
       "      <td>16,98</td>\n",
       "      <td>3043,46</td>\n",
       "      <td>568,054</td>\n",
       "      <td>399,668</td>\n",
       "      <td>10,068</td>\n",
       "      <td>1,74</td>\n",
       "      <td>249,741</td>\n",
       "      <td>247,874</td>\n",
       "      <td>...</td>\n",
       "      <td>248,071</td>\n",
       "      <td>451,24</td>\n",
       "      <td>468,927</td>\n",
       "      <td>434,61</td>\n",
       "      <td>449,688</td>\n",
       "      <td>484,411</td>\n",
       "      <td>447,826</td>\n",
       "      <td>458,567</td>\n",
       "      <td>66,91</td>\n",
       "      <td>1,31</td>\n",
       "    </tr>\n",
       "    <tr>\n",
       "      <th>3</th>\n",
       "      <td>2017-03-10 01:00:00</td>\n",
       "      <td>55,2</td>\n",
       "      <td>16,98</td>\n",
       "      <td>3047,36</td>\n",
       "      <td>568,665</td>\n",
       "      <td>397,939</td>\n",
       "      <td>10,0689</td>\n",
       "      <td>1,74</td>\n",
       "      <td>249,917</td>\n",
       "      <td>254,487</td>\n",
       "      <td>...</td>\n",
       "      <td>251,147</td>\n",
       "      <td>452,441</td>\n",
       "      <td>458,165</td>\n",
       "      <td>442,865</td>\n",
       "      <td>446,21</td>\n",
       "      <td>471,411</td>\n",
       "      <td>437,69</td>\n",
       "      <td>427,669</td>\n",
       "      <td>66,91</td>\n",
       "      <td>1,31</td>\n",
       "    </tr>\n",
       "    <tr>\n",
       "      <th>4</th>\n",
       "      <td>2017-03-10 01:00:00</td>\n",
       "      <td>55,2</td>\n",
       "      <td>16,98</td>\n",
       "      <td>3033,69</td>\n",
       "      <td>558,167</td>\n",
       "      <td>400,254</td>\n",
       "      <td>10,0697</td>\n",
       "      <td>1,74</td>\n",
       "      <td>250,203</td>\n",
       "      <td>252,136</td>\n",
       "      <td>...</td>\n",
       "      <td>248,928</td>\n",
       "      <td>452,441</td>\n",
       "      <td>452,9</td>\n",
       "      <td>450,523</td>\n",
       "      <td>453,67</td>\n",
       "      <td>462,598</td>\n",
       "      <td>443,682</td>\n",
       "      <td>425,679</td>\n",
       "      <td>66,91</td>\n",
       "      <td>1,31</td>\n",
       "    </tr>\n",
       "    <tr>\n",
       "      <th>...</th>\n",
       "      <td>...</td>\n",
       "      <td>...</td>\n",
       "      <td>...</td>\n",
       "      <td>...</td>\n",
       "      <td>...</td>\n",
       "      <td>...</td>\n",
       "      <td>...</td>\n",
       "      <td>...</td>\n",
       "      <td>...</td>\n",
       "      <td>...</td>\n",
       "      <td>...</td>\n",
       "      <td>...</td>\n",
       "      <td>...</td>\n",
       "      <td>...</td>\n",
       "      <td>...</td>\n",
       "      <td>...</td>\n",
       "      <td>...</td>\n",
       "      <td>...</td>\n",
       "      <td>...</td>\n",
       "      <td>...</td>\n",
       "      <td>...</td>\n",
       "    </tr>\n",
       "    <tr>\n",
       "      <th>1995</th>\n",
       "      <td>2017-03-10 12:00:00</td>\n",
       "      <td>54,95</td>\n",
       "      <td>17,4</td>\n",
       "      <td>4429,2</td>\n",
       "      <td>571,289</td>\n",
       "      <td>406,201</td>\n",
       "      <td>10,0214</td>\n",
       "      <td>1,78</td>\n",
       "      <td>249,258</td>\n",
       "      <td>249,104</td>\n",
       "      <td>...</td>\n",
       "      <td>249,609</td>\n",
       "      <td>554,041</td>\n",
       "      <td>537,803</td>\n",
       "      <td>527,191</td>\n",
       "      <td>576,876</td>\n",
       "      <td>537,946</td>\n",
       "      <td>566,668</td>\n",
       "      <td>544,09</td>\n",
       "      <td>65,55</td>\n",
       "      <td>2,83</td>\n",
       "    </tr>\n",
       "    <tr>\n",
       "      <th>1996</th>\n",
       "      <td>2017-03-10 12:00:00</td>\n",
       "      <td>54,95</td>\n",
       "      <td>17,4</td>\n",
       "      <td>4410,64</td>\n",
       "      <td>572,998</td>\n",
       "      <td>403,77</td>\n",
       "      <td>10,0189</td>\n",
       "      <td>1,78</td>\n",
       "      <td>249,697</td>\n",
       "      <td>251,895</td>\n",
       "      <td>...</td>\n",
       "      <td>249,456</td>\n",
       "      <td>548,785</td>\n",
       "      <td>546,185</td>\n",
       "      <td>526,978</td>\n",
       "      <td>513,317</td>\n",
       "      <td>549,842</td>\n",
       "      <td>553,452</td>\n",
       "      <td>543,092</td>\n",
       "      <td>65,55</td>\n",
       "      <td>2,83</td>\n",
       "    </tr>\n",
       "    <tr>\n",
       "      <th>1997</th>\n",
       "      <td>2017-03-10 12:00:00</td>\n",
       "      <td>54,95</td>\n",
       "      <td>17,4</td>\n",
       "      <td>4407,71</td>\n",
       "      <td>563,049</td>\n",
       "      <td>401,309</td>\n",
       "      <td>10,0165</td>\n",
       "      <td>1,78</td>\n",
       "      <td>249,521</td>\n",
       "      <td>251,96</td>\n",
       "      <td>...</td>\n",
       "      <td>249,697</td>\n",
       "      <td>534,972</td>\n",
       "      <td>560,46</td>\n",
       "      <td>532,162</td>\n",
       "      <td>518,824</td>\n",
       "      <td>547,858</td>\n",
       "      <td>556,252</td>\n",
       "      <td>555,787</td>\n",
       "      <td>65,55</td>\n",
       "      <td>2,83</td>\n",
       "    </tr>\n",
       "    <tr>\n",
       "      <th>1998</th>\n",
       "      <td>2017-03-10 12:00:00</td>\n",
       "      <td>54,95</td>\n",
       "      <td>17,4</td>\n",
       "      <td>4408,2</td>\n",
       "      <td>570,007</td>\n",
       "      <td>399,756</td>\n",
       "      <td>10,014</td>\n",
       "      <td>1,78</td>\n",
       "      <td>249,082</td>\n",
       "      <td>248,137</td>\n",
       "      <td>...</td>\n",
       "      <td>249,675</td>\n",
       "      <td>535,623</td>\n",
       "      <td>549,927</td>\n",
       "      <td>547,214</td>\n",
       "      <td>542,613</td>\n",
       "      <td>511,286</td>\n",
       "      <td>553,172</td>\n",
       "      <td>551,315</td>\n",
       "      <td>65,55</td>\n",
       "      <td>2,83</td>\n",
       "    </tr>\n",
       "    <tr>\n",
       "      <th>1999</th>\n",
       "      <td>2017-03-10 12:00:00</td>\n",
       "      <td>54,95</td>\n",
       "      <td>17,4</td>\n",
       "      <td>4418,46</td>\n",
       "      <td>573,669</td>\n",
       "      <td>398,291</td>\n",
       "      <td>10,0115</td>\n",
       "      <td>1,78</td>\n",
       "      <td>249,258</td>\n",
       "      <td>245,215</td>\n",
       "      <td>...</td>\n",
       "      <td>250,071</td>\n",
       "      <td>549,236</td>\n",
       "      <td>534,408</td>\n",
       "      <td>558,703</td>\n",
       "      <td>551,128</td>\n",
       "      <td>508,976</td>\n",
       "      <td>533,516</td>\n",
       "      <td>543,483</td>\n",
       "      <td>65,55</td>\n",
       "      <td>2,83</td>\n",
       "    </tr>\n",
       "  </tbody>\n",
       "</table>\n",
       "<p>2000 rows × 24 columns</p>\n",
       "</div>"
      ],
      "text/plain": [
       "                     date % Iron Feed % Silica Feed Starch Flow Amina Flow  \\\n",
       "0     2017-03-10 01:00:00        55,2         16,98     3019,53    557,434   \n",
       "1     2017-03-10 01:00:00        55,2         16,98     3024,41    563,965   \n",
       "2     2017-03-10 01:00:00        55,2         16,98     3043,46    568,054   \n",
       "3     2017-03-10 01:00:00        55,2         16,98     3047,36    568,665   \n",
       "4     2017-03-10 01:00:00        55,2         16,98     3033,69    558,167   \n",
       "...                   ...         ...           ...         ...        ...   \n",
       "1995  2017-03-10 12:00:00       54,95          17,4      4429,2    571,289   \n",
       "1996  2017-03-10 12:00:00       54,95          17,4     4410,64    572,998   \n",
       "1997  2017-03-10 12:00:00       54,95          17,4     4407,71    563,049   \n",
       "1998  2017-03-10 12:00:00       54,95          17,4      4408,2    570,007   \n",
       "1999  2017-03-10 12:00:00       54,95          17,4     4418,46    573,669   \n",
       "\n",
       "     Ore Pulp Flow Ore Pulp pH Ore Pulp Density Flotation Column 01 Air Flow  \\\n",
       "0          395,713     10,0664             1,74                      249,214   \n",
       "1          397,383     10,0672             1,74                      249,719   \n",
       "2          399,668      10,068             1,74                      249,741   \n",
       "3          397,939     10,0689             1,74                      249,917   \n",
       "4          400,254     10,0697             1,74                      250,203   \n",
       "...            ...         ...              ...                          ...   \n",
       "1995       406,201     10,0214             1,78                      249,258   \n",
       "1996        403,77     10,0189             1,78                      249,697   \n",
       "1997       401,309     10,0165             1,78                      249,521   \n",
       "1998       399,756      10,014             1,78                      249,082   \n",
       "1999       398,291     10,0115             1,78                      249,258   \n",
       "\n",
       "     Flotation Column 02 Air Flow  ... Flotation Column 07 Air Flow  \\\n",
       "0                         253,235  ...                      250,884   \n",
       "1                         250,532  ...                      248,994   \n",
       "2                         247,874  ...                      248,071   \n",
       "3                         254,487  ...                      251,147   \n",
       "4                         252,136  ...                      248,928   \n",
       "...                           ...  ...                          ...   \n",
       "1995                      249,104  ...                      249,609   \n",
       "1996                      251,895  ...                      249,456   \n",
       "1997                       251,96  ...                      249,697   \n",
       "1998                      248,137  ...                      249,675   \n",
       "1999                      245,215  ...                      250,071   \n",
       "\n",
       "     Flotation Column 01 Level Flotation Column 02 Level  \\\n",
       "0                      457,396                   432,962   \n",
       "1                      451,891                    429,56   \n",
       "2                       451,24                   468,927   \n",
       "3                      452,441                   458,165   \n",
       "4                      452,441                     452,9   \n",
       "...                        ...                       ...   \n",
       "1995                   554,041                   537,803   \n",
       "1996                   548,785                   546,185   \n",
       "1997                   534,972                    560,46   \n",
       "1998                   535,623                   549,927   \n",
       "1999                   549,236                   534,408   \n",
       "\n",
       "     Flotation Column 03 Level Flotation Column 04 Level  \\\n",
       "0                      424,954                   443,558   \n",
       "1                      432,939                   448,086   \n",
       "2                       434,61                   449,688   \n",
       "3                      442,865                    446,21   \n",
       "4                      450,523                    453,67   \n",
       "...                        ...                       ...   \n",
       "1995                   527,191                   576,876   \n",
       "1996                   526,978                   513,317   \n",
       "1997                   532,162                   518,824   \n",
       "1998                   547,214                   542,613   \n",
       "1999                   558,703                   551,128   \n",
       "\n",
       "     Flotation Column 05 Level Flotation Column 06 Level  \\\n",
       "0                      502,255                    446,37   \n",
       "1                      496,363                   445,922   \n",
       "2                      484,411                   447,826   \n",
       "3                      471,411                    437,69   \n",
       "4                      462,598                   443,682   \n",
       "...                        ...                       ...   \n",
       "1995                   537,946                   566,668   \n",
       "1996                   549,842                   553,452   \n",
       "1997                   547,858                   556,252   \n",
       "1998                   511,286                   553,172   \n",
       "1999                   508,976                   533,516   \n",
       "\n",
       "     Flotation Column 07 Level % Iron Concentrate % Silica Concentrate  \n",
       "0                      523,344              66,91                 1,31  \n",
       "1                      498,075              66,91                 1,31  \n",
       "2                      458,567              66,91                 1,31  \n",
       "3                      427,669              66,91                 1,31  \n",
       "4                      425,679              66,91                 1,31  \n",
       "...                        ...                ...                  ...  \n",
       "1995                    544,09              65,55                 2,83  \n",
       "1996                   543,092              65,55                 2,83  \n",
       "1997                   555,787              65,55                 2,83  \n",
       "1998                   551,315              65,55                 2,83  \n",
       "1999                   543,483              65,55                 2,83  \n",
       "\n",
       "[2000 rows x 24 columns]"
      ]
     },
     "execution_count": 12,
     "metadata": {},
     "output_type": "execute_result"
    }
   ],
   "source": [
    "df=df.head(2000)\n",
    "df"
   ]
  },
  {
   "cell_type": "code",
   "execution_count": 13,
   "metadata": {
    "scrolled": true
   },
   "outputs": [
    {
     "data": {
      "text/plain": [
       "date                            object\n",
       "% Iron Feed                     object\n",
       "% Silica Feed                   object\n",
       "Starch Flow                     object\n",
       "Amina Flow                      object\n",
       "Ore Pulp Flow                   object\n",
       "Ore Pulp pH                     object\n",
       "Ore Pulp Density                object\n",
       "Flotation Column 01 Air Flow    object\n",
       "Flotation Column 02 Air Flow    object\n",
       "Flotation Column 03 Air Flow    object\n",
       "Flotation Column 04 Air Flow    object\n",
       "Flotation Column 05 Air Flow    object\n",
       "Flotation Column 06 Air Flow    object\n",
       "Flotation Column 07 Air Flow    object\n",
       "Flotation Column 01 Level       object\n",
       "Flotation Column 02 Level       object\n",
       "Flotation Column 03 Level       object\n",
       "Flotation Column 04 Level       object\n",
       "Flotation Column 05 Level       object\n",
       "Flotation Column 06 Level       object\n",
       "Flotation Column 07 Level       object\n",
       "% Iron Concentrate              object\n",
       "% Silica Concentrate            object\n",
       "dtype: object"
      ]
     },
     "execution_count": 13,
     "metadata": {},
     "output_type": "execute_result"
    }
   ],
   "source": [
    "df.dtypes"
   ]
  },
  {
   "cell_type": "code",
   "execution_count": 14,
   "metadata": {},
   "outputs": [],
   "source": [
    "colname=df.columns"
   ]
  },
  {
   "cell_type": "code",
   "execution_count": 15,
   "metadata": {},
   "outputs": [
    {
     "name": "stderr",
     "output_type": "stream",
     "text": [
      "<ipython-input-15-56a4f851298c>:2: SettingWithCopyWarning: \n",
      "A value is trying to be set on a copy of a slice from a DataFrame.\n",
      "Try using .loc[row_indexer,col_indexer] = value instead\n",
      "\n",
      "See the caveats in the documentation: https://pandas.pydata.org/pandas-docs/stable/user_guide/indexing.html#returning-a-view-versus-a-copy\n",
      "  df[col]=df[col].str.replace(',','.')\n"
     ]
    },
    {
     "data": {
      "text/html": [
       "<div>\n",
       "<style scoped>\n",
       "    .dataframe tbody tr th:only-of-type {\n",
       "        vertical-align: middle;\n",
       "    }\n",
       "\n",
       "    .dataframe tbody tr th {\n",
       "        vertical-align: top;\n",
       "    }\n",
       "\n",
       "    .dataframe thead th {\n",
       "        text-align: right;\n",
       "    }\n",
       "</style>\n",
       "<table border=\"1\" class=\"dataframe\">\n",
       "  <thead>\n",
       "    <tr style=\"text-align: right;\">\n",
       "      <th></th>\n",
       "      <th>date</th>\n",
       "      <th>% Iron Feed</th>\n",
       "      <th>% Silica Feed</th>\n",
       "      <th>Starch Flow</th>\n",
       "      <th>Amina Flow</th>\n",
       "      <th>Ore Pulp Flow</th>\n",
       "      <th>Ore Pulp pH</th>\n",
       "      <th>Ore Pulp Density</th>\n",
       "      <th>Flotation Column 01 Air Flow</th>\n",
       "      <th>Flotation Column 02 Air Flow</th>\n",
       "      <th>...</th>\n",
       "      <th>Flotation Column 07 Air Flow</th>\n",
       "      <th>Flotation Column 01 Level</th>\n",
       "      <th>Flotation Column 02 Level</th>\n",
       "      <th>Flotation Column 03 Level</th>\n",
       "      <th>Flotation Column 04 Level</th>\n",
       "      <th>Flotation Column 05 Level</th>\n",
       "      <th>Flotation Column 06 Level</th>\n",
       "      <th>Flotation Column 07 Level</th>\n",
       "      <th>% Iron Concentrate</th>\n",
       "      <th>% Silica Concentrate</th>\n",
       "    </tr>\n",
       "  </thead>\n",
       "  <tbody>\n",
       "    <tr>\n",
       "      <th>0</th>\n",
       "      <td>2017-03-10 01:00:00</td>\n",
       "      <td>55.2</td>\n",
       "      <td>16.98</td>\n",
       "      <td>3019.53</td>\n",
       "      <td>557.434</td>\n",
       "      <td>395.713</td>\n",
       "      <td>10.0664</td>\n",
       "      <td>1.74</td>\n",
       "      <td>249.214</td>\n",
       "      <td>253.235</td>\n",
       "      <td>...</td>\n",
       "      <td>250.884</td>\n",
       "      <td>457.396</td>\n",
       "      <td>432.962</td>\n",
       "      <td>424.954</td>\n",
       "      <td>443.558</td>\n",
       "      <td>502.255</td>\n",
       "      <td>446.37</td>\n",
       "      <td>523.344</td>\n",
       "      <td>66.91</td>\n",
       "      <td>1.31</td>\n",
       "    </tr>\n",
       "    <tr>\n",
       "      <th>1</th>\n",
       "      <td>2017-03-10 01:00:00</td>\n",
       "      <td>55.2</td>\n",
       "      <td>16.98</td>\n",
       "      <td>3024.41</td>\n",
       "      <td>563.965</td>\n",
       "      <td>397.383</td>\n",
       "      <td>10.0672</td>\n",
       "      <td>1.74</td>\n",
       "      <td>249.719</td>\n",
       "      <td>250.532</td>\n",
       "      <td>...</td>\n",
       "      <td>248.994</td>\n",
       "      <td>451.891</td>\n",
       "      <td>429.56</td>\n",
       "      <td>432.939</td>\n",
       "      <td>448.086</td>\n",
       "      <td>496.363</td>\n",
       "      <td>445.922</td>\n",
       "      <td>498.075</td>\n",
       "      <td>66.91</td>\n",
       "      <td>1.31</td>\n",
       "    </tr>\n",
       "    <tr>\n",
       "      <th>2</th>\n",
       "      <td>2017-03-10 01:00:00</td>\n",
       "      <td>55.2</td>\n",
       "      <td>16.98</td>\n",
       "      <td>3043.46</td>\n",
       "      <td>568.054</td>\n",
       "      <td>399.668</td>\n",
       "      <td>10.068</td>\n",
       "      <td>1.74</td>\n",
       "      <td>249.741</td>\n",
       "      <td>247.874</td>\n",
       "      <td>...</td>\n",
       "      <td>248.071</td>\n",
       "      <td>451.24</td>\n",
       "      <td>468.927</td>\n",
       "      <td>434.61</td>\n",
       "      <td>449.688</td>\n",
       "      <td>484.411</td>\n",
       "      <td>447.826</td>\n",
       "      <td>458.567</td>\n",
       "      <td>66.91</td>\n",
       "      <td>1.31</td>\n",
       "    </tr>\n",
       "    <tr>\n",
       "      <th>3</th>\n",
       "      <td>2017-03-10 01:00:00</td>\n",
       "      <td>55.2</td>\n",
       "      <td>16.98</td>\n",
       "      <td>3047.36</td>\n",
       "      <td>568.665</td>\n",
       "      <td>397.939</td>\n",
       "      <td>10.0689</td>\n",
       "      <td>1.74</td>\n",
       "      <td>249.917</td>\n",
       "      <td>254.487</td>\n",
       "      <td>...</td>\n",
       "      <td>251.147</td>\n",
       "      <td>452.441</td>\n",
       "      <td>458.165</td>\n",
       "      <td>442.865</td>\n",
       "      <td>446.21</td>\n",
       "      <td>471.411</td>\n",
       "      <td>437.69</td>\n",
       "      <td>427.669</td>\n",
       "      <td>66.91</td>\n",
       "      <td>1.31</td>\n",
       "    </tr>\n",
       "    <tr>\n",
       "      <th>4</th>\n",
       "      <td>2017-03-10 01:00:00</td>\n",
       "      <td>55.2</td>\n",
       "      <td>16.98</td>\n",
       "      <td>3033.69</td>\n",
       "      <td>558.167</td>\n",
       "      <td>400.254</td>\n",
       "      <td>10.0697</td>\n",
       "      <td>1.74</td>\n",
       "      <td>250.203</td>\n",
       "      <td>252.136</td>\n",
       "      <td>...</td>\n",
       "      <td>248.928</td>\n",
       "      <td>452.441</td>\n",
       "      <td>452.9</td>\n",
       "      <td>450.523</td>\n",
       "      <td>453.67</td>\n",
       "      <td>462.598</td>\n",
       "      <td>443.682</td>\n",
       "      <td>425.679</td>\n",
       "      <td>66.91</td>\n",
       "      <td>1.31</td>\n",
       "    </tr>\n",
       "  </tbody>\n",
       "</table>\n",
       "<p>5 rows × 24 columns</p>\n",
       "</div>"
      ],
      "text/plain": [
       "                  date % Iron Feed % Silica Feed Starch Flow Amina Flow  \\\n",
       "0  2017-03-10 01:00:00        55.2         16.98     3019.53    557.434   \n",
       "1  2017-03-10 01:00:00        55.2         16.98     3024.41    563.965   \n",
       "2  2017-03-10 01:00:00        55.2         16.98     3043.46    568.054   \n",
       "3  2017-03-10 01:00:00        55.2         16.98     3047.36    568.665   \n",
       "4  2017-03-10 01:00:00        55.2         16.98     3033.69    558.167   \n",
       "\n",
       "  Ore Pulp Flow Ore Pulp pH Ore Pulp Density Flotation Column 01 Air Flow  \\\n",
       "0       395.713     10.0664             1.74                      249.214   \n",
       "1       397.383     10.0672             1.74                      249.719   \n",
       "2       399.668      10.068             1.74                      249.741   \n",
       "3       397.939     10.0689             1.74                      249.917   \n",
       "4       400.254     10.0697             1.74                      250.203   \n",
       "\n",
       "  Flotation Column 02 Air Flow  ... Flotation Column 07 Air Flow  \\\n",
       "0                      253.235  ...                      250.884   \n",
       "1                      250.532  ...                      248.994   \n",
       "2                      247.874  ...                      248.071   \n",
       "3                      254.487  ...                      251.147   \n",
       "4                      252.136  ...                      248.928   \n",
       "\n",
       "  Flotation Column 01 Level Flotation Column 02 Level  \\\n",
       "0                   457.396                   432.962   \n",
       "1                   451.891                    429.56   \n",
       "2                    451.24                   468.927   \n",
       "3                   452.441                   458.165   \n",
       "4                   452.441                     452.9   \n",
       "\n",
       "  Flotation Column 03 Level Flotation Column 04 Level  \\\n",
       "0                   424.954                   443.558   \n",
       "1                   432.939                   448.086   \n",
       "2                    434.61                   449.688   \n",
       "3                   442.865                    446.21   \n",
       "4                   450.523                    453.67   \n",
       "\n",
       "  Flotation Column 05 Level Flotation Column 06 Level  \\\n",
       "0                   502.255                    446.37   \n",
       "1                   496.363                   445.922   \n",
       "2                   484.411                   447.826   \n",
       "3                   471.411                    437.69   \n",
       "4                   462.598                   443.682   \n",
       "\n",
       "  Flotation Column 07 Level % Iron Concentrate % Silica Concentrate  \n",
       "0                   523.344              66.91                 1.31  \n",
       "1                   498.075              66.91                 1.31  \n",
       "2                   458.567              66.91                 1.31  \n",
       "3                   427.669              66.91                 1.31  \n",
       "4                   425.679              66.91                 1.31  \n",
       "\n",
       "[5 rows x 24 columns]"
      ]
     },
     "execution_count": 15,
     "metadata": {},
     "output_type": "execute_result"
    }
   ],
   "source": [
    "for col in colname:\n",
    "    df[col]=df[col].str.replace(',','.')\n",
    "df.head()"
   ]
  },
  {
   "cell_type": "code",
   "execution_count": 16,
   "metadata": {
    "scrolled": true
   },
   "outputs": [
    {
     "data": {
      "text/plain": [
       "date                            object\n",
       "% Iron Feed                     object\n",
       "% Silica Feed                   object\n",
       "Starch Flow                     object\n",
       "Amina Flow                      object\n",
       "Ore Pulp Flow                   object\n",
       "Ore Pulp pH                     object\n",
       "Ore Pulp Density                object\n",
       "Flotation Column 01 Air Flow    object\n",
       "Flotation Column 02 Air Flow    object\n",
       "Flotation Column 03 Air Flow    object\n",
       "Flotation Column 04 Air Flow    object\n",
       "Flotation Column 05 Air Flow    object\n",
       "Flotation Column 06 Air Flow    object\n",
       "Flotation Column 07 Air Flow    object\n",
       "Flotation Column 01 Level       object\n",
       "Flotation Column 02 Level       object\n",
       "Flotation Column 03 Level       object\n",
       "Flotation Column 04 Level       object\n",
       "Flotation Column 05 Level       object\n",
       "Flotation Column 06 Level       object\n",
       "Flotation Column 07 Level       object\n",
       "% Iron Concentrate              object\n",
       "% Silica Concentrate            object\n",
       "dtype: object"
      ]
     },
     "execution_count": 16,
     "metadata": {},
     "output_type": "execute_result"
    }
   ],
   "source": [
    "df.dtypes"
   ]
  },
  {
   "cell_type": "markdown",
   "metadata": {},
   "source": [
    "# Approach:1(Without Iron Concentrate)"
   ]
  },
  {
   "cell_type": "code",
   "execution_count": 17,
   "metadata": {},
   "outputs": [],
   "source": [
    "df=df.drop(['% Iron Concentrate'], axis = 1)"
   ]
  },
  {
   "cell_type": "code",
   "execution_count": 18,
   "metadata": {},
   "outputs": [],
   "source": [
    "df=df.drop(['date'], axis = 1)"
   ]
  },
  {
   "cell_type": "code",
   "execution_count": 19,
   "metadata": {},
   "outputs": [],
   "source": [
    "colname=df.columns"
   ]
  },
  {
   "cell_type": "code",
   "execution_count": 20,
   "metadata": {},
   "outputs": [
    {
     "data": {
      "text/html": [
       "<div>\n",
       "<style scoped>\n",
       "    .dataframe tbody tr th:only-of-type {\n",
       "        vertical-align: middle;\n",
       "    }\n",
       "\n",
       "    .dataframe tbody tr th {\n",
       "        vertical-align: top;\n",
       "    }\n",
       "\n",
       "    .dataframe thead th {\n",
       "        text-align: right;\n",
       "    }\n",
       "</style>\n",
       "<table border=\"1\" class=\"dataframe\">\n",
       "  <thead>\n",
       "    <tr style=\"text-align: right;\">\n",
       "      <th></th>\n",
       "      <th>% Iron Feed</th>\n",
       "      <th>% Silica Feed</th>\n",
       "      <th>Starch Flow</th>\n",
       "      <th>Amina Flow</th>\n",
       "      <th>Ore Pulp Flow</th>\n",
       "      <th>Ore Pulp pH</th>\n",
       "      <th>Ore Pulp Density</th>\n",
       "      <th>Flotation Column 01 Air Flow</th>\n",
       "      <th>Flotation Column 02 Air Flow</th>\n",
       "      <th>Flotation Column 03 Air Flow</th>\n",
       "      <th>...</th>\n",
       "      <th>Flotation Column 06 Air Flow</th>\n",
       "      <th>Flotation Column 07 Air Flow</th>\n",
       "      <th>Flotation Column 01 Level</th>\n",
       "      <th>Flotation Column 02 Level</th>\n",
       "      <th>Flotation Column 03 Level</th>\n",
       "      <th>Flotation Column 04 Level</th>\n",
       "      <th>Flotation Column 05 Level</th>\n",
       "      <th>Flotation Column 06 Level</th>\n",
       "      <th>Flotation Column 07 Level</th>\n",
       "      <th>% Silica Concentrate</th>\n",
       "    </tr>\n",
       "  </thead>\n",
       "  <tbody>\n",
       "    <tr>\n",
       "      <th>0</th>\n",
       "      <td>55.2</td>\n",
       "      <td>16.98</td>\n",
       "      <td>3019.53</td>\n",
       "      <td>557.434</td>\n",
       "      <td>395.713</td>\n",
       "      <td>10.0664</td>\n",
       "      <td>1.74</td>\n",
       "      <td>249.214</td>\n",
       "      <td>253.235</td>\n",
       "      <td>250.576</td>\n",
       "      <td>...</td>\n",
       "      <td>250.225</td>\n",
       "      <td>250.884</td>\n",
       "      <td>457.396</td>\n",
       "      <td>432.962</td>\n",
       "      <td>424.954</td>\n",
       "      <td>443.558</td>\n",
       "      <td>502.255</td>\n",
       "      <td>446.370</td>\n",
       "      <td>523.344</td>\n",
       "      <td>1.31</td>\n",
       "    </tr>\n",
       "    <tr>\n",
       "      <th>1</th>\n",
       "      <td>55.2</td>\n",
       "      <td>16.98</td>\n",
       "      <td>3024.41</td>\n",
       "      <td>563.965</td>\n",
       "      <td>397.383</td>\n",
       "      <td>10.0672</td>\n",
       "      <td>1.74</td>\n",
       "      <td>249.719</td>\n",
       "      <td>250.532</td>\n",
       "      <td>250.862</td>\n",
       "      <td>...</td>\n",
       "      <td>250.137</td>\n",
       "      <td>248.994</td>\n",
       "      <td>451.891</td>\n",
       "      <td>429.560</td>\n",
       "      <td>432.939</td>\n",
       "      <td>448.086</td>\n",
       "      <td>496.363</td>\n",
       "      <td>445.922</td>\n",
       "      <td>498.075</td>\n",
       "      <td>1.31</td>\n",
       "    </tr>\n",
       "    <tr>\n",
       "      <th>2</th>\n",
       "      <td>55.2</td>\n",
       "      <td>16.98</td>\n",
       "      <td>3043.46</td>\n",
       "      <td>568.054</td>\n",
       "      <td>399.668</td>\n",
       "      <td>10.0680</td>\n",
       "      <td>1.74</td>\n",
       "      <td>249.741</td>\n",
       "      <td>247.874</td>\n",
       "      <td>250.313</td>\n",
       "      <td>...</td>\n",
       "      <td>251.345</td>\n",
       "      <td>248.071</td>\n",
       "      <td>451.240</td>\n",
       "      <td>468.927</td>\n",
       "      <td>434.610</td>\n",
       "      <td>449.688</td>\n",
       "      <td>484.411</td>\n",
       "      <td>447.826</td>\n",
       "      <td>458.567</td>\n",
       "      <td>1.31</td>\n",
       "    </tr>\n",
       "    <tr>\n",
       "      <th>3</th>\n",
       "      <td>55.2</td>\n",
       "      <td>16.98</td>\n",
       "      <td>3047.36</td>\n",
       "      <td>568.665</td>\n",
       "      <td>397.939</td>\n",
       "      <td>10.0689</td>\n",
       "      <td>1.74</td>\n",
       "      <td>249.917</td>\n",
       "      <td>254.487</td>\n",
       "      <td>250.049</td>\n",
       "      <td>...</td>\n",
       "      <td>250.422</td>\n",
       "      <td>251.147</td>\n",
       "      <td>452.441</td>\n",
       "      <td>458.165</td>\n",
       "      <td>442.865</td>\n",
       "      <td>446.210</td>\n",
       "      <td>471.411</td>\n",
       "      <td>437.690</td>\n",
       "      <td>427.669</td>\n",
       "      <td>1.31</td>\n",
       "    </tr>\n",
       "    <tr>\n",
       "      <th>4</th>\n",
       "      <td>55.2</td>\n",
       "      <td>16.98</td>\n",
       "      <td>3033.69</td>\n",
       "      <td>558.167</td>\n",
       "      <td>400.254</td>\n",
       "      <td>10.0697</td>\n",
       "      <td>1.74</td>\n",
       "      <td>250.203</td>\n",
       "      <td>252.136</td>\n",
       "      <td>249.895</td>\n",
       "      <td>...</td>\n",
       "      <td>249.983</td>\n",
       "      <td>248.928</td>\n",
       "      <td>452.441</td>\n",
       "      <td>452.900</td>\n",
       "      <td>450.523</td>\n",
       "      <td>453.670</td>\n",
       "      <td>462.598</td>\n",
       "      <td>443.682</td>\n",
       "      <td>425.679</td>\n",
       "      <td>1.31</td>\n",
       "    </tr>\n",
       "  </tbody>\n",
       "</table>\n",
       "<p>5 rows × 22 columns</p>\n",
       "</div>"
      ],
      "text/plain": [
       "   % Iron Feed  % Silica Feed  Starch Flow  Amina Flow  Ore Pulp Flow  \\\n",
       "0         55.2          16.98      3019.53     557.434        395.713   \n",
       "1         55.2          16.98      3024.41     563.965        397.383   \n",
       "2         55.2          16.98      3043.46     568.054        399.668   \n",
       "3         55.2          16.98      3047.36     568.665        397.939   \n",
       "4         55.2          16.98      3033.69     558.167        400.254   \n",
       "\n",
       "   Ore Pulp pH  Ore Pulp Density  Flotation Column 01 Air Flow  \\\n",
       "0      10.0664              1.74                       249.214   \n",
       "1      10.0672              1.74                       249.719   \n",
       "2      10.0680              1.74                       249.741   \n",
       "3      10.0689              1.74                       249.917   \n",
       "4      10.0697              1.74                       250.203   \n",
       "\n",
       "   Flotation Column 02 Air Flow  Flotation Column 03 Air Flow  ...  \\\n",
       "0                       253.235                       250.576  ...   \n",
       "1                       250.532                       250.862  ...   \n",
       "2                       247.874                       250.313  ...   \n",
       "3                       254.487                       250.049  ...   \n",
       "4                       252.136                       249.895  ...   \n",
       "\n",
       "   Flotation Column 06 Air Flow  Flotation Column 07 Air Flow  \\\n",
       "0                       250.225                       250.884   \n",
       "1                       250.137                       248.994   \n",
       "2                       251.345                       248.071   \n",
       "3                       250.422                       251.147   \n",
       "4                       249.983                       248.928   \n",
       "\n",
       "   Flotation Column 01 Level  Flotation Column 02 Level  \\\n",
       "0                    457.396                    432.962   \n",
       "1                    451.891                    429.560   \n",
       "2                    451.240                    468.927   \n",
       "3                    452.441                    458.165   \n",
       "4                    452.441                    452.900   \n",
       "\n",
       "   Flotation Column 03 Level  Flotation Column 04 Level  \\\n",
       "0                    424.954                    443.558   \n",
       "1                    432.939                    448.086   \n",
       "2                    434.610                    449.688   \n",
       "3                    442.865                    446.210   \n",
       "4                    450.523                    453.670   \n",
       "\n",
       "   Flotation Column 05 Level  Flotation Column 06 Level  \\\n",
       "0                    502.255                    446.370   \n",
       "1                    496.363                    445.922   \n",
       "2                    484.411                    447.826   \n",
       "3                    471.411                    437.690   \n",
       "4                    462.598                    443.682   \n",
       "\n",
       "   Flotation Column 07 Level  % Silica Concentrate  \n",
       "0                    523.344                  1.31  \n",
       "1                    498.075                  1.31  \n",
       "2                    458.567                  1.31  \n",
       "3                    427.669                  1.31  \n",
       "4                    425.679                  1.31  \n",
       "\n",
       "[5 rows x 22 columns]"
      ]
     },
     "execution_count": 20,
     "metadata": {},
     "output_type": "execute_result"
    }
   ],
   "source": [
    "for col in colname:\n",
    "    df[col]=df[col].astype(float)\n",
    "df.head()"
   ]
  },
  {
   "cell_type": "code",
   "execution_count": 21,
   "metadata": {},
   "outputs": [
    {
     "data": {
      "text/plain": [
       "% Iron Feed                     float64\n",
       "% Silica Feed                   float64\n",
       "Starch Flow                     float64\n",
       "Amina Flow                      float64\n",
       "Ore Pulp Flow                   float64\n",
       "Ore Pulp pH                     float64\n",
       "Ore Pulp Density                float64\n",
       "Flotation Column 01 Air Flow    float64\n",
       "Flotation Column 02 Air Flow    float64\n",
       "Flotation Column 03 Air Flow    float64\n",
       "Flotation Column 04 Air Flow    float64\n",
       "Flotation Column 05 Air Flow    float64\n",
       "Flotation Column 06 Air Flow    float64\n",
       "Flotation Column 07 Air Flow    float64\n",
       "Flotation Column 01 Level       float64\n",
       "Flotation Column 02 Level       float64\n",
       "Flotation Column 03 Level       float64\n",
       "Flotation Column 04 Level       float64\n",
       "Flotation Column 05 Level       float64\n",
       "Flotation Column 06 Level       float64\n",
       "Flotation Column 07 Level       float64\n",
       "% Silica Concentrate            float64\n",
       "dtype: object"
      ]
     },
     "execution_count": 21,
     "metadata": {},
     "output_type": "execute_result"
    }
   ],
   "source": [
    "df.dtypes"
   ]
  },
  {
   "cell_type": "code",
   "execution_count": 22,
   "metadata": {},
   "outputs": [
    {
     "data": {
      "text/plain": [
       "array([1.31, 1.31, 1.31, ..., 2.83, 2.83, 2.83])"
      ]
     },
     "execution_count": 22,
     "metadata": {},
     "output_type": "execute_result"
    }
   ],
   "source": [
    "y=df.iloc[:,-1].values\n",
    "y"
   ]
  },
  {
   "cell_type": "code",
   "execution_count": 23,
   "metadata": {},
   "outputs": [],
   "source": [
    "df['Flotation Column 1234567 Level']=(df['Flotation Column 01 Level']+df['Flotation Column 02 Level']+df['Flotation Column 03 Level']+df['Flotation Column 04 Level']+df['Flotation Column 05 Level']+df['Flotation Column 06 Level']+df['Flotation Column 07 Level'])/7\n",
    "df['Flotation Column 1234567 Air Flow']=(df['Flotation Column 01 Air Flow']+df['Flotation Column 02 Air Flow']+df['Flotation Column 03 Air Flow']+df['Flotation Column 04 Air Flow']+df['Flotation Column 05 Air Flow']+df['Flotation Column 06 Air Flow']+df['Flotation Column 07 Air Flow'])/7"
   ]
  },
  {
   "cell_type": "code",
   "execution_count": 24,
   "metadata": {},
   "outputs": [],
   "source": [
    "df=df.drop(['Flotation Column 01 Air Flow','% Silica Concentrate','Flotation Column 02 Air Flow','Flotation Column 03 Air Flow','Flotation Column 04 Air Flow','Flotation Column 05 Air Flow','Flotation Column 06 Air Flow','Flotation Column 07 Air Flow','Flotation Column 01 Level','Flotation Column 02 Level','Flotation Column 03 Level','Flotation Column 04 Level','Flotation Column 05 Level','Flotation Column 06 Level','Flotation Column 07 Level'], axis = 1)"
   ]
  },
  {
   "cell_type": "code",
   "execution_count": 25,
   "metadata": {},
   "outputs": [
    {
     "data": {
      "text/plain": [
       "% Iron Feed                          float64\n",
       "% Silica Feed                        float64\n",
       "Starch Flow                          float64\n",
       "Amina Flow                           float64\n",
       "Ore Pulp Flow                        float64\n",
       "Ore Pulp pH                          float64\n",
       "Ore Pulp Density                     float64\n",
       "Flotation Column 1234567 Level       float64\n",
       "Flotation Column 1234567 Air Flow    float64\n",
       "dtype: object"
      ]
     },
     "execution_count": 25,
     "metadata": {},
     "output_type": "execute_result"
    }
   ],
   "source": [
    "df.dtypes"
   ]
  },
  {
   "cell_type": "code",
   "execution_count": 26,
   "metadata": {},
   "outputs": [
    {
     "data": {
      "text/html": [
       "<div>\n",
       "<style scoped>\n",
       "    .dataframe tbody tr th:only-of-type {\n",
       "        vertical-align: middle;\n",
       "    }\n",
       "\n",
       "    .dataframe tbody tr th {\n",
       "        vertical-align: top;\n",
       "    }\n",
       "\n",
       "    .dataframe thead th {\n",
       "        text-align: right;\n",
       "    }\n",
       "</style>\n",
       "<table border=\"1\" class=\"dataframe\">\n",
       "  <thead>\n",
       "    <tr style=\"text-align: right;\">\n",
       "      <th></th>\n",
       "      <th>% Iron Feed</th>\n",
       "      <th>% Silica Feed</th>\n",
       "      <th>Starch Flow</th>\n",
       "      <th>Amina Flow</th>\n",
       "      <th>Ore Pulp Flow</th>\n",
       "      <th>Ore Pulp pH</th>\n",
       "      <th>Ore Pulp Density</th>\n",
       "      <th>Flotation Column 1234567 Level</th>\n",
       "      <th>Flotation Column 1234567 Air Flow</th>\n",
       "    </tr>\n",
       "  </thead>\n",
       "  <tbody>\n",
       "    <tr>\n",
       "      <th>0</th>\n",
       "      <td>55.20</td>\n",
       "      <td>16.98</td>\n",
       "      <td>3019.53</td>\n",
       "      <td>557.434</td>\n",
       "      <td>395.713</td>\n",
       "      <td>10.0664</td>\n",
       "      <td>1.74</td>\n",
       "      <td>461.548429</td>\n",
       "      <td>265.090000</td>\n",
       "    </tr>\n",
       "    <tr>\n",
       "      <th>1</th>\n",
       "      <td>55.20</td>\n",
       "      <td>16.98</td>\n",
       "      <td>3024.41</td>\n",
       "      <td>563.965</td>\n",
       "      <td>397.383</td>\n",
       "      <td>10.0672</td>\n",
       "      <td>1.74</td>\n",
       "      <td>457.548000</td>\n",
       "      <td>264.534286</td>\n",
       "    </tr>\n",
       "    <tr>\n",
       "      <th>2</th>\n",
       "      <td>55.20</td>\n",
       "      <td>16.98</td>\n",
       "      <td>3043.46</td>\n",
       "      <td>568.054</td>\n",
       "      <td>399.668</td>\n",
       "      <td>10.0680</td>\n",
       "      <td>1.74</td>\n",
       "      <td>456.467000</td>\n",
       "      <td>264.120000</td>\n",
       "    </tr>\n",
       "    <tr>\n",
       "      <th>3</th>\n",
       "      <td>55.20</td>\n",
       "      <td>16.98</td>\n",
       "      <td>3047.36</td>\n",
       "      <td>568.665</td>\n",
       "      <td>397.939</td>\n",
       "      <td>10.0689</td>\n",
       "      <td>1.74</td>\n",
       "      <td>448.064429</td>\n",
       "      <td>265.359714</td>\n",
       "    </tr>\n",
       "    <tr>\n",
       "      <th>4</th>\n",
       "      <td>55.20</td>\n",
       "      <td>16.98</td>\n",
       "      <td>3033.69</td>\n",
       "      <td>558.167</td>\n",
       "      <td>400.254</td>\n",
       "      <td>10.0697</td>\n",
       "      <td>1.74</td>\n",
       "      <td>448.784714</td>\n",
       "      <td>264.663000</td>\n",
       "    </tr>\n",
       "    <tr>\n",
       "      <th>...</th>\n",
       "      <td>...</td>\n",
       "      <td>...</td>\n",
       "      <td>...</td>\n",
       "      <td>...</td>\n",
       "      <td>...</td>\n",
       "      <td>...</td>\n",
       "      <td>...</td>\n",
       "      <td>...</td>\n",
       "      <td>...</td>\n",
       "    </tr>\n",
       "    <tr>\n",
       "      <th>1995</th>\n",
       "      <td>54.95</td>\n",
       "      <td>17.40</td>\n",
       "      <td>4429.20</td>\n",
       "      <td>571.289</td>\n",
       "      <td>406.201</td>\n",
       "      <td>10.0214</td>\n",
       "      <td>1.78</td>\n",
       "      <td>549.230714</td>\n",
       "      <td>264.308286</td>\n",
       "    </tr>\n",
       "    <tr>\n",
       "      <th>1996</th>\n",
       "      <td>54.95</td>\n",
       "      <td>17.40</td>\n",
       "      <td>4410.64</td>\n",
       "      <td>572.998</td>\n",
       "      <td>403.770</td>\n",
       "      <td>10.0189</td>\n",
       "      <td>1.78</td>\n",
       "      <td>540.235857</td>\n",
       "      <td>264.779143</td>\n",
       "    </tr>\n",
       "    <tr>\n",
       "      <th>1997</th>\n",
       "      <td>54.95</td>\n",
       "      <td>17.40</td>\n",
       "      <td>4407.71</td>\n",
       "      <td>563.049</td>\n",
       "      <td>401.309</td>\n",
       "      <td>10.0165</td>\n",
       "      <td>1.78</td>\n",
       "      <td>543.759286</td>\n",
       "      <td>264.807143</td>\n",
       "    </tr>\n",
       "    <tr>\n",
       "      <th>1998</th>\n",
       "      <td>54.95</td>\n",
       "      <td>17.40</td>\n",
       "      <td>4408.20</td>\n",
       "      <td>570.007</td>\n",
       "      <td>399.756</td>\n",
       "      <td>10.0140</td>\n",
       "      <td>1.78</td>\n",
       "      <td>541.592857</td>\n",
       "      <td>264.173286</td>\n",
       "    </tr>\n",
       "    <tr>\n",
       "      <th>1999</th>\n",
       "      <td>54.95</td>\n",
       "      <td>17.40</td>\n",
       "      <td>4418.46</td>\n",
       "      <td>573.669</td>\n",
       "      <td>398.291</td>\n",
       "      <td>10.0115</td>\n",
       "      <td>1.78</td>\n",
       "      <td>539.921429</td>\n",
       "      <td>263.828143</td>\n",
       "    </tr>\n",
       "  </tbody>\n",
       "</table>\n",
       "<p>2000 rows × 9 columns</p>\n",
       "</div>"
      ],
      "text/plain": [
       "      % Iron Feed  % Silica Feed  Starch Flow  Amina Flow  Ore Pulp Flow  \\\n",
       "0           55.20          16.98      3019.53     557.434        395.713   \n",
       "1           55.20          16.98      3024.41     563.965        397.383   \n",
       "2           55.20          16.98      3043.46     568.054        399.668   \n",
       "3           55.20          16.98      3047.36     568.665        397.939   \n",
       "4           55.20          16.98      3033.69     558.167        400.254   \n",
       "...           ...            ...          ...         ...            ...   \n",
       "1995        54.95          17.40      4429.20     571.289        406.201   \n",
       "1996        54.95          17.40      4410.64     572.998        403.770   \n",
       "1997        54.95          17.40      4407.71     563.049        401.309   \n",
       "1998        54.95          17.40      4408.20     570.007        399.756   \n",
       "1999        54.95          17.40      4418.46     573.669        398.291   \n",
       "\n",
       "      Ore Pulp pH  Ore Pulp Density  Flotation Column 1234567 Level  \\\n",
       "0         10.0664              1.74                      461.548429   \n",
       "1         10.0672              1.74                      457.548000   \n",
       "2         10.0680              1.74                      456.467000   \n",
       "3         10.0689              1.74                      448.064429   \n",
       "4         10.0697              1.74                      448.784714   \n",
       "...           ...               ...                             ...   \n",
       "1995      10.0214              1.78                      549.230714   \n",
       "1996      10.0189              1.78                      540.235857   \n",
       "1997      10.0165              1.78                      543.759286   \n",
       "1998      10.0140              1.78                      541.592857   \n",
       "1999      10.0115              1.78                      539.921429   \n",
       "\n",
       "      Flotation Column 1234567 Air Flow  \n",
       "0                            265.090000  \n",
       "1                            264.534286  \n",
       "2                            264.120000  \n",
       "3                            265.359714  \n",
       "4                            264.663000  \n",
       "...                                 ...  \n",
       "1995                         264.308286  \n",
       "1996                         264.779143  \n",
       "1997                         264.807143  \n",
       "1998                         264.173286  \n",
       "1999                         263.828143  \n",
       "\n",
       "[2000 rows x 9 columns]"
      ]
     },
     "execution_count": 26,
     "metadata": {},
     "output_type": "execute_result"
    }
   ],
   "source": [
    "df"
   ]
  },
  {
   "cell_type": "code",
   "execution_count": 27,
   "metadata": {},
   "outputs": [],
   "source": [
    "x=df"
   ]
  },
  {
   "cell_type": "code",
   "execution_count": 28,
   "metadata": {},
   "outputs": [
    {
     "data": {
      "text/plain": [
       "(2000, 9)"
      ]
     },
     "execution_count": 28,
     "metadata": {},
     "output_type": "execute_result"
    }
   ],
   "source": [
    "x.shape"
   ]
  },
  {
   "cell_type": "code",
   "execution_count": 29,
   "metadata": {},
   "outputs": [
    {
     "data": {
      "text/plain": [
       "(2000,)"
      ]
     },
     "execution_count": 29,
     "metadata": {},
     "output_type": "execute_result"
    }
   ],
   "source": [
    "y.shape"
   ]
  },
  {
   "cell_type": "markdown",
   "metadata": {},
   "source": [
    "# Data Visualization in Area"
   ]
  },
  {
   "cell_type": "code",
   "execution_count": 30,
   "metadata": {
    "scrolled": true
   },
   "outputs": [
    {
     "data": {
      "text/plain": [
       "<matplotlib.axes._subplots.AxesSubplot at 0x2a19a117970>"
      ]
     },
     "execution_count": 30,
     "metadata": {},
     "output_type": "execute_result"
    },
    {
     "data": {
      "image/png": "[encoded data removed]",
      "text/plain": [
       "<Figure size 432x288 with 1 Axes>"
      ]
     },
     "metadata": {
      "needs_background": "light"
     },
     "output_type": "display_data"
    }
   ],
   "source": [
    "df.plot.area(alpha=1)"
   ]
  },
  {
   "cell_type": "markdown",
   "metadata": {},
   "source": [
    "# Data Visualization in Barplots"
   ]
  },
  {
   "cell_type": "code",
   "execution_count": 31,
   "metadata": {},
   "outputs": [
    {
     "data": {
      "text/plain": [
       "<matplotlib.axes._subplots.AxesSubplot at 0x2a211b75940>"
      ]
     },
     "execution_count": 31,
     "metadata": {},
     "output_type": "execute_result"
    },
    {
     "data": {
      "image/png": "[encoded data removed]",
      "text/plain": [
       "<Figure size 432x288 with 1 Axes>"
      ]
     },
     "metadata": {
      "needs_background": "light"
     },
     "output_type": "display_data"
    }
   ],
   "source": [
    "df.plot.bar()"
   ]
  },
  {
   "cell_type": "markdown",
   "metadata": {},
   "source": [
    "# Data Visualization in Histograms"
   ]
  },
  {
   "cell_type": "code",
   "execution_count": 32,
   "metadata": {},
   "outputs": [
    {
     "data": {
      "text/plain": [
       "<matplotlib.axes._subplots.AxesSubplot at 0x2a220b45040>"
      ]
     },
     "execution_count": 32,
     "metadata": {},
     "output_type": "execute_result"
    },
    {
     "data": {
      "image/png": "[encoded data removed]",
      "text/plain": [
       "<Figure size 432x288 with 1 Axes>"
      ]
     },
     "metadata": {
      "needs_background": "light"
     },
     "output_type": "display_data"
    }
   ],
   "source": [
    "df.plot.hist(bins=50)"
   ]
  },
  {
   "cell_type": "markdown",
   "metadata": {},
   "source": [
    "# Task_62743(Taking Care Of Missing Data)"
   ]
  },
  {
   "cell_type": "code",
   "execution_count": 33,
   "metadata": {
    "scrolled": true
   },
   "outputs": [
    {
     "data": {
      "text/plain": [
       "False"
      ]
     },
     "execution_count": 33,
     "metadata": {},
     "output_type": "execute_result"
    }
   ],
   "source": [
    "df.isnull().any().any()"
   ]
  },
  {
   "cell_type": "code",
   "execution_count": 34,
   "metadata": {},
   "outputs": [
    {
     "data": {
      "text/plain": [
       "% Iron Feed                          False\n",
       "% Silica Feed                        False\n",
       "Starch Flow                          False\n",
       "Amina Flow                           False\n",
       "Ore Pulp Flow                        False\n",
       "Ore Pulp pH                          False\n",
       "Ore Pulp Density                     False\n",
       "Flotation Column 1234567 Level       False\n",
       "Flotation Column 1234567 Air Flow    False\n",
       "dtype: bool"
      ]
     },
     "execution_count": 34,
     "metadata": {},
     "output_type": "execute_result"
    }
   ],
   "source": [
    "df.isnull().any()"
   ]
  },
  {
   "cell_type": "markdown",
   "metadata": {},
   "source": [
    "# Task_62744(Label Encoding)\n",
    "Label encoding not requried in our project"
   ]
  },
  {
   "cell_type": "markdown",
   "metadata": {},
   "source": [
    "# Task_62745(One Hot Encoding)\n",
    "one hot encoding not requried in our project"
   ]
  },
  {
   "cell_type": "code",
   "execution_count": 35,
   "metadata": {
    "scrolled": true
   },
   "outputs": [
    {
     "data": {
      "text/plain": [
       "array([[442.81408935,  81.07944312,   5.16381722, ...,  54.85617194,\n",
       "          9.73653223, 387.89543061],\n",
       "       [442.81408935,  81.07944312,   5.1721627 , ...,  54.85617194,\n",
       "          9.65214173, 387.08227646],\n",
       "       [442.81408935,  81.07944312,   5.20474085, ...,  54.85617194,\n",
       "          9.62933764, 386.476069  ],\n",
       "       ...,\n",
       "       [440.80859075,  83.08494171,   7.53779853, ...,  56.11723336,\n",
       "         11.4708002 , 387.48153724],\n",
       "       [440.80859075,  83.08494171,   7.5386365 , ...,  56.11723336,\n",
       "         11.4250986 , 386.55403983],\n",
       "       [440.80859075,  83.08494171,   7.55618253, ...,  56.11723336,\n",
       "         11.38983921, 386.0490063 ]])"
      ]
     },
     "execution_count": 35,
     "metadata": {},
     "output_type": "execute_result"
    }
   ],
   "source": [
    "from sklearn.preprocessing import StandardScaler\n",
    "sc=StandardScaler(with_mean=False)\n",
    "x=sc.fit_transform(x)\n",
    "x"
   ]
  },
  {
   "cell_type": "code",
   "execution_count": 36,
   "metadata": {},
   "outputs": [
    {
     "data": {
      "text/plain": [
       "['Transformssllb']"
      ]
     },
     "execution_count": 36,
     "metadata": {},
     "output_type": "execute_result"
    }
   ],
   "source": [
    "import joblib\n",
    "joblib.dump(sc,'Transformssllb')"
   ]
  },
  {
   "cell_type": "code",
   "execution_count": 37,
   "metadata": {},
   "outputs": [
    {
     "data": {
      "text/plain": [
       "<matplotlib.collections.PathCollection at 0x2a223f34c70>"
      ]
     },
     "execution_count": 37,
     "metadata": {},
     "output_type": "execute_result"
    },
    {
     "data": {
      "image/png": "[encoded data removed]",
      "text/plain": [
       "<Figure size 432x288 with 1 Axes>"
      ]
     },
     "metadata": {
      "needs_background": "light"
     },
     "output_type": "display_data"
    }
   ],
   "source": [
    "plt.scatter(x[:,0],y)"
   ]
  },
  {
   "cell_type": "code",
   "execution_count": 38,
   "metadata": {},
   "outputs": [
    {
     "data": {
      "text/plain": [
       "<matplotlib.collections.PathCollection at 0x2a223f36280>"
      ]
     },
     "execution_count": 38,
     "metadata": {},
     "output_type": "execute_result"
    },
    {
     "data": {
      "image/png": "[encoded data removed]",
      "text/plain": [
       "<Figure size 432x288 with 1 Axes>"
      ]
     },
     "metadata": {
      "needs_background": "light"
     },
     "output_type": "display_data"
    }
   ],
   "source": [
    "plt.scatter(x[:,1],y)"
   ]
  },
  {
   "cell_type": "code",
   "execution_count": 39,
   "metadata": {},
   "outputs": [
    {
     "data": {
      "text/plain": [
       "<matplotlib.collections.PathCollection at 0x2a223ee9670>"
      ]
     },
     "execution_count": 39,
     "metadata": {},
     "output_type": "execute_result"
    },
    {
     "data": {
      "image/png": "[encoded data removed]",
      "text/plain": [
       "<Figure size 432x288 with 1 Axes>"
      ]
     },
     "metadata": {
      "needs_background": "light"
     },
     "output_type": "display_data"
    }
   ],
   "source": [
    "plt.scatter(x[:,2],y)"
   ]
  },
  {
   "cell_type": "code",
   "execution_count": 40,
   "metadata": {},
   "outputs": [
    {
     "data": {
      "text/plain": [
       "<matplotlib.collections.PathCollection at 0x2a22377abb0>"
      ]
     },
     "execution_count": 40,
     "metadata": {},
     "output_type": "execute_result"
    },
    {
     "data": {
      "image/png": "[encoded data removed]",
      "text/plain": [
       "<Figure size 432x288 with 1 Axes>"
      ]
     },
     "metadata": {
      "needs_background": "light"
     },
     "output_type": "display_data"
    }
   ],
   "source": [
    "plt.scatter(x[:,3],y)"
   ]
  },
  {
   "cell_type": "code",
   "execution_count": 41,
   "metadata": {},
   "outputs": [
    {
     "data": {
      "text/plain": [
       "<matplotlib.collections.PathCollection at 0x2a2237696a0>"
      ]
     },
     "execution_count": 41,
     "metadata": {},
     "output_type": "execute_result"
    },
    {
     "data": {
      "image/png": "[encoded data removed]",
      "text/plain": [
       "<Figure size 432x288 with 1 Axes>"
      ]
     },
     "metadata": {
      "needs_background": "light"
     },
     "output_type": "display_data"
    }
   ],
   "source": [
    "plt.scatter(x[:,4],y)"
   ]
  },
  {
   "cell_type": "code",
   "execution_count": 42,
   "metadata": {},
   "outputs": [
    {
     "data": {
      "text/plain": [
       "<matplotlib.collections.PathCollection at 0x2a22365c700>"
      ]
     },
     "execution_count": 42,
     "metadata": {},
     "output_type": "execute_result"
    },
    {
     "data": {
      "image/png": "[encoded data removed]",
      "text/plain": [
       "<Figure size 432x288 with 1 Axes>"
      ]
     },
     "metadata": {
      "needs_background": "light"
     },
     "output_type": "display_data"
    }
   ],
   "source": [
    "plt.scatter(x[:,5],y)"
   ]
  },
  {
   "cell_type": "code",
   "execution_count": 43,
   "metadata": {},
   "outputs": [
    {
     "data": {
      "text/plain": [
       "<matplotlib.collections.PathCollection at 0x2a2236847f0>"
      ]
     },
     "execution_count": 43,
     "metadata": {},
     "output_type": "execute_result"
    },
    {
     "data": {
      "image/png": "[encoded data removed]",
      "text/plain": [
       "<Figure size 432x288 with 1 Axes>"
      ]
     },
     "metadata": {
      "needs_background": "light"
     },
     "output_type": "display_data"
    }
   ],
   "source": [
    "plt.scatter(x[:,6],y)"
   ]
  },
  {
   "cell_type": "code",
   "execution_count": 44,
   "metadata": {},
   "outputs": [
    {
     "data": {
      "text/plain": [
       "<matplotlib.collections.PathCollection at 0x2a2236e5e20>"
      ]
     },
     "execution_count": 44,
     "metadata": {},
     "output_type": "execute_result"
    },
    {
     "data": {
      "image/png": "[encoded data removed]",
      "text/plain": [
       "<Figure size 432x288 with 1 Axes>"
      ]
     },
     "metadata": {
      "needs_background": "light"
     },
     "output_type": "display_data"
    }
   ],
   "source": [
    "plt.scatter(x[:,7],y)"
   ]
  },
  {
   "cell_type": "code",
   "execution_count": 45,
   "metadata": {},
   "outputs": [
    {
     "data": {
      "text/plain": [
       "<matplotlib.collections.PathCollection at 0x2a22379be20>"
      ]
     },
     "execution_count": 45,
     "metadata": {},
     "output_type": "execute_result"
    },
    {
     "data": {
      "image/png": "[encoded data removed]",
      "text/plain": [
       "<Figure size 432x288 with 1 Axes>"
      ]
     },
     "metadata": {
      "needs_background": "light"
     },
     "output_type": "display_data"
    }
   ],
   "source": [
    "plt.scatter(x[:,8],y)"
   ]
  },
  {
   "cell_type": "markdown",
   "metadata": {},
   "source": [
    "# Task_62747(Train& Split the data)"
   ]
  },
  {
   "cell_type": "code",
   "execution_count": 46,
   "metadata": {},
   "outputs": [],
   "source": [
    "from sklearn.model_selection import train_test_split\n",
    "x_train,x_test,y_train,y_test=train_test_split(x,y,test_size=0.2,random_state=0)"
   ]
  },
  {
   "cell_type": "code",
   "execution_count": 47,
   "metadata": {},
   "outputs": [],
   "source": [
    "from sklearn.ensemble import RandomForestRegressor"
   ]
  },
  {
   "cell_type": "code",
   "execution_count": 48,
   "metadata": {},
   "outputs": [
    {
     "data": {
      "text/plain": [
       "RandomForestRegressor(random_state=0)"
      ]
     },
     "execution_count": 48,
     "metadata": {},
     "output_type": "execute_result"
    }
   ],
   "source": [
    "mr= RandomForestRegressor(n_estimators=100,criterion=\"mse\",random_state=0)\n",
    "mr.fit(x_train,y_train)"
   ]
  },
  {
   "cell_type": "code",
   "execution_count": 49,
   "metadata": {},
   "outputs": [
    {
     "data": {
      "text/plain": [
       "['Multyyllb.save']"
      ]
     },
     "execution_count": 49,
     "metadata": {},
     "output_type": "execute_result"
    }
   ],
   "source": [
    "joblib.dump(mr,'Multyyllb.save')"
   ]
  },
  {
   "cell_type": "code",
   "execution_count": 50,
   "metadata": {},
   "outputs": [
    {
     "data": {
      "text/plain": [
       "array([1.27  , 2.7453, 2.76  , 1.3058, 1.81  , 2.7589, 1.73  , 2.65  ,\n",
       "       2.8198, 1.31  , 2.6511, 1.73  , 1.11  , 1.11  , 1.3381, 2.83  ,\n",
       "       1.27  , 2.83  , 1.73  , 2.741 , 2.83  , 2.76  , 1.34  , 1.73  ,\n",
       "       2.7497, 2.65  , 1.27  , 2.76  , 1.27  , 2.83  , 2.6408, 2.7486,\n",
       "       2.83  , 1.81  , 1.15  , 1.27  , 1.15  , 1.228 , 1.27  , 1.1538,\n",
       "       1.31  , 2.65  , 2.665 , 1.3048, 1.7884, 1.306 , 1.2716, 1.144 ,\n",
       "       2.3404, 2.7226, 1.73  , 2.65  , 1.31  , 1.3564, 1.11  , 1.1557,\n",
       "       1.27  , 2.0674, 1.15  , 1.73  , 1.3362, 1.73  , 2.76  , 2.6408,\n",
       "       1.31  , 1.34  , 1.1652, 2.76  , 1.27  , 1.1828, 1.11  , 1.3381,\n",
       "       2.83  , 1.81  , 1.11  , 1.8004, 1.3096, 1.126 , 1.9108, 1.73  ,\n",
       "       1.1633, 1.31  , 1.27  , 2.76  , 1.8092, 1.116 , 1.81  , 1.128 ,\n",
       "       1.27  , 1.112 , 1.31  , 1.15  , 1.286 , 1.8012, 1.73  , 2.7892,\n",
       "       2.83  , 1.31  , 2.7892, 1.144 , 2.83  , 2.6542, 1.36  , 1.73  ,\n",
       "       1.2988, 1.2393, 2.76  , 1.7755, 2.65  , 1.3381, 1.27  , 2.7994,\n",
       "       1.1676, 2.76  , 1.73  , 1.36  , 2.83  , 1.31  , 1.36  , 1.31  ,\n",
       "       1.34  , 1.31  , 2.76  , 1.29  , 1.73  , 2.76  , 1.2393, 2.6408,\n",
       "       1.3305, 2.7589, 1.2906, 1.2616, 1.11  , 1.11  , 2.83  , 1.27  ,\n",
       "       1.15  , 2.5415, 1.226 , 1.112 , 1.8092, 1.3381, 1.7708, 1.351 ,\n",
       "       1.31  , 1.3114, 1.112 , 1.31  , 2.074 , 2.83  , 1.2709, 2.83  ,\n",
       "       1.3017, 1.8036, 1.3004, 1.3514, 1.11  , 1.2659, 1.3537, 2.65  ,\n",
       "       2.8096, 2.8096, 2.5249, 2.65  , 2.83  , 1.1747, 1.802 , 2.8198,\n",
       "       1.34  , 2.76  , 1.3276, 2.5882, 1.31  , 1.126 , 1.3   , 2.8096,\n",
       "       1.36  , 1.11  , 2.059 , 1.11  , 2.65  , 1.73  , 2.8198, 1.11  ,\n",
       "       1.7724, 2.6819, 2.65  , 1.1823, 1.11  , 2.83  , 2.6511, 1.36  ,\n",
       "       1.27  , 1.3465, 1.2222, 2.65  , 2.8198, 1.27  , 2.76  , 1.73  ,\n",
       "       1.1704, 1.3558, 1.27  , 1.2583, 2.65  , 1.849 , 1.73  , 1.7812,\n",
       "       1.27  , 2.65  , 1.112 , 1.3096, 1.11  , 2.6418, 1.164 , 1.27  ,\n",
       "       2.6522, 1.138 , 2.65  , 1.3598, 1.2716, 1.3309, 1.3172, 1.3345,\n",
       "       1.3483, 1.7924, 2.83  , 2.83  , 1.27  , 2.8198, 1.351 , 1.31  ,\n",
       "       2.83  , 2.7994, 1.8068, 2.76  , 2.7589, 1.73  , 1.3483, 2.65  ,\n",
       "       1.27  , 1.3555, 1.15  , 1.1956, 1.36  , 2.65  , 1.27  , 1.27  ,\n",
       "       1.321 , 1.114 , 2.83  , 1.802 , 1.8184, 1.8084, 1.81  , 1.31  ,\n",
       "       2.83  , 1.806 , 2.6542, 1.114 , 2.7505, 1.31  , 1.3258, 2.76  ,\n",
       "       1.27  , 2.741 , 2.76  , 2.83  , 1.7572, 2.0842, 1.3447, 1.3039,\n",
       "       1.3381, 1.36  , 1.36  , 1.15  , 1.3172, 1.186 , 1.7916, 1.1524,\n",
       "       1.73  , 2.7534, 1.73  , 1.284 , 1.15  , 1.36  , 1.3343, 1.36  ,\n",
       "       2.65  , 1.31  , 1.3096, 1.8076, 2.65  , 1.11  , 1.1595, 1.3492,\n",
       "       1.1713, 1.3381, 1.73  , 1.3381, 1.7912, 1.15  , 2.65  , 1.3556,\n",
       "       2.76  , 2.83  , 1.27  , 1.176 , 1.81  , 1.7828, 1.31  , 2.76  ,\n",
       "       1.31  , 1.15  , 1.8004, 1.1713, 1.112 , 1.2716, 1.73  , 1.81  ,\n",
       "       1.36  , 1.73  , 1.31  , 1.31  , 1.8458, 1.73  , 1.2507, 1.932 ,\n",
       "       2.6522, 1.31  , 2.7468, 1.81  , 1.7924, 1.15  , 1.3305, 1.112 ,\n",
       "       1.3381, 1.3096, 1.73  , 1.27  , 2.83  , 2.65  , 1.2659, 2.76  ,\n",
       "       1.3286, 2.83  , 1.8052, 1.308 , 1.73  , 1.3381, 1.31  , 2.83  ,\n",
       "       1.8412, 1.3305, 1.1538, 2.7269, 2.65  , 2.83  , 1.31  , 1.1709,\n",
       "       1.7716, 1.31  , 2.76  , 1.15  , 1.27  , 1.73  , 1.3089, 1.27  ,\n",
       "       2.76  , 1.7636, 1.112 , 1.3343, 1.11  , 1.34  , 2.65  , 1.73  ,\n",
       "       1.27  , 1.27  , 2.76  , 1.31  , 1.34  , 1.27  , 1.31  , 2.76  ,\n",
       "       1.3381, 2.6416, 2.65  , 1.27  , 2.65  , 1.81  , 1.11  , 1.31  ,\n",
       "       2.8096, 2.6408, 2.6408, 1.351 , 1.2704, 2.8096, 1.81  , 1.3528])"
      ]
     },
     "execution_count": 50,
     "metadata": {},
     "output_type": "execute_result"
    }
   ],
   "source": [
    "y_pred = mr.predict(x_test)\n",
    "y_pred"
   ]
  },
  {
   "cell_type": "code",
   "execution_count": 51,
   "metadata": {
    "scrolled": true
   },
   "outputs": [
    {
     "data": {
      "text/plain": [
       "array([1.3554])"
      ]
     },
     "execution_count": 51,
     "metadata": {},
     "output_type": "execute_result"
    }
   ],
   "source": [
    "mr.predict([[55.20,16.98,3019.53,557.434,395.713,10.06640,1.74,461.548429,285.90]])"
   ]
  },
  {
   "cell_type": "code",
   "execution_count": 52,
   "metadata": {},
   "outputs": [
    {
     "data": {
      "text/plain": [
       "0.9941796394403288"
      ]
     },
     "execution_count": 52,
     "metadata": {},
     "output_type": "execute_result"
    }
   ],
   "source": [
    "from sklearn.metrics import r2_score\n",
    "r2_score(y_test,y_pred)"
   ]
  },
  {
   "cell_type": "code",
   "execution_count": 53,
   "metadata": {},
   "outputs": [],
   "source": [
    "from sklearn.metrics import mean_squared_error"
   ]
  },
  {
   "cell_type": "code",
   "execution_count": 54,
   "metadata": {},
   "outputs": [
    {
     "data": {
      "text/plain": [
       "0.0024506773500000217"
      ]
     },
     "execution_count": 54,
     "metadata": {},
     "output_type": "execute_result"
    }
   ],
   "source": [
    "mse=mean_squared_error(y_test,y_pred)\n",
    "mse"
   ]
  },
  {
   "cell_type": "code",
   "execution_count": 55,
   "metadata": {},
   "outputs": [
    {
     "data": {
      "text/plain": [
       "0.049504316478465"
      ]
     },
     "execution_count": 55,
     "metadata": {},
     "output_type": "execute_result"
    }
   ],
   "source": [
    "from math import sqrt\n",
    "rmse=sqrt(mse)\n",
    "rmse"
   ]
  },
  {
   "cell_type": "markdown",
   "metadata": {},
   "source": [
    "# Approach:2(With Iron Concentrate)"
   ]
  },
  {
   "cell_type": "code",
   "execution_count": 56,
   "metadata": {},
   "outputs": [
    {
     "data": {
      "text/html": [
       "<div>\n",
       "<style scoped>\n",
       "    .dataframe tbody tr th:only-of-type {\n",
       "        vertical-align: middle;\n",
       "    }\n",
       "\n",
       "    .dataframe tbody tr th {\n",
       "        vertical-align: top;\n",
       "    }\n",
       "\n",
       "    .dataframe thead th {\n",
       "        text-align: right;\n",
       "    }\n",
       "</style>\n",
       "<table border=\"1\" class=\"dataframe\">\n",
       "  <thead>\n",
       "    <tr style=\"text-align: right;\">\n",
       "      <th></th>\n",
       "      <th>date</th>\n",
       "      <th>% Iron Feed</th>\n",
       "      <th>% Silica Feed</th>\n",
       "      <th>Starch Flow</th>\n",
       "      <th>Amina Flow</th>\n",
       "      <th>Ore Pulp Flow</th>\n",
       "      <th>Ore Pulp pH</th>\n",
       "      <th>Ore Pulp Density</th>\n",
       "      <th>Flotation Column 01 Air Flow</th>\n",
       "      <th>Flotation Column 02 Air Flow</th>\n",
       "      <th>...</th>\n",
       "      <th>Flotation Column 07 Air Flow</th>\n",
       "      <th>Flotation Column 01 Level</th>\n",
       "      <th>Flotation Column 02 Level</th>\n",
       "      <th>Flotation Column 03 Level</th>\n",
       "      <th>Flotation Column 04 Level</th>\n",
       "      <th>Flotation Column 05 Level</th>\n",
       "      <th>Flotation Column 06 Level</th>\n",
       "      <th>Flotation Column 07 Level</th>\n",
       "      <th>% Iron Concentrate</th>\n",
       "      <th>% Silica Concentrate</th>\n",
       "    </tr>\n",
       "  </thead>\n",
       "  <tbody>\n",
       "    <tr>\n",
       "      <th>0</th>\n",
       "      <td>2017-03-10 01:00:00</td>\n",
       "      <td>55.2</td>\n",
       "      <td>16.98</td>\n",
       "      <td>3019.53</td>\n",
       "      <td>557.434</td>\n",
       "      <td>395.713</td>\n",
       "      <td>10.0664</td>\n",
       "      <td>1.74</td>\n",
       "      <td>249.214</td>\n",
       "      <td>253.235</td>\n",
       "      <td>...</td>\n",
       "      <td>250.884</td>\n",
       "      <td>457.396</td>\n",
       "      <td>432.962</td>\n",
       "      <td>424.954</td>\n",
       "      <td>443.558</td>\n",
       "      <td>502.255</td>\n",
       "      <td>446.37</td>\n",
       "      <td>523.344</td>\n",
       "      <td>66.91</td>\n",
       "      <td>1.31</td>\n",
       "    </tr>\n",
       "    <tr>\n",
       "      <th>1</th>\n",
       "      <td>2017-03-10 01:00:00</td>\n",
       "      <td>55.2</td>\n",
       "      <td>16.98</td>\n",
       "      <td>3024.41</td>\n",
       "      <td>563.965</td>\n",
       "      <td>397.383</td>\n",
       "      <td>10.0672</td>\n",
       "      <td>1.74</td>\n",
       "      <td>249.719</td>\n",
       "      <td>250.532</td>\n",
       "      <td>...</td>\n",
       "      <td>248.994</td>\n",
       "      <td>451.891</td>\n",
       "      <td>429.56</td>\n",
       "      <td>432.939</td>\n",
       "      <td>448.086</td>\n",
       "      <td>496.363</td>\n",
       "      <td>445.922</td>\n",
       "      <td>498.075</td>\n",
       "      <td>66.91</td>\n",
       "      <td>1.31</td>\n",
       "    </tr>\n",
       "    <tr>\n",
       "      <th>2</th>\n",
       "      <td>2017-03-10 01:00:00</td>\n",
       "      <td>55.2</td>\n",
       "      <td>16.98</td>\n",
       "      <td>3043.46</td>\n",
       "      <td>568.054</td>\n",
       "      <td>399.668</td>\n",
       "      <td>10.068</td>\n",
       "      <td>1.74</td>\n",
       "      <td>249.741</td>\n",
       "      <td>247.874</td>\n",
       "      <td>...</td>\n",
       "      <td>248.071</td>\n",
       "      <td>451.24</td>\n",
       "      <td>468.927</td>\n",
       "      <td>434.61</td>\n",
       "      <td>449.688</td>\n",
       "      <td>484.411</td>\n",
       "      <td>447.826</td>\n",
       "      <td>458.567</td>\n",
       "      <td>66.91</td>\n",
       "      <td>1.31</td>\n",
       "    </tr>\n",
       "    <tr>\n",
       "      <th>3</th>\n",
       "      <td>2017-03-10 01:00:00</td>\n",
       "      <td>55.2</td>\n",
       "      <td>16.98</td>\n",
       "      <td>3047.36</td>\n",
       "      <td>568.665</td>\n",
       "      <td>397.939</td>\n",
       "      <td>10.0689</td>\n",
       "      <td>1.74</td>\n",
       "      <td>249.917</td>\n",
       "      <td>254.487</td>\n",
       "      <td>...</td>\n",
       "      <td>251.147</td>\n",
       "      <td>452.441</td>\n",
       "      <td>458.165</td>\n",
       "      <td>442.865</td>\n",
       "      <td>446.21</td>\n",
       "      <td>471.411</td>\n",
       "      <td>437.69</td>\n",
       "      <td>427.669</td>\n",
       "      <td>66.91</td>\n",
       "      <td>1.31</td>\n",
       "    </tr>\n",
       "    <tr>\n",
       "      <th>4</th>\n",
       "      <td>2017-03-10 01:00:00</td>\n",
       "      <td>55.2</td>\n",
       "      <td>16.98</td>\n",
       "      <td>3033.69</td>\n",
       "      <td>558.167</td>\n",
       "      <td>400.254</td>\n",
       "      <td>10.0697</td>\n",
       "      <td>1.74</td>\n",
       "      <td>250.203</td>\n",
       "      <td>252.136</td>\n",
       "      <td>...</td>\n",
       "      <td>248.928</td>\n",
       "      <td>452.441</td>\n",
       "      <td>452.9</td>\n",
       "      <td>450.523</td>\n",
       "      <td>453.67</td>\n",
       "      <td>462.598</td>\n",
       "      <td>443.682</td>\n",
       "      <td>425.679</td>\n",
       "      <td>66.91</td>\n",
       "      <td>1.31</td>\n",
       "    </tr>\n",
       "    <tr>\n",
       "      <th>...</th>\n",
       "      <td>...</td>\n",
       "      <td>...</td>\n",
       "      <td>...</td>\n",
       "      <td>...</td>\n",
       "      <td>...</td>\n",
       "      <td>...</td>\n",
       "      <td>...</td>\n",
       "      <td>...</td>\n",
       "      <td>...</td>\n",
       "      <td>...</td>\n",
       "      <td>...</td>\n",
       "      <td>...</td>\n",
       "      <td>...</td>\n",
       "      <td>...</td>\n",
       "      <td>...</td>\n",
       "      <td>...</td>\n",
       "      <td>...</td>\n",
       "      <td>...</td>\n",
       "      <td>...</td>\n",
       "      <td>...</td>\n",
       "      <td>...</td>\n",
       "    </tr>\n",
       "    <tr>\n",
       "      <th>737448</th>\n",
       "      <td>2017-09-09 23:00:00</td>\n",
       "      <td>49,75</td>\n",
       "      <td>23,2</td>\n",
       "      <td>2710,94</td>\n",
       "      <td>441,052</td>\n",
       "      <td>386,57</td>\n",
       "      <td>9,62129</td>\n",
       "      <td>1,65365</td>\n",
       "      <td>302,344</td>\n",
       "      <td>298,786</td>\n",
       "      <td>...</td>\n",
       "      <td>313,695</td>\n",
       "      <td>392,16</td>\n",
       "      <td>430,702</td>\n",
       "      <td>872,008</td>\n",
       "      <td>418,725</td>\n",
       "      <td>497,548</td>\n",
       "      <td>446,357</td>\n",
       "      <td>416,892</td>\n",
       "      <td>64,27</td>\n",
       "      <td>1,71</td>\n",
       "    </tr>\n",
       "    <tr>\n",
       "      <th>737449</th>\n",
       "      <td>2017-09-09 23:00:00</td>\n",
       "      <td>49,75</td>\n",
       "      <td>23,2</td>\n",
       "      <td>2692,01</td>\n",
       "      <td>473,436</td>\n",
       "      <td>384,939</td>\n",
       "      <td>9,62063</td>\n",
       "      <td>1,65352</td>\n",
       "      <td>303,013</td>\n",
       "      <td>301,879</td>\n",
       "      <td>...</td>\n",
       "      <td>236,7</td>\n",
       "      <td>401,505</td>\n",
       "      <td>404,616</td>\n",
       "      <td>864,409</td>\n",
       "      <td>418,377</td>\n",
       "      <td>506,398</td>\n",
       "      <td>372,995</td>\n",
       "      <td>426,337</td>\n",
       "      <td>64,27</td>\n",
       "      <td>1,71</td>\n",
       "    </tr>\n",
       "    <tr>\n",
       "      <th>737450</th>\n",
       "      <td>2017-09-09 23:00:00</td>\n",
       "      <td>49,75</td>\n",
       "      <td>23,2</td>\n",
       "      <td>2692,2</td>\n",
       "      <td>500,488</td>\n",
       "      <td>383,496</td>\n",
       "      <td>9,61874</td>\n",
       "      <td>1,65338</td>\n",
       "      <td>303,662</td>\n",
       "      <td>307,397</td>\n",
       "      <td>...</td>\n",
       "      <td>225,879</td>\n",
       "      <td>408,899</td>\n",
       "      <td>399,316</td>\n",
       "      <td>867,598</td>\n",
       "      <td>419,531</td>\n",
       "      <td>503,414</td>\n",
       "      <td>336,035</td>\n",
       "      <td>433,13</td>\n",
       "      <td>64,27</td>\n",
       "      <td>1,71</td>\n",
       "    </tr>\n",
       "    <tr>\n",
       "      <th>737451</th>\n",
       "      <td>2017-09-09 23:00:00</td>\n",
       "      <td>49,75</td>\n",
       "      <td>23,2</td>\n",
       "      <td>1164,12</td>\n",
       "      <td>491,548</td>\n",
       "      <td>384,976</td>\n",
       "      <td>9,61686</td>\n",
       "      <td>1,65324</td>\n",
       "      <td>302,55</td>\n",
       "      <td>301,959</td>\n",
       "      <td>...</td>\n",
       "      <td>308,115</td>\n",
       "      <td>405,107</td>\n",
       "      <td>466,832</td>\n",
       "      <td>876,591</td>\n",
       "      <td>407,299</td>\n",
       "      <td>502,301</td>\n",
       "      <td>340,844</td>\n",
       "      <td>433,966</td>\n",
       "      <td>64,27</td>\n",
       "      <td>1,71</td>\n",
       "    </tr>\n",
       "    <tr>\n",
       "      <th>737452</th>\n",
       "      <td>2017-09-09 23:00:00</td>\n",
       "      <td>49,75</td>\n",
       "      <td>23,2</td>\n",
       "      <td>1164,12</td>\n",
       "      <td>468,019</td>\n",
       "      <td>384,801</td>\n",
       "      <td>9,61497</td>\n",
       "      <td>1,6531</td>\n",
       "      <td>300,355</td>\n",
       "      <td>292,865</td>\n",
       "      <td>...</td>\n",
       "      <td>308,115</td>\n",
       "      <td>413,754</td>\n",
       "      <td>514,143</td>\n",
       "      <td>881,323</td>\n",
       "      <td>378,969</td>\n",
       "      <td>500,1</td>\n",
       "      <td>374,354</td>\n",
       "      <td>441,182</td>\n",
       "      <td>64,27</td>\n",
       "      <td>1,71</td>\n",
       "    </tr>\n",
       "  </tbody>\n",
       "</table>\n",
       "<p>737453 rows × 24 columns</p>\n",
       "</div>"
      ],
      "text/plain": [
       "                       date % Iron Feed % Silica Feed Starch Flow Amina Flow  \\\n",
       "0       2017-03-10 01:00:00        55.2         16.98     3019.53    557.434   \n",
       "1       2017-03-10 01:00:00        55.2         16.98     3024.41    563.965   \n",
       "2       2017-03-10 01:00:00        55.2         16.98     3043.46    568.054   \n",
       "3       2017-03-10 01:00:00        55.2         16.98     3047.36    568.665   \n",
       "4       2017-03-10 01:00:00        55.2         16.98     3033.69    558.167   \n",
       "...                     ...         ...           ...         ...        ...   \n",
       "737448  2017-09-09 23:00:00       49,75          23,2     2710,94    441,052   \n",
       "737449  2017-09-09 23:00:00       49,75          23,2     2692,01    473,436   \n",
       "737450  2017-09-09 23:00:00       49,75          23,2      2692,2    500,488   \n",
       "737451  2017-09-09 23:00:00       49,75          23,2     1164,12    491,548   \n",
       "737452  2017-09-09 23:00:00       49,75          23,2     1164,12    468,019   \n",
       "\n",
       "       Ore Pulp Flow Ore Pulp pH Ore Pulp Density  \\\n",
       "0            395.713     10.0664             1.74   \n",
       "1            397.383     10.0672             1.74   \n",
       "2            399.668      10.068             1.74   \n",
       "3            397.939     10.0689             1.74   \n",
       "4            400.254     10.0697             1.74   \n",
       "...              ...         ...              ...   \n",
       "737448        386,57     9,62129          1,65365   \n",
       "737449       384,939     9,62063          1,65352   \n",
       "737450       383,496     9,61874          1,65338   \n",
       "737451       384,976     9,61686          1,65324   \n",
       "737452       384,801     9,61497           1,6531   \n",
       "\n",
       "       Flotation Column 01 Air Flow Flotation Column 02 Air Flow  ...  \\\n",
       "0                           249.214                      253.235  ...   \n",
       "1                           249.719                      250.532  ...   \n",
       "2                           249.741                      247.874  ...   \n",
       "3                           249.917                      254.487  ...   \n",
       "4                           250.203                      252.136  ...   \n",
       "...                             ...                          ...  ...   \n",
       "737448                      302,344                      298,786  ...   \n",
       "737449                      303,013                      301,879  ...   \n",
       "737450                      303,662                      307,397  ...   \n",
       "737451                       302,55                      301,959  ...   \n",
       "737452                      300,355                      292,865  ...   \n",
       "\n",
       "       Flotation Column 07 Air Flow Flotation Column 01 Level  \\\n",
       "0                           250.884                   457.396   \n",
       "1                           248.994                   451.891   \n",
       "2                           248.071                    451.24   \n",
       "3                           251.147                   452.441   \n",
       "4                           248.928                   452.441   \n",
       "...                             ...                       ...   \n",
       "737448                      313,695                    392,16   \n",
       "737449                        236,7                   401,505   \n",
       "737450                      225,879                   408,899   \n",
       "737451                      308,115                   405,107   \n",
       "737452                      308,115                   413,754   \n",
       "\n",
       "       Flotation Column 02 Level Flotation Column 03 Level  \\\n",
       "0                        432.962                   424.954   \n",
       "1                         429.56                   432.939   \n",
       "2                        468.927                    434.61   \n",
       "3                        458.165                   442.865   \n",
       "4                          452.9                   450.523   \n",
       "...                          ...                       ...   \n",
       "737448                   430,702                   872,008   \n",
       "737449                   404,616                   864,409   \n",
       "737450                   399,316                   867,598   \n",
       "737451                   466,832                   876,591   \n",
       "737452                   514,143                   881,323   \n",
       "\n",
       "       Flotation Column 04 Level Flotation Column 05 Level  \\\n",
       "0                        443.558                   502.255   \n",
       "1                        448.086                   496.363   \n",
       "2                        449.688                   484.411   \n",
       "3                         446.21                   471.411   \n",
       "4                         453.67                   462.598   \n",
       "...                          ...                       ...   \n",
       "737448                   418,725                   497,548   \n",
       "737449                   418,377                   506,398   \n",
       "737450                   419,531                   503,414   \n",
       "737451                   407,299                   502,301   \n",
       "737452                   378,969                     500,1   \n",
       "\n",
       "       Flotation Column 06 Level Flotation Column 07 Level % Iron Concentrate  \\\n",
       "0                         446.37                   523.344              66.91   \n",
       "1                        445.922                   498.075              66.91   \n",
       "2                        447.826                   458.567              66.91   \n",
       "3                         437.69                   427.669              66.91   \n",
       "4                        443.682                   425.679              66.91   \n",
       "...                          ...                       ...                ...   \n",
       "737448                   446,357                   416,892              64,27   \n",
       "737449                   372,995                   426,337              64,27   \n",
       "737450                   336,035                    433,13              64,27   \n",
       "737451                   340,844                   433,966              64,27   \n",
       "737452                   374,354                   441,182              64,27   \n",
       "\n",
       "       % Silica Concentrate  \n",
       "0                      1.31  \n",
       "1                      1.31  \n",
       "2                      1.31  \n",
       "3                      1.31  \n",
       "4                      1.31  \n",
       "...                     ...  \n",
       "737448                 1,71  \n",
       "737449                 1,71  \n",
       "737450                 1,71  \n",
       "737451                 1,71  \n",
       "737452                 1,71  \n",
       "\n",
       "[737453 rows x 24 columns]"
      ]
     },
     "execution_count": 56,
     "metadata": {},
     "output_type": "execute_result"
    }
   ],
   "source": [
    "path"
   ]
  },
  {
   "cell_type": "code",
   "execution_count": 57,
   "metadata": {},
   "outputs": [],
   "source": [
    "dfi=path.head(2000)"
   ]
  },
  {
   "cell_type": "code",
   "execution_count": 58,
   "metadata": {},
   "outputs": [
    {
     "data": {
      "text/html": [
       "<div>\n",
       "<style scoped>\n",
       "    .dataframe tbody tr th:only-of-type {\n",
       "        vertical-align: middle;\n",
       "    }\n",
       "\n",
       "    .dataframe tbody tr th {\n",
       "        vertical-align: top;\n",
       "    }\n",
       "\n",
       "    .dataframe thead th {\n",
       "        text-align: right;\n",
       "    }\n",
       "</style>\n",
       "<table border=\"1\" class=\"dataframe\">\n",
       "  <thead>\n",
       "    <tr style=\"text-align: right;\">\n",
       "      <th></th>\n",
       "      <th>date</th>\n",
       "      <th>% Iron Feed</th>\n",
       "      <th>% Silica Feed</th>\n",
       "      <th>Starch Flow</th>\n",
       "      <th>Amina Flow</th>\n",
       "      <th>Ore Pulp Flow</th>\n",
       "      <th>Ore Pulp pH</th>\n",
       "      <th>Ore Pulp Density</th>\n",
       "      <th>Flotation Column 01 Air Flow</th>\n",
       "      <th>Flotation Column 02 Air Flow</th>\n",
       "      <th>...</th>\n",
       "      <th>Flotation Column 07 Air Flow</th>\n",
       "      <th>Flotation Column 01 Level</th>\n",
       "      <th>Flotation Column 02 Level</th>\n",
       "      <th>Flotation Column 03 Level</th>\n",
       "      <th>Flotation Column 04 Level</th>\n",
       "      <th>Flotation Column 05 Level</th>\n",
       "      <th>Flotation Column 06 Level</th>\n",
       "      <th>Flotation Column 07 Level</th>\n",
       "      <th>% Iron Concentrate</th>\n",
       "      <th>% Silica Concentrate</th>\n",
       "    </tr>\n",
       "  </thead>\n",
       "  <tbody>\n",
       "    <tr>\n",
       "      <th>0</th>\n",
       "      <td>2017-03-10 01:00:00</td>\n",
       "      <td>55.2</td>\n",
       "      <td>16.98</td>\n",
       "      <td>3019.53</td>\n",
       "      <td>557.434</td>\n",
       "      <td>395.713</td>\n",
       "      <td>10.0664</td>\n",
       "      <td>1.74</td>\n",
       "      <td>249.214</td>\n",
       "      <td>253.235</td>\n",
       "      <td>...</td>\n",
       "      <td>250.884</td>\n",
       "      <td>457.396</td>\n",
       "      <td>432.962</td>\n",
       "      <td>424.954</td>\n",
       "      <td>443.558</td>\n",
       "      <td>502.255</td>\n",
       "      <td>446.37</td>\n",
       "      <td>523.344</td>\n",
       "      <td>66.91</td>\n",
       "      <td>1.31</td>\n",
       "    </tr>\n",
       "    <tr>\n",
       "      <th>1</th>\n",
       "      <td>2017-03-10 01:00:00</td>\n",
       "      <td>55.2</td>\n",
       "      <td>16.98</td>\n",
       "      <td>3024.41</td>\n",
       "      <td>563.965</td>\n",
       "      <td>397.383</td>\n",
       "      <td>10.0672</td>\n",
       "      <td>1.74</td>\n",
       "      <td>249.719</td>\n",
       "      <td>250.532</td>\n",
       "      <td>...</td>\n",
       "      <td>248.994</td>\n",
       "      <td>451.891</td>\n",
       "      <td>429.56</td>\n",
       "      <td>432.939</td>\n",
       "      <td>448.086</td>\n",
       "      <td>496.363</td>\n",
       "      <td>445.922</td>\n",
       "      <td>498.075</td>\n",
       "      <td>66.91</td>\n",
       "      <td>1.31</td>\n",
       "    </tr>\n",
       "    <tr>\n",
       "      <th>2</th>\n",
       "      <td>2017-03-10 01:00:00</td>\n",
       "      <td>55.2</td>\n",
       "      <td>16.98</td>\n",
       "      <td>3043.46</td>\n",
       "      <td>568.054</td>\n",
       "      <td>399.668</td>\n",
       "      <td>10.068</td>\n",
       "      <td>1.74</td>\n",
       "      <td>249.741</td>\n",
       "      <td>247.874</td>\n",
       "      <td>...</td>\n",
       "      <td>248.071</td>\n",
       "      <td>451.24</td>\n",
       "      <td>468.927</td>\n",
       "      <td>434.61</td>\n",
       "      <td>449.688</td>\n",
       "      <td>484.411</td>\n",
       "      <td>447.826</td>\n",
       "      <td>458.567</td>\n",
       "      <td>66.91</td>\n",
       "      <td>1.31</td>\n",
       "    </tr>\n",
       "    <tr>\n",
       "      <th>3</th>\n",
       "      <td>2017-03-10 01:00:00</td>\n",
       "      <td>55.2</td>\n",
       "      <td>16.98</td>\n",
       "      <td>3047.36</td>\n",
       "      <td>568.665</td>\n",
       "      <td>397.939</td>\n",
       "      <td>10.0689</td>\n",
       "      <td>1.74</td>\n",
       "      <td>249.917</td>\n",
       "      <td>254.487</td>\n",
       "      <td>...</td>\n",
       "      <td>251.147</td>\n",
       "      <td>452.441</td>\n",
       "      <td>458.165</td>\n",
       "      <td>442.865</td>\n",
       "      <td>446.21</td>\n",
       "      <td>471.411</td>\n",
       "      <td>437.69</td>\n",
       "      <td>427.669</td>\n",
       "      <td>66.91</td>\n",
       "      <td>1.31</td>\n",
       "    </tr>\n",
       "    <tr>\n",
       "      <th>4</th>\n",
       "      <td>2017-03-10 01:00:00</td>\n",
       "      <td>55.2</td>\n",
       "      <td>16.98</td>\n",
       "      <td>3033.69</td>\n",
       "      <td>558.167</td>\n",
       "      <td>400.254</td>\n",
       "      <td>10.0697</td>\n",
       "      <td>1.74</td>\n",
       "      <td>250.203</td>\n",
       "      <td>252.136</td>\n",
       "      <td>...</td>\n",
       "      <td>248.928</td>\n",
       "      <td>452.441</td>\n",
       "      <td>452.9</td>\n",
       "      <td>450.523</td>\n",
       "      <td>453.67</td>\n",
       "      <td>462.598</td>\n",
       "      <td>443.682</td>\n",
       "      <td>425.679</td>\n",
       "      <td>66.91</td>\n",
       "      <td>1.31</td>\n",
       "    </tr>\n",
       "    <tr>\n",
       "      <th>...</th>\n",
       "      <td>...</td>\n",
       "      <td>...</td>\n",
       "      <td>...</td>\n",
       "      <td>...</td>\n",
       "      <td>...</td>\n",
       "      <td>...</td>\n",
       "      <td>...</td>\n",
       "      <td>...</td>\n",
       "      <td>...</td>\n",
       "      <td>...</td>\n",
       "      <td>...</td>\n",
       "      <td>...</td>\n",
       "      <td>...</td>\n",
       "      <td>...</td>\n",
       "      <td>...</td>\n",
       "      <td>...</td>\n",
       "      <td>...</td>\n",
       "      <td>...</td>\n",
       "      <td>...</td>\n",
       "      <td>...</td>\n",
       "      <td>...</td>\n",
       "    </tr>\n",
       "    <tr>\n",
       "      <th>1995</th>\n",
       "      <td>2017-03-10 12:00:00</td>\n",
       "      <td>54.95</td>\n",
       "      <td>17.4</td>\n",
       "      <td>4429.2</td>\n",
       "      <td>571.289</td>\n",
       "      <td>406.201</td>\n",
       "      <td>10.0214</td>\n",
       "      <td>1.78</td>\n",
       "      <td>249.258</td>\n",
       "      <td>249.104</td>\n",
       "      <td>...</td>\n",
       "      <td>249.609</td>\n",
       "      <td>554.041</td>\n",
       "      <td>537.803</td>\n",
       "      <td>527.191</td>\n",
       "      <td>576.876</td>\n",
       "      <td>537.946</td>\n",
       "      <td>566.668</td>\n",
       "      <td>544.09</td>\n",
       "      <td>65.55</td>\n",
       "      <td>2.83</td>\n",
       "    </tr>\n",
       "    <tr>\n",
       "      <th>1996</th>\n",
       "      <td>2017-03-10 12:00:00</td>\n",
       "      <td>54.95</td>\n",
       "      <td>17.4</td>\n",
       "      <td>4410.64</td>\n",
       "      <td>572.998</td>\n",
       "      <td>403.77</td>\n",
       "      <td>10.0189</td>\n",
       "      <td>1.78</td>\n",
       "      <td>249.697</td>\n",
       "      <td>251.895</td>\n",
       "      <td>...</td>\n",
       "      <td>249.456</td>\n",
       "      <td>548.785</td>\n",
       "      <td>546.185</td>\n",
       "      <td>526.978</td>\n",
       "      <td>513.317</td>\n",
       "      <td>549.842</td>\n",
       "      <td>553.452</td>\n",
       "      <td>543.092</td>\n",
       "      <td>65.55</td>\n",
       "      <td>2.83</td>\n",
       "    </tr>\n",
       "    <tr>\n",
       "      <th>1997</th>\n",
       "      <td>2017-03-10 12:00:00</td>\n",
       "      <td>54.95</td>\n",
       "      <td>17.4</td>\n",
       "      <td>4407.71</td>\n",
       "      <td>563.049</td>\n",
       "      <td>401.309</td>\n",
       "      <td>10.0165</td>\n",
       "      <td>1.78</td>\n",
       "      <td>249.521</td>\n",
       "      <td>251.96</td>\n",
       "      <td>...</td>\n",
       "      <td>249.697</td>\n",
       "      <td>534.972</td>\n",
       "      <td>560.46</td>\n",
       "      <td>532.162</td>\n",
       "      <td>518.824</td>\n",
       "      <td>547.858</td>\n",
       "      <td>556.252</td>\n",
       "      <td>555.787</td>\n",
       "      <td>65.55</td>\n",
       "      <td>2.83</td>\n",
       "    </tr>\n",
       "    <tr>\n",
       "      <th>1998</th>\n",
       "      <td>2017-03-10 12:00:00</td>\n",
       "      <td>54.95</td>\n",
       "      <td>17.4</td>\n",
       "      <td>4408.2</td>\n",
       "      <td>570.007</td>\n",
       "      <td>399.756</td>\n",
       "      <td>10.014</td>\n",
       "      <td>1.78</td>\n",
       "      <td>249.082</td>\n",
       "      <td>248.137</td>\n",
       "      <td>...</td>\n",
       "      <td>249.675</td>\n",
       "      <td>535.623</td>\n",
       "      <td>549.927</td>\n",
       "      <td>547.214</td>\n",
       "      <td>542.613</td>\n",
       "      <td>511.286</td>\n",
       "      <td>553.172</td>\n",
       "      <td>551.315</td>\n",
       "      <td>65.55</td>\n",
       "      <td>2.83</td>\n",
       "    </tr>\n",
       "    <tr>\n",
       "      <th>1999</th>\n",
       "      <td>2017-03-10 12:00:00</td>\n",
       "      <td>54.95</td>\n",
       "      <td>17.4</td>\n",
       "      <td>4418.46</td>\n",
       "      <td>573.669</td>\n",
       "      <td>398.291</td>\n",
       "      <td>10.0115</td>\n",
       "      <td>1.78</td>\n",
       "      <td>249.258</td>\n",
       "      <td>245.215</td>\n",
       "      <td>...</td>\n",
       "      <td>250.071</td>\n",
       "      <td>549.236</td>\n",
       "      <td>534.408</td>\n",
       "      <td>558.703</td>\n",
       "      <td>551.128</td>\n",
       "      <td>508.976</td>\n",
       "      <td>533.516</td>\n",
       "      <td>543.483</td>\n",
       "      <td>65.55</td>\n",
       "      <td>2.83</td>\n",
       "    </tr>\n",
       "  </tbody>\n",
       "</table>\n",
       "<p>2000 rows × 24 columns</p>\n",
       "</div>"
      ],
      "text/plain": [
       "                     date % Iron Feed % Silica Feed Starch Flow Amina Flow  \\\n",
       "0     2017-03-10 01:00:00        55.2         16.98     3019.53    557.434   \n",
       "1     2017-03-10 01:00:00        55.2         16.98     3024.41    563.965   \n",
       "2     2017-03-10 01:00:00        55.2         16.98     3043.46    568.054   \n",
       "3     2017-03-10 01:00:00        55.2         16.98     3047.36    568.665   \n",
       "4     2017-03-10 01:00:00        55.2         16.98     3033.69    558.167   \n",
       "...                   ...         ...           ...         ...        ...   \n",
       "1995  2017-03-10 12:00:00       54.95          17.4      4429.2    571.289   \n",
       "1996  2017-03-10 12:00:00       54.95          17.4     4410.64    572.998   \n",
       "1997  2017-03-10 12:00:00       54.95          17.4     4407.71    563.049   \n",
       "1998  2017-03-10 12:00:00       54.95          17.4      4408.2    570.007   \n",
       "1999  2017-03-10 12:00:00       54.95          17.4     4418.46    573.669   \n",
       "\n",
       "     Ore Pulp Flow Ore Pulp pH Ore Pulp Density Flotation Column 01 Air Flow  \\\n",
       "0          395.713     10.0664             1.74                      249.214   \n",
       "1          397.383     10.0672             1.74                      249.719   \n",
       "2          399.668      10.068             1.74                      249.741   \n",
       "3          397.939     10.0689             1.74                      249.917   \n",
       "4          400.254     10.0697             1.74                      250.203   \n",
       "...            ...         ...              ...                          ...   \n",
       "1995       406.201     10.0214             1.78                      249.258   \n",
       "1996        403.77     10.0189             1.78                      249.697   \n",
       "1997       401.309     10.0165             1.78                      249.521   \n",
       "1998       399.756      10.014             1.78                      249.082   \n",
       "1999       398.291     10.0115             1.78                      249.258   \n",
       "\n",
       "     Flotation Column 02 Air Flow  ... Flotation Column 07 Air Flow  \\\n",
       "0                         253.235  ...                      250.884   \n",
       "1                         250.532  ...                      248.994   \n",
       "2                         247.874  ...                      248.071   \n",
       "3                         254.487  ...                      251.147   \n",
       "4                         252.136  ...                      248.928   \n",
       "...                           ...  ...                          ...   \n",
       "1995                      249.104  ...                      249.609   \n",
       "1996                      251.895  ...                      249.456   \n",
       "1997                       251.96  ...                      249.697   \n",
       "1998                      248.137  ...                      249.675   \n",
       "1999                      245.215  ...                      250.071   \n",
       "\n",
       "     Flotation Column 01 Level Flotation Column 02 Level  \\\n",
       "0                      457.396                   432.962   \n",
       "1                      451.891                    429.56   \n",
       "2                       451.24                   468.927   \n",
       "3                      452.441                   458.165   \n",
       "4                      452.441                     452.9   \n",
       "...                        ...                       ...   \n",
       "1995                   554.041                   537.803   \n",
       "1996                   548.785                   546.185   \n",
       "1997                   534.972                    560.46   \n",
       "1998                   535.623                   549.927   \n",
       "1999                   549.236                   534.408   \n",
       "\n",
       "     Flotation Column 03 Level Flotation Column 04 Level  \\\n",
       "0                      424.954                   443.558   \n",
       "1                      432.939                   448.086   \n",
       "2                       434.61                   449.688   \n",
       "3                      442.865                    446.21   \n",
       "4                      450.523                    453.67   \n",
       "...                        ...                       ...   \n",
       "1995                   527.191                   576.876   \n",
       "1996                   526.978                   513.317   \n",
       "1997                   532.162                   518.824   \n",
       "1998                   547.214                   542.613   \n",
       "1999                   558.703                   551.128   \n",
       "\n",
       "     Flotation Column 05 Level Flotation Column 06 Level  \\\n",
       "0                      502.255                    446.37   \n",
       "1                      496.363                   445.922   \n",
       "2                      484.411                   447.826   \n",
       "3                      471.411                    437.69   \n",
       "4                      462.598                   443.682   \n",
       "...                        ...                       ...   \n",
       "1995                   537.946                   566.668   \n",
       "1996                   549.842                   553.452   \n",
       "1997                   547.858                   556.252   \n",
       "1998                   511.286                   553.172   \n",
       "1999                   508.976                   533.516   \n",
       "\n",
       "     Flotation Column 07 Level % Iron Concentrate % Silica Concentrate  \n",
       "0                      523.344              66.91                 1.31  \n",
       "1                      498.075              66.91                 1.31  \n",
       "2                      458.567              66.91                 1.31  \n",
       "3                      427.669              66.91                 1.31  \n",
       "4                      425.679              66.91                 1.31  \n",
       "...                        ...                ...                  ...  \n",
       "1995                    544.09              65.55                 2.83  \n",
       "1996                   543.092              65.55                 2.83  \n",
       "1997                   555.787              65.55                 2.83  \n",
       "1998                   551.315              65.55                 2.83  \n",
       "1999                   543.483              65.55                 2.83  \n",
       "\n",
       "[2000 rows x 24 columns]"
      ]
     },
     "execution_count": 58,
     "metadata": {},
     "output_type": "execute_result"
    }
   ],
   "source": [
    "dfi"
   ]
  },
  {
   "cell_type": "code",
   "execution_count": 59,
   "metadata": {},
   "outputs": [],
   "source": [
    "dfi=dfi.drop(['date'], axis = 1)"
   ]
  },
  {
   "cell_type": "code",
   "execution_count": 60,
   "metadata": {},
   "outputs": [
    {
     "data": {
      "text/plain": [
       "% Iron Feed                     object\n",
       "% Silica Feed                   object\n",
       "Starch Flow                     object\n",
       "Amina Flow                      object\n",
       "Ore Pulp Flow                   object\n",
       "Ore Pulp pH                     object\n",
       "Ore Pulp Density                object\n",
       "Flotation Column 01 Air Flow    object\n",
       "Flotation Column 02 Air Flow    object\n",
       "Flotation Column 03 Air Flow    object\n",
       "Flotation Column 04 Air Flow    object\n",
       "Flotation Column 05 Air Flow    object\n",
       "Flotation Column 06 Air Flow    object\n",
       "Flotation Column 07 Air Flow    object\n",
       "Flotation Column 01 Level       object\n",
       "Flotation Column 02 Level       object\n",
       "Flotation Column 03 Level       object\n",
       "Flotation Column 04 Level       object\n",
       "Flotation Column 05 Level       object\n",
       "Flotation Column 06 Level       object\n",
       "Flotation Column 07 Level       object\n",
       "% Iron Concentrate              object\n",
       "% Silica Concentrate            object\n",
       "dtype: object"
      ]
     },
     "execution_count": 60,
     "metadata": {},
     "output_type": "execute_result"
    }
   ],
   "source": [
    "dfi.dtypes"
   ]
  },
  {
   "cell_type": "code",
   "execution_count": 61,
   "metadata": {},
   "outputs": [
    {
     "data": {
      "text/html": [
       "<div>\n",
       "<style scoped>\n",
       "    .dataframe tbody tr th:only-of-type {\n",
       "        vertical-align: middle;\n",
       "    }\n",
       "\n",
       "    .dataframe tbody tr th {\n",
       "        vertical-align: top;\n",
       "    }\n",
       "\n",
       "    .dataframe thead th {\n",
       "        text-align: right;\n",
       "    }\n",
       "</style>\n",
       "<table border=\"1\" class=\"dataframe\">\n",
       "  <thead>\n",
       "    <tr style=\"text-align: right;\">\n",
       "      <th></th>\n",
       "      <th>% Iron Feed</th>\n",
       "      <th>% Silica Feed</th>\n",
       "      <th>Starch Flow</th>\n",
       "      <th>Amina Flow</th>\n",
       "      <th>Ore Pulp Flow</th>\n",
       "      <th>Ore Pulp pH</th>\n",
       "      <th>Ore Pulp Density</th>\n",
       "      <th>Flotation Column 01 Air Flow</th>\n",
       "      <th>Flotation Column 02 Air Flow</th>\n",
       "      <th>Flotation Column 03 Air Flow</th>\n",
       "      <th>...</th>\n",
       "      <th>Flotation Column 07 Air Flow</th>\n",
       "      <th>Flotation Column 01 Level</th>\n",
       "      <th>Flotation Column 02 Level</th>\n",
       "      <th>Flotation Column 03 Level</th>\n",
       "      <th>Flotation Column 04 Level</th>\n",
       "      <th>Flotation Column 05 Level</th>\n",
       "      <th>Flotation Column 06 Level</th>\n",
       "      <th>Flotation Column 07 Level</th>\n",
       "      <th>% Iron Concentrate</th>\n",
       "      <th>% Silica Concentrate</th>\n",
       "    </tr>\n",
       "  </thead>\n",
       "  <tbody>\n",
       "    <tr>\n",
       "      <th>0</th>\n",
       "      <td>55.2</td>\n",
       "      <td>16.98</td>\n",
       "      <td>3019.53</td>\n",
       "      <td>557.434</td>\n",
       "      <td>395.713</td>\n",
       "      <td>10.0664</td>\n",
       "      <td>1.74</td>\n",
       "      <td>249.214</td>\n",
       "      <td>253.235</td>\n",
       "      <td>250.576</td>\n",
       "      <td>...</td>\n",
       "      <td>250.884</td>\n",
       "      <td>457.396</td>\n",
       "      <td>432.962</td>\n",
       "      <td>424.954</td>\n",
       "      <td>443.558</td>\n",
       "      <td>502.255</td>\n",
       "      <td>446.370</td>\n",
       "      <td>523.344</td>\n",
       "      <td>66.91</td>\n",
       "      <td>1.31</td>\n",
       "    </tr>\n",
       "    <tr>\n",
       "      <th>1</th>\n",
       "      <td>55.2</td>\n",
       "      <td>16.98</td>\n",
       "      <td>3024.41</td>\n",
       "      <td>563.965</td>\n",
       "      <td>397.383</td>\n",
       "      <td>10.0672</td>\n",
       "      <td>1.74</td>\n",
       "      <td>249.719</td>\n",
       "      <td>250.532</td>\n",
       "      <td>250.862</td>\n",
       "      <td>...</td>\n",
       "      <td>248.994</td>\n",
       "      <td>451.891</td>\n",
       "      <td>429.560</td>\n",
       "      <td>432.939</td>\n",
       "      <td>448.086</td>\n",
       "      <td>496.363</td>\n",
       "      <td>445.922</td>\n",
       "      <td>498.075</td>\n",
       "      <td>66.91</td>\n",
       "      <td>1.31</td>\n",
       "    </tr>\n",
       "    <tr>\n",
       "      <th>2</th>\n",
       "      <td>55.2</td>\n",
       "      <td>16.98</td>\n",
       "      <td>3043.46</td>\n",
       "      <td>568.054</td>\n",
       "      <td>399.668</td>\n",
       "      <td>10.0680</td>\n",
       "      <td>1.74</td>\n",
       "      <td>249.741</td>\n",
       "      <td>247.874</td>\n",
       "      <td>250.313</td>\n",
       "      <td>...</td>\n",
       "      <td>248.071</td>\n",
       "      <td>451.240</td>\n",
       "      <td>468.927</td>\n",
       "      <td>434.610</td>\n",
       "      <td>449.688</td>\n",
       "      <td>484.411</td>\n",
       "      <td>447.826</td>\n",
       "      <td>458.567</td>\n",
       "      <td>66.91</td>\n",
       "      <td>1.31</td>\n",
       "    </tr>\n",
       "    <tr>\n",
       "      <th>3</th>\n",
       "      <td>55.2</td>\n",
       "      <td>16.98</td>\n",
       "      <td>3047.36</td>\n",
       "      <td>568.665</td>\n",
       "      <td>397.939</td>\n",
       "      <td>10.0689</td>\n",
       "      <td>1.74</td>\n",
       "      <td>249.917</td>\n",
       "      <td>254.487</td>\n",
       "      <td>250.049</td>\n",
       "      <td>...</td>\n",
       "      <td>251.147</td>\n",
       "      <td>452.441</td>\n",
       "      <td>458.165</td>\n",
       "      <td>442.865</td>\n",
       "      <td>446.210</td>\n",
       "      <td>471.411</td>\n",
       "      <td>437.690</td>\n",
       "      <td>427.669</td>\n",
       "      <td>66.91</td>\n",
       "      <td>1.31</td>\n",
       "    </tr>\n",
       "    <tr>\n",
       "      <th>4</th>\n",
       "      <td>55.2</td>\n",
       "      <td>16.98</td>\n",
       "      <td>3033.69</td>\n",
       "      <td>558.167</td>\n",
       "      <td>400.254</td>\n",
       "      <td>10.0697</td>\n",
       "      <td>1.74</td>\n",
       "      <td>250.203</td>\n",
       "      <td>252.136</td>\n",
       "      <td>249.895</td>\n",
       "      <td>...</td>\n",
       "      <td>248.928</td>\n",
       "      <td>452.441</td>\n",
       "      <td>452.900</td>\n",
       "      <td>450.523</td>\n",
       "      <td>453.670</td>\n",
       "      <td>462.598</td>\n",
       "      <td>443.682</td>\n",
       "      <td>425.679</td>\n",
       "      <td>66.91</td>\n",
       "      <td>1.31</td>\n",
       "    </tr>\n",
       "  </tbody>\n",
       "</table>\n",
       "<p>5 rows × 23 columns</p>\n",
       "</div>"
      ],
      "text/plain": [
       "   % Iron Feed  % Silica Feed  Starch Flow  Amina Flow  Ore Pulp Flow  \\\n",
       "0         55.2          16.98      3019.53     557.434        395.713   \n",
       "1         55.2          16.98      3024.41     563.965        397.383   \n",
       "2         55.2          16.98      3043.46     568.054        399.668   \n",
       "3         55.2          16.98      3047.36     568.665        397.939   \n",
       "4         55.2          16.98      3033.69     558.167        400.254   \n",
       "\n",
       "   Ore Pulp pH  Ore Pulp Density  Flotation Column 01 Air Flow  \\\n",
       "0      10.0664              1.74                       249.214   \n",
       "1      10.0672              1.74                       249.719   \n",
       "2      10.0680              1.74                       249.741   \n",
       "3      10.0689              1.74                       249.917   \n",
       "4      10.0697              1.74                       250.203   \n",
       "\n",
       "   Flotation Column 02 Air Flow  Flotation Column 03 Air Flow  ...  \\\n",
       "0                       253.235                       250.576  ...   \n",
       "1                       250.532                       250.862  ...   \n",
       "2                       247.874                       250.313  ...   \n",
       "3                       254.487                       250.049  ...   \n",
       "4                       252.136                       249.895  ...   \n",
       "\n",
       "   Flotation Column 07 Air Flow  Flotation Column 01 Level  \\\n",
       "0                       250.884                    457.396   \n",
       "1                       248.994                    451.891   \n",
       "2                       248.071                    451.240   \n",
       "3                       251.147                    452.441   \n",
       "4                       248.928                    452.441   \n",
       "\n",
       "   Flotation Column 02 Level  Flotation Column 03 Level  \\\n",
       "0                    432.962                    424.954   \n",
       "1                    429.560                    432.939   \n",
       "2                    468.927                    434.610   \n",
       "3                    458.165                    442.865   \n",
       "4                    452.900                    450.523   \n",
       "\n",
       "   Flotation Column 04 Level  Flotation Column 05 Level  \\\n",
       "0                    443.558                    502.255   \n",
       "1                    448.086                    496.363   \n",
       "2                    449.688                    484.411   \n",
       "3                    446.210                    471.411   \n",
       "4                    453.670                    462.598   \n",
       "\n",
       "   Flotation Column 06 Level  Flotation Column 07 Level  % Iron Concentrate  \\\n",
       "0                    446.370                    523.344               66.91   \n",
       "1                    445.922                    498.075               66.91   \n",
       "2                    447.826                    458.567               66.91   \n",
       "3                    437.690                    427.669               66.91   \n",
       "4                    443.682                    425.679               66.91   \n",
       "\n",
       "   % Silica Concentrate  \n",
       "0                  1.31  \n",
       "1                  1.31  \n",
       "2                  1.31  \n",
       "3                  1.31  \n",
       "4                  1.31  \n",
       "\n",
       "[5 rows x 23 columns]"
      ]
     },
     "execution_count": 61,
     "metadata": {},
     "output_type": "execute_result"
    }
   ],
   "source": [
    "colnamei=dfi.columns\n",
    "for col in colnamei:\n",
    "    dfi[col]=dfi[col].astype(float)\n",
    "dfi.head()"
   ]
  },
  {
   "cell_type": "code",
   "execution_count": 62,
   "metadata": {},
   "outputs": [
    {
     "data": {
      "text/plain": [
       "% Iron Feed                     float64\n",
       "% Silica Feed                   float64\n",
       "Starch Flow                     float64\n",
       "Amina Flow                      float64\n",
       "Ore Pulp Flow                   float64\n",
       "Ore Pulp pH                     float64\n",
       "Ore Pulp Density                float64\n",
       "Flotation Column 01 Air Flow    float64\n",
       "Flotation Column 02 Air Flow    float64\n",
       "Flotation Column 03 Air Flow    float64\n",
       "Flotation Column 04 Air Flow    float64\n",
       "Flotation Column 05 Air Flow    float64\n",
       "Flotation Column 06 Air Flow    float64\n",
       "Flotation Column 07 Air Flow    float64\n",
       "Flotation Column 01 Level       float64\n",
       "Flotation Column 02 Level       float64\n",
       "Flotation Column 03 Level       float64\n",
       "Flotation Column 04 Level       float64\n",
       "Flotation Column 05 Level       float64\n",
       "Flotation Column 06 Level       float64\n",
       "Flotation Column 07 Level       float64\n",
       "% Iron Concentrate              float64\n",
       "% Silica Concentrate            float64\n",
       "dtype: object"
      ]
     },
     "execution_count": 62,
     "metadata": {},
     "output_type": "execute_result"
    }
   ],
   "source": [
    "dfi.dtypes"
   ]
  },
  {
   "cell_type": "code",
   "execution_count": 63,
   "metadata": {},
   "outputs": [],
   "source": [
    "yb=dfi.iloc[:,21:].values"
   ]
  },
  {
   "cell_type": "code",
   "execution_count": 64,
   "metadata": {},
   "outputs": [
    {
     "data": {
      "text/plain": [
       "array([[66.91,  1.31],\n",
       "       [66.91,  1.31],\n",
       "       [66.91,  1.31],\n",
       "       ...,\n",
       "       [65.55,  2.83],\n",
       "       [65.55,  2.83],\n",
       "       [65.55,  2.83]])"
      ]
     },
     "execution_count": 64,
     "metadata": {},
     "output_type": "execute_result"
    }
   ],
   "source": [
    "yb"
   ]
  },
  {
   "cell_type": "code",
   "execution_count": 65,
   "metadata": {},
   "outputs": [],
   "source": [
    "dfi['Flotation Column 1234567 Level']=(dfi['Flotation Column 01 Level']+dfi['Flotation Column 02 Level']+dfi['Flotation Column 03 Level']+dfi['Flotation Column 04 Level']+dfi['Flotation Column 05 Level']+dfi['Flotation Column 06 Level']+dfi['Flotation Column 07 Level'])/7\n",
    "dfi['Flotation Column 1234567 Air Flow']=(dfi['Flotation Column 01 Air Flow']+dfi['Flotation Column 02 Air Flow']+dfi['Flotation Column 03 Air Flow']+dfi['Flotation Column 04 Air Flow']+dfi['Flotation Column 05 Air Flow']+dfi['Flotation Column 06 Air Flow']+dfi['Flotation Column 07 Air Flow'])/7"
   ]
  },
  {
   "cell_type": "code",
   "execution_count": 66,
   "metadata": {},
   "outputs": [],
   "source": [
    "dfi=dfi.drop(['% Iron Concentrate','Flotation Column 01 Air Flow','% Silica Concentrate','Flotation Column 02 Air Flow','Flotation Column 03 Air Flow','Flotation Column 04 Air Flow','Flotation Column 05 Air Flow','Flotation Column 06 Air Flow','Flotation Column 07 Air Flow','Flotation Column 01 Level','Flotation Column 02 Level','Flotation Column 03 Level','Flotation Column 04 Level','Flotation Column 05 Level','Flotation Column 06 Level','Flotation Column 07 Level'], axis = 1)"
   ]
  },
  {
   "cell_type": "code",
   "execution_count": 67,
   "metadata": {},
   "outputs": [
    {
     "data": {
      "text/plain": [
       "% Iron Feed                          float64\n",
       "% Silica Feed                        float64\n",
       "Starch Flow                          float64\n",
       "Amina Flow                           float64\n",
       "Ore Pulp Flow                        float64\n",
       "Ore Pulp pH                          float64\n",
       "Ore Pulp Density                     float64\n",
       "Flotation Column 1234567 Level       float64\n",
       "Flotation Column 1234567 Air Flow    float64\n",
       "dtype: object"
      ]
     },
     "execution_count": 67,
     "metadata": {},
     "output_type": "execute_result"
    }
   ],
   "source": [
    "dfi.dtypes"
   ]
  },
  {
   "cell_type": "code",
   "execution_count": 68,
   "metadata": {},
   "outputs": [
    {
     "data": {
      "text/html": [
       "<div>\n",
       "<style scoped>\n",
       "    .dataframe tbody tr th:only-of-type {\n",
       "        vertical-align: middle;\n",
       "    }\n",
       "\n",
       "    .dataframe tbody tr th {\n",
       "        vertical-align: top;\n",
       "    }\n",
       "\n",
       "    .dataframe thead th {\n",
       "        text-align: right;\n",
       "    }\n",
       "</style>\n",
       "<table border=\"1\" class=\"dataframe\">\n",
       "  <thead>\n",
       "    <tr style=\"text-align: right;\">\n",
       "      <th></th>\n",
       "      <th>% Iron Feed</th>\n",
       "      <th>% Silica Feed</th>\n",
       "      <th>Starch Flow</th>\n",
       "      <th>Amina Flow</th>\n",
       "      <th>Ore Pulp Flow</th>\n",
       "      <th>Ore Pulp pH</th>\n",
       "      <th>Ore Pulp Density</th>\n",
       "      <th>Flotation Column 1234567 Level</th>\n",
       "      <th>Flotation Column 1234567 Air Flow</th>\n",
       "    </tr>\n",
       "  </thead>\n",
       "  <tbody>\n",
       "    <tr>\n",
       "      <th>0</th>\n",
       "      <td>55.20</td>\n",
       "      <td>16.98</td>\n",
       "      <td>3019.53</td>\n",
       "      <td>557.434</td>\n",
       "      <td>395.713</td>\n",
       "      <td>10.0664</td>\n",
       "      <td>1.74</td>\n",
       "      <td>461.548429</td>\n",
       "      <td>265.090000</td>\n",
       "    </tr>\n",
       "    <tr>\n",
       "      <th>1</th>\n",
       "      <td>55.20</td>\n",
       "      <td>16.98</td>\n",
       "      <td>3024.41</td>\n",
       "      <td>563.965</td>\n",
       "      <td>397.383</td>\n",
       "      <td>10.0672</td>\n",
       "      <td>1.74</td>\n",
       "      <td>457.548000</td>\n",
       "      <td>264.534286</td>\n",
       "    </tr>\n",
       "    <tr>\n",
       "      <th>2</th>\n",
       "      <td>55.20</td>\n",
       "      <td>16.98</td>\n",
       "      <td>3043.46</td>\n",
       "      <td>568.054</td>\n",
       "      <td>399.668</td>\n",
       "      <td>10.0680</td>\n",
       "      <td>1.74</td>\n",
       "      <td>456.467000</td>\n",
       "      <td>264.120000</td>\n",
       "    </tr>\n",
       "    <tr>\n",
       "      <th>3</th>\n",
       "      <td>55.20</td>\n",
       "      <td>16.98</td>\n",
       "      <td>3047.36</td>\n",
       "      <td>568.665</td>\n",
       "      <td>397.939</td>\n",
       "      <td>10.0689</td>\n",
       "      <td>1.74</td>\n",
       "      <td>448.064429</td>\n",
       "      <td>265.359714</td>\n",
       "    </tr>\n",
       "    <tr>\n",
       "      <th>4</th>\n",
       "      <td>55.20</td>\n",
       "      <td>16.98</td>\n",
       "      <td>3033.69</td>\n",
       "      <td>558.167</td>\n",
       "      <td>400.254</td>\n",
       "      <td>10.0697</td>\n",
       "      <td>1.74</td>\n",
       "      <td>448.784714</td>\n",
       "      <td>264.663000</td>\n",
       "    </tr>\n",
       "    <tr>\n",
       "      <th>...</th>\n",
       "      <td>...</td>\n",
       "      <td>...</td>\n",
       "      <td>...</td>\n",
       "      <td>...</td>\n",
       "      <td>...</td>\n",
       "      <td>...</td>\n",
       "      <td>...</td>\n",
       "      <td>...</td>\n",
       "      <td>...</td>\n",
       "    </tr>\n",
       "    <tr>\n",
       "      <th>1995</th>\n",
       "      <td>54.95</td>\n",
       "      <td>17.40</td>\n",
       "      <td>4429.20</td>\n",
       "      <td>571.289</td>\n",
       "      <td>406.201</td>\n",
       "      <td>10.0214</td>\n",
       "      <td>1.78</td>\n",
       "      <td>549.230714</td>\n",
       "      <td>264.308286</td>\n",
       "    </tr>\n",
       "    <tr>\n",
       "      <th>1996</th>\n",
       "      <td>54.95</td>\n",
       "      <td>17.40</td>\n",
       "      <td>4410.64</td>\n",
       "      <td>572.998</td>\n",
       "      <td>403.770</td>\n",
       "      <td>10.0189</td>\n",
       "      <td>1.78</td>\n",
       "      <td>540.235857</td>\n",
       "      <td>264.779143</td>\n",
       "    </tr>\n",
       "    <tr>\n",
       "      <th>1997</th>\n",
       "      <td>54.95</td>\n",
       "      <td>17.40</td>\n",
       "      <td>4407.71</td>\n",
       "      <td>563.049</td>\n",
       "      <td>401.309</td>\n",
       "      <td>10.0165</td>\n",
       "      <td>1.78</td>\n",
       "      <td>543.759286</td>\n",
       "      <td>264.807143</td>\n",
       "    </tr>\n",
       "    <tr>\n",
       "      <th>1998</th>\n",
       "      <td>54.95</td>\n",
       "      <td>17.40</td>\n",
       "      <td>4408.20</td>\n",
       "      <td>570.007</td>\n",
       "      <td>399.756</td>\n",
       "      <td>10.0140</td>\n",
       "      <td>1.78</td>\n",
       "      <td>541.592857</td>\n",
       "      <td>264.173286</td>\n",
       "    </tr>\n",
       "    <tr>\n",
       "      <th>1999</th>\n",
       "      <td>54.95</td>\n",
       "      <td>17.40</td>\n",
       "      <td>4418.46</td>\n",
       "      <td>573.669</td>\n",
       "      <td>398.291</td>\n",
       "      <td>10.0115</td>\n",
       "      <td>1.78</td>\n",
       "      <td>539.921429</td>\n",
       "      <td>263.828143</td>\n",
       "    </tr>\n",
       "  </tbody>\n",
       "</table>\n",
       "<p>2000 rows × 9 columns</p>\n",
       "</div>"
      ],
      "text/plain": [
       "      % Iron Feed  % Silica Feed  Starch Flow  Amina Flow  Ore Pulp Flow  \\\n",
       "0           55.20          16.98      3019.53     557.434        395.713   \n",
       "1           55.20          16.98      3024.41     563.965        397.383   \n",
       "2           55.20          16.98      3043.46     568.054        399.668   \n",
       "3           55.20          16.98      3047.36     568.665        397.939   \n",
       "4           55.20          16.98      3033.69     558.167        400.254   \n",
       "...           ...            ...          ...         ...            ...   \n",
       "1995        54.95          17.40      4429.20     571.289        406.201   \n",
       "1996        54.95          17.40      4410.64     572.998        403.770   \n",
       "1997        54.95          17.40      4407.71     563.049        401.309   \n",
       "1998        54.95          17.40      4408.20     570.007        399.756   \n",
       "1999        54.95          17.40      4418.46     573.669        398.291   \n",
       "\n",
       "      Ore Pulp pH  Ore Pulp Density  Flotation Column 1234567 Level  \\\n",
       "0         10.0664              1.74                      461.548429   \n",
       "1         10.0672              1.74                      457.548000   \n",
       "2         10.0680              1.74                      456.467000   \n",
       "3         10.0689              1.74                      448.064429   \n",
       "4         10.0697              1.74                      448.784714   \n",
       "...           ...               ...                             ...   \n",
       "1995      10.0214              1.78                      549.230714   \n",
       "1996      10.0189              1.78                      540.235857   \n",
       "1997      10.0165              1.78                      543.759286   \n",
       "1998      10.0140              1.78                      541.592857   \n",
       "1999      10.0115              1.78                      539.921429   \n",
       "\n",
       "      Flotation Column 1234567 Air Flow  \n",
       "0                            265.090000  \n",
       "1                            264.534286  \n",
       "2                            264.120000  \n",
       "3                            265.359714  \n",
       "4                            264.663000  \n",
       "...                                 ...  \n",
       "1995                         264.308286  \n",
       "1996                         264.779143  \n",
       "1997                         264.807143  \n",
       "1998                         264.173286  \n",
       "1999                         263.828143  \n",
       "\n",
       "[2000 rows x 9 columns]"
      ]
     },
     "execution_count": 68,
     "metadata": {},
     "output_type": "execute_result"
    }
   ],
   "source": [
    "xa=dfi\n",
    "xa"
   ]
  },
  {
   "cell_type": "code",
   "execution_count": 69,
   "metadata": {},
   "outputs": [
    {
     "data": {
      "text/plain": [
       "False"
      ]
     },
     "execution_count": 69,
     "metadata": {},
     "output_type": "execute_result"
    }
   ],
   "source": [
    "dfi.isnull().any().any()"
   ]
  },
  {
   "cell_type": "code",
   "execution_count": 70,
   "metadata": {},
   "outputs": [
    {
     "data": {
      "text/plain": [
       "% Iron Feed                          False\n",
       "% Silica Feed                        False\n",
       "Starch Flow                          False\n",
       "Amina Flow                           False\n",
       "Ore Pulp Flow                        False\n",
       "Ore Pulp pH                          False\n",
       "Ore Pulp Density                     False\n",
       "Flotation Column 1234567 Level       False\n",
       "Flotation Column 1234567 Air Flow    False\n",
       "dtype: bool"
      ]
     },
     "execution_count": 70,
     "metadata": {},
     "output_type": "execute_result"
    }
   ],
   "source": [
    "dfi.isnull().any()"
   ]
  },
  {
   "cell_type": "code",
   "execution_count": 71,
   "metadata": {},
   "outputs": [
    {
     "data": {
      "text/plain": [
       "array([[442.81408935,  81.07944312,   5.16381722, ...,  54.85617194,\n",
       "          9.73653223, 387.89543061],\n",
       "       [442.81408935,  81.07944312,   5.1721627 , ...,  54.85617194,\n",
       "          9.65214173, 387.08227646],\n",
       "       [442.81408935,  81.07944312,   5.20474085, ...,  54.85617194,\n",
       "          9.62933764, 386.476069  ],\n",
       "       ...,\n",
       "       [440.80859075,  83.08494171,   7.53779853, ...,  56.11723336,\n",
       "         11.4708002 , 387.48153724],\n",
       "       [440.80859075,  83.08494171,   7.5386365 , ...,  56.11723336,\n",
       "         11.4250986 , 386.55403983],\n",
       "       [440.80859075,  83.08494171,   7.55618253, ...,  56.11723336,\n",
       "         11.38983921, 386.0490063 ]])"
      ]
     },
     "execution_count": 71,
     "metadata": {},
     "output_type": "execute_result"
    }
   ],
   "source": [
    "from sklearn.preprocessing import StandardScaler\n",
    "sc=StandardScaler(with_mean=False)\n",
    "xa=sc.fit_transform(xa)\n",
    "xa"
   ]
  },
  {
   "cell_type": "code",
   "execution_count": 72,
   "metadata": {},
   "outputs": [
    {
     "data": {
      "text/plain": [
       "['Transformsslla']"
      ]
     },
     "execution_count": 72,
     "metadata": {},
     "output_type": "execute_result"
    }
   ],
   "source": [
    "import joblib\n",
    "joblib.dump(sc,'Transformsslla')"
   ]
  },
  {
   "cell_type": "code",
   "execution_count": 73,
   "metadata": {},
   "outputs": [],
   "source": [
    "from sklearn.model_selection import train_test_split\n",
    "x_train,x_test,y_train,y_test=train_test_split(xa,yb,test_size=0.2,random_state=0)"
   ]
  },
  {
   "cell_type": "code",
   "execution_count": 74,
   "metadata": {},
   "outputs": [],
   "source": [
    "from sklearn.ensemble import RandomForestRegressor"
   ]
  },
  {
   "cell_type": "code",
   "execution_count": 75,
   "metadata": {},
   "outputs": [
    {
     "data": {
      "text/plain": [
       "RandomForestRegressor(random_state=0)"
      ]
     },
     "execution_count": 75,
     "metadata": {},
     "output_type": "execute_result"
    }
   ],
   "source": [
    "mr= RandomForestRegressor(n_estimators=100,criterion=\"mse\",random_state=0)\n",
    "mr.fit(x_train,y_train)"
   ]
  },
  {
   "cell_type": "code",
   "execution_count": 76,
   "metadata": {},
   "outputs": [
    {
     "data": {
      "text/plain": [
       "['Multyylla.save']"
      ]
     },
     "execution_count": 76,
     "metadata": {},
     "output_type": "execute_result"
    }
   ],
   "source": [
    "joblib.dump(mr,'Multyylla.save')"
   ]
  },
  {
   "cell_type": "code",
   "execution_count": 77,
   "metadata": {},
   "outputs": [
    {
     "data": {
      "text/plain": [
       "array([[66.97  ,  1.27  ],\n",
       "       [65.76  ,  2.76  ],\n",
       "       [65.76  ,  2.76  ],\n",
       "       [66.6916,  1.2868],\n",
       "       [66.52  ,  1.81  ],\n",
       "       [65.7639,  2.7567],\n",
       "       [66.68  ,  1.73  ],\n",
       "       [65.89  ,  2.65  ],\n",
       "       [65.5597,  2.8198],\n",
       "       [66.91  ,  1.31  ],\n",
       "       [65.8887,  2.6511],\n",
       "       [66.68  ,  1.73  ],\n",
       "       [67.06  ,  1.11  ],\n",
       "       [67.06  ,  1.11  ],\n",
       "       [66.6322,  1.3381],\n",
       "       [65.55  ,  2.83  ],\n",
       "       [66.97  ,  1.27  ],\n",
       "       [65.55  ,  2.83  ],\n",
       "       [66.68  ,  1.73  ],\n",
       "       [65.7862,  2.7234],\n",
       "       [65.55  ,  2.83  ],\n",
       "       [65.76  ,  2.76  ],\n",
       "       [66.6322,  1.3381],\n",
       "       [66.68  ,  1.73  ],\n",
       "       [65.7784,  2.7394],\n",
       "       [65.89  ,  2.65  ],\n",
       "       [66.9709,  1.2684],\n",
       "       [65.76  ,  2.76  ],\n",
       "       [66.97  ,  1.27  ],\n",
       "       [65.55  ,  2.83  ],\n",
       "       [65.89  ,  2.65  ],\n",
       "       [65.76  ,  2.76  ],\n",
       "       [65.55  ,  2.83  ],\n",
       "       [66.52  ,  1.81  ],\n",
       "       [66.85  ,  1.15  ],\n",
       "       [66.97  ,  1.27  ],\n",
       "       [66.85  ,  1.15  ],\n",
       "       [66.9685,  1.232 ],\n",
       "       [66.97  ,  1.27  ],\n",
       "       [66.85  ,  1.15  ],\n",
       "       [66.91  ,  1.31  ],\n",
       "       [65.89  ,  2.65  ],\n",
       "       [65.8132,  2.6935],\n",
       "       [66.9184,  1.3044],\n",
       "       [66.5616,  1.7892],\n",
       "       [66.8886,  1.3033],\n",
       "       [66.9676,  1.2716],\n",
       "       [67.0375,  1.14  ],\n",
       "       [65.9739,  2.3878],\n",
       "       [65.8042,  2.7226],\n",
       "       [66.68  ,  1.73  ],\n",
       "       [65.89  ,  2.65  ],\n",
       "       [66.91  ,  1.31  ],\n",
       "       [66.7566,  1.3573],\n",
       "       [67.06  ,  1.11  ],\n",
       "       [66.8412,  1.1576],\n",
       "       [66.97  ,  1.27  ],\n",
       "       [66.477 ,  1.8585],\n",
       "       [66.85  ,  1.15  ],\n",
       "       [66.68  ,  1.73  ],\n",
       "       [66.6322,  1.3381],\n",
       "       [66.68  ,  1.73  ],\n",
       "       [65.76  ,  2.76  ],\n",
       "       [65.8979,  2.6408],\n",
       "       [66.91  ,  1.31  ],\n",
       "       [66.63  ,  1.34  ],\n",
       "       [66.8082,  1.1861],\n",
       "       [65.76  ,  2.76  ],\n",
       "       [66.97  ,  1.27  ],\n",
       "       [67.0066,  1.1816],\n",
       "       [67.06  ,  1.11  ],\n",
       "       [66.6322,  1.3381],\n",
       "       [65.55  ,  2.83  ],\n",
       "       [66.52  ,  1.81  ],\n",
       "       [67.06  ,  1.11  ],\n",
       "       [66.5392,  1.8004],\n",
       "       [66.91  ,  1.31  ],\n",
       "       [67.0495,  1.124 ],\n",
       "       [66.456 ,  1.8954],\n",
       "       [66.68  ,  1.73  ],\n",
       "       [66.8302,  1.1671],\n",
       "       [66.91  ,  1.31  ],\n",
       "       [66.97  ,  1.27  ],\n",
       "       [65.76  ,  2.76  ],\n",
       "       [66.52  ,  1.81  ],\n",
       "       [67.0555,  1.116 ],\n",
       "       [66.52  ,  1.81  ],\n",
       "       [67.051 ,  1.122 ],\n",
       "       [66.97  ,  1.27  ],\n",
       "       [67.06  ,  1.11  ],\n",
       "       [66.91  ,  1.31  ],\n",
       "       [66.85  ,  1.15  ],\n",
       "       [66.925 ,  1.29  ],\n",
       "       [66.536 ,  1.802 ],\n",
       "       [66.68  ,  1.73  ],\n",
       "       [65.6761,  2.6974],\n",
       "       [65.55  ,  2.83  ],\n",
       "       [66.91  ,  1.31  ],\n",
       "       [65.5888,  2.7892],\n",
       "       [67.0405,  1.136 ],\n",
       "       [65.55  ,  2.83  ],\n",
       "       [65.8977,  2.6206],\n",
       "       [66.75  ,  1.36  ],\n",
       "       [66.68  ,  1.73  ],\n",
       "       [66.9208,  1.3028],\n",
       "       [66.8016,  1.1918],\n",
       "       [65.76  ,  2.76  ],\n",
       "       [66.6036,  1.7739],\n",
       "       [65.89  ,  2.65  ],\n",
       "       [66.6322,  1.3381],\n",
       "       [66.97  ,  1.27  ],\n",
       "       [65.5888,  2.7892],\n",
       "       [66.8456,  1.1538],\n",
       "       [65.76  ,  2.76  ],\n",
       "       [66.68  ,  1.73  ],\n",
       "       [66.75  ,  1.36  ],\n",
       "       [65.55  ,  2.83  ],\n",
       "       [66.91  ,  1.31  ],\n",
       "       [66.75  ,  1.36  ],\n",
       "       [66.91  ,  1.31  ],\n",
       "       [66.63  ,  1.34  ],\n",
       "       [66.91  ,  1.31  ],\n",
       "       [65.76  ,  2.76  ],\n",
       "       [66.928 ,  1.286 ],\n",
       "       [66.68  ,  1.73  ],\n",
       "       [65.76  ,  2.76  ],\n",
       "       [66.7752,  1.2146],\n",
       "       [65.8979,  2.6408],\n",
       "       [66.6432,  1.3286],\n",
       "       [65.7652,  2.7556],\n",
       "       [66.6938,  1.2849],\n",
       "       [66.946 ,  1.264 ],\n",
       "       [67.06  ,  1.11  ],\n",
       "       [67.06  ,  1.11  ],\n",
       "       [65.55  ,  2.83  ],\n",
       "       [66.97  ,  1.27  ],\n",
       "       [66.8478,  1.1519],\n",
       "       [65.874 ,  2.6175],\n",
       "       [66.74  ,  1.245 ],\n",
       "       [67.0555,  1.116 ],\n",
       "       [66.52  ,  1.81  ],\n",
       "       [66.6344,  1.3362],\n",
       "       [66.5936,  1.7732],\n",
       "       [66.7676,  1.3528],\n",
       "       [66.91  ,  1.31  ],\n",
       "       [66.8776,  1.3078],\n",
       "       [67.0585,  1.112 ],\n",
       "       [66.91  ,  1.31  ],\n",
       "       [66.4366,  1.9048],\n",
       "       [65.5694,  2.8096],\n",
       "       [66.9687,  1.2693],\n",
       "       [65.55  ,  2.83  ],\n",
       "       [66.906 ,  1.2985],\n",
       "       [66.528 ,  1.806 ],\n",
       "       [66.9232,  1.3012],\n",
       "       [66.722 ,  1.3508],\n",
       "       [67.06  ,  1.11  ],\n",
       "       [66.7224,  1.2602],\n",
       "       [66.7698,  1.3519],\n",
       "       [65.89  ,  2.65  ],\n",
       "       [65.5694,  2.8096],\n",
       "       [65.5542,  2.8286],\n",
       "       [65.777 ,  2.7321],\n",
       "       [65.89  ,  2.65  ],\n",
       "       [65.55  ,  2.83  ],\n",
       "       [66.8346,  1.1633],\n",
       "       [66.5296,  1.8052],\n",
       "       [65.5694,  2.8096],\n",
       "       [66.63  ,  1.34  ],\n",
       "       [65.76  ,  2.76  ],\n",
       "       [66.8446,  1.3213],\n",
       "       [65.9016,  2.6236],\n",
       "       [66.91  ,  1.31  ],\n",
       "       [67.0495,  1.124 ],\n",
       "       [66.901 ,  1.299 ],\n",
       "       [65.5791,  2.7994],\n",
       "       [66.75  ,  1.36  ],\n",
       "       [67.06  ,  1.11  ],\n",
       "       [66.4943,  1.8388],\n",
       "       [67.06  ,  1.11  ],\n",
       "       [65.89  ,  2.65  ],\n",
       "       [66.68  ,  1.73  ],\n",
       "       [65.55  ,  2.83  ],\n",
       "       [67.06  ,  1.11  ],\n",
       "       [66.592 ,  1.774 ],\n",
       "       [65.8562,  2.6786],\n",
       "       [65.89  ,  2.65  ],\n",
       "       [66.806 ,  1.188 ],\n",
       "       [67.06  ,  1.11  ],\n",
       "       [65.55  ,  2.83  ],\n",
       "       [65.89  ,  2.65  ],\n",
       "       [66.75  ,  1.36  ],\n",
       "       [66.97  ,  1.27  ],\n",
       "       [66.7918,  1.3429],\n",
       "       [66.7444,  1.2412],\n",
       "       [65.89  ,  2.65  ],\n",
       "       [65.55  ,  2.83  ],\n",
       "       [66.97  ,  1.27  ],\n",
       "       [65.76  ,  2.76  ],\n",
       "       [66.68  ,  1.73  ],\n",
       "       [66.8632,  1.1632],\n",
       "       [66.75  ,  1.36  ],\n",
       "       [66.97  ,  1.27  ],\n",
       "       [66.718 ,  1.264 ],\n",
       "       [65.89  ,  2.65  ],\n",
       "       [66.4867,  1.8483],\n",
       "       [66.68  ,  1.73  ],\n",
       "       [66.5824,  1.7788],\n",
       "       [66.97  ,  1.27  ],\n",
       "       [65.89  ,  2.65  ],\n",
       "       [67.0585,  1.112 ],\n",
       "       [66.707 ,  1.2735],\n",
       "       [67.06  ,  1.11  ],\n",
       "       [65.8537,  2.6782],\n",
       "       [67.0195,  1.164 ],\n",
       "       [66.97  ,  1.27  ],\n",
       "       [65.8911,  2.646 ],\n",
       "       [67.0405,  1.136 ],\n",
       "       [65.89  ,  2.65  ],\n",
       "       [66.75  ,  1.36  ],\n",
       "       [66.9676,  1.2716],\n",
       "       [66.751 ,  1.3579],\n",
       "       [66.641 ,  1.3305],\n",
       "       [66.8094,  1.3357],\n",
       "       [66.7764,  1.3492],\n",
       "       [66.5552,  1.7924],\n",
       "       [65.55  ,  2.83  ],\n",
       "       [65.55  ,  2.83  ],\n",
       "       [66.97  ,  1.27  ],\n",
       "       [65.5597,  2.8198],\n",
       "       [66.7654,  1.3537],\n",
       "       [66.91  ,  1.31  ],\n",
       "       [65.55  ,  2.83  ],\n",
       "       [65.5694,  2.8096],\n",
       "       [66.5328,  1.8036],\n",
       "       [65.76  ,  2.76  ],\n",
       "       [65.76  ,  2.76  ],\n",
       "       [66.6784,  1.7308],\n",
       "       [66.7896,  1.3438],\n",
       "       [65.89  ,  2.65  ],\n",
       "       [66.97  ,  1.27  ],\n",
       "       [66.7544,  1.3582],\n",
       "       [66.8456,  1.1538],\n",
       "       [66.8082,  1.1861],\n",
       "       [66.75  ,  1.36  ],\n",
       "       [65.89  ,  2.65  ],\n",
       "       [66.97  ,  1.27  ],\n",
       "       [66.97  ,  1.27  ],\n",
       "       [66.6542,  1.3191],\n",
       "       [67.057 ,  1.114 ],\n",
       "       [65.55  ,  2.83  ],\n",
       "       [66.5312,  1.8044],\n",
       "       [66.52  ,  1.81  ],\n",
       "       [66.5232,  1.8084],\n",
       "       [66.52  ,  1.81  ],\n",
       "       [66.91  ,  1.31  ],\n",
       "       [65.55  ,  2.83  ],\n",
       "       [66.5296,  1.8052],\n",
       "       [65.8266,  2.5924],\n",
       "       [67.057 ,  1.114 ],\n",
       "       [65.7768,  2.7402],\n",
       "       [66.91  ,  1.31  ],\n",
       "       [66.849 ,  1.3195],\n",
       "       [65.76  ,  2.76  ],\n",
       "       [66.97  ,  1.27  ],\n",
       "       [65.8056,  2.703 ],\n",
       "       [65.76  ,  2.76  ],\n",
       "       [65.55  ,  2.83  ],\n",
       "       [66.624 ,  1.758 ],\n",
       "       [66.4943,  1.8388],\n",
       "       [66.7852,  1.3456],\n",
       "       [66.7576,  1.2298],\n",
       "       [66.6366,  1.3343],\n",
       "       [66.75  ,  1.36  ],\n",
       "       [66.75  ,  1.36  ],\n",
       "       [66.8104,  1.1842],\n",
       "       [66.729 ,  1.2545],\n",
       "       [67.003 ,  1.186 ],\n",
       "       [66.5536,  1.7932],\n",
       "       [66.85  ,  1.15  ],\n",
       "       [66.68  ,  1.73  ],\n",
       "       [65.7704,  2.7512],\n",
       "       [66.68  ,  1.73  ],\n",
       "       [66.9265,  1.288 ],\n",
       "       [66.7532,  1.2336],\n",
       "       [66.75  ,  1.36  ],\n",
       "       [66.6366,  1.3343],\n",
       "       [66.75  ,  1.36  ],\n",
       "       [65.89  ,  2.65  ],\n",
       "       [66.91  ,  1.31  ],\n",
       "       [66.91  ,  1.31  ],\n",
       "       [66.5264,  1.8068],\n",
       "       [65.89  ,  2.65  ],\n",
       "       [67.0585,  1.112 ],\n",
       "       [66.8302,  1.1671],\n",
       "       [66.7742,  1.3501],\n",
       "       [66.8478,  1.1519],\n",
       "       [66.63  ,  1.34  ],\n",
       "       [66.68  ,  1.73  ],\n",
       "       [66.63  ,  1.34  ],\n",
       "       [66.5697,  1.7904],\n",
       "       [66.85  ,  1.15  ],\n",
       "       [65.89  ,  2.65  ],\n",
       "       [66.75  ,  1.36  ],\n",
       "       [65.76  ,  2.76  ],\n",
       "       [65.5825,  2.7976],\n",
       "       [66.97  ,  1.27  ],\n",
       "       [67.0015,  1.188 ],\n",
       "       [66.52  ,  1.81  ],\n",
       "       [66.576 ,  1.782 ],\n",
       "       [66.91  ,  1.31  ],\n",
       "       [65.76  ,  2.76  ],\n",
       "       [66.91  ,  1.31  ],\n",
       "       [66.85  ,  1.15  ],\n",
       "       [66.544 ,  1.798 ],\n",
       "       [66.8478,  1.1519],\n",
       "       [67.0585,  1.112 ],\n",
       "       [66.9676,  1.2716],\n",
       "       [66.68  ,  1.73  ],\n",
       "       [66.52  ,  1.81  ],\n",
       "       [66.75  ,  1.36  ],\n",
       "       [66.68  ,  1.73  ],\n",
       "       [66.91  ,  1.31  ],\n",
       "       [66.91  ,  1.31  ],\n",
       "       [66.5137,  1.8184],\n",
       "       [66.68  ,  1.73  ],\n",
       "       [66.7202,  1.2621],\n",
       "       [66.5518,  1.8676],\n",
       "       [65.8861,  2.6533],\n",
       "       [66.91  ,  1.31  ],\n",
       "       [65.7769,  2.7457],\n",
       "       [66.52  ,  1.81  ],\n",
       "       [66.5472,  1.7964],\n",
       "       [66.85  ,  1.15  ],\n",
       "       [66.6542,  1.3191],\n",
       "       [67.057 ,  1.114 ],\n",
       "       [66.6322,  1.3381],\n",
       "       [66.91  ,  1.31  ],\n",
       "       [66.6784,  1.7308],\n",
       "       [66.97  ,  1.27  ],\n",
       "       [65.55  ,  2.83  ],\n",
       "       [65.8979,  2.6408],\n",
       "       [66.7686,  1.2203],\n",
       "       [65.76  ,  2.76  ],\n",
       "       [66.6432,  1.3286],\n",
       "       [65.55  ,  2.83  ],\n",
       "       [66.5264,  1.8068],\n",
       "       [66.91  ,  1.31  ],\n",
       "       [66.68  ,  1.73  ],\n",
       "       [66.63  ,  1.34  ],\n",
       "       [66.91  ,  1.31  ],\n",
       "       [65.55  ,  2.83  ],\n",
       "       [66.6168,  1.8036],\n",
       "       [66.641 ,  1.3305],\n",
       "       [66.7796,  1.2108],\n",
       "       [65.76  ,  2.76  ],\n",
       "       [65.89  ,  2.65  ],\n",
       "       [65.55  ,  2.83  ],\n",
       "       [66.91  ,  1.31  ],\n",
       "       [66.8324,  1.1652],\n",
       "       [66.6032,  1.7684],\n",
       "       [66.91  ,  1.31  ],\n",
       "       [65.76  ,  2.76  ],\n",
       "       [66.85  ,  1.15  ],\n",
       "       [66.97  ,  1.27  ],\n",
       "       [66.6784,  1.7308],\n",
       "       [66.9022,  1.2892],\n",
       "       [66.97  ,  1.27  ],\n",
       "       [65.76  ,  2.76  ],\n",
       "       [66.6176,  1.7612],\n",
       "       [67.06  ,  1.11  ],\n",
       "       [66.6344,  1.3362],\n",
       "       [67.06  ,  1.11  ],\n",
       "       [66.6322,  1.3381],\n",
       "       [65.89  ,  2.65  ],\n",
       "       [66.68  ,  1.73  ],\n",
       "       [66.97  ,  1.27  ],\n",
       "       [66.97  ,  1.27  ],\n",
       "       [65.76  ,  2.76  ],\n",
       "       [66.91  ,  1.31  ],\n",
       "       [66.6322,  1.3381],\n",
       "       [66.97  ,  1.27  ],\n",
       "       [66.91  ,  1.31  ],\n",
       "       [65.7613,  2.7589],\n",
       "       [66.6322,  1.3381],\n",
       "       [65.8963,  2.6416],\n",
       "       [65.89  ,  2.65  ],\n",
       "       [66.97  ,  1.27  ],\n",
       "       [65.89  ,  2.65  ],\n",
       "       [66.52  ,  1.81  ],\n",
       "       [67.06  ,  1.11  ],\n",
       "       [66.91  ,  1.31  ],\n",
       "       [65.5631,  2.818 ],\n",
       "       [65.89  ,  2.65  ],\n",
       "       [65.8927,  2.6452],\n",
       "       [66.7896,  1.3438],\n",
       "       [66.97  ,  1.27  ],\n",
       "       [65.6082,  2.7688],\n",
       "       [66.52  ,  1.81  ],\n",
       "       [66.7654,  1.3537]])"
      ]
     },
     "execution_count": 77,
     "metadata": {},
     "output_type": "execute_result"
    }
   ],
   "source": [
    "y_pred = mr.predict(x_test)\n",
    "y_pred"
   ]
  },
  {
   "cell_type": "code",
   "execution_count": 79,
   "metadata": {},
   "outputs": [],
   "source": [
    "a=mr.predict([[55.20,16.98,3019.53,557.434,395.713,10.06640,1.74,461.548429,285.90]])"
   ]
  },
  {
   "cell_type": "code",
   "execution_count": 80,
   "metadata": {
    "scrolled": true
   },
   "outputs": [
    {
     "data": {
      "text/plain": [
       "array([[66.7125,  1.4623]])"
      ]
     },
     "execution_count": 80,
     "metadata": {},
     "output_type": "execute_result"
    }
   ],
   "source": [
    "a"
   ]
  }
 ],
 "metadata": {
  "kernelspec": {
   "display_name": "Python 3",
   "language": "python",
   "name": "python3"
  },
  "language_info": {
   "codemirror_mode": {
    "name": "ipython",
    "version": 3
   },
   "file_extension": ".py",
   "mimetype": "text/x-python",
   "name": "python",
   "nbconvert_exporter": "python",
   "pygments_lexer": "ipython3",
   "version": "3.8.3"
  }
 },
 "nbformat": 4,
 "nbformat_minor": 4
}
